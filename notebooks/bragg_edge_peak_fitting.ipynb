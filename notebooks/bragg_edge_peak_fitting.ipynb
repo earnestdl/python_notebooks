{
 "cells": [
  {
   "cell_type": "markdown",
   "metadata": {
    "run_control": {
     "frozen": false,
     "read_only": false
    }
   },
   "source": [
    "[![Notebook Tutorial](__code/__all/notebook_tutorial.png)](https://neutronimaging.pages.ornl.gov/tutorial/notebooks/bragg_edge_peak_fitting/#activate-search)\n",
    "<img src='__docs/__all/notebook_rules.png' />"
   ]
  },
  {
   "cell_type": "markdown",
   "metadata": {
    "run_control": {
     "frozen": false,
     "read_only": false
    }
   },
   "source": [
    "# Select Your IPTS "
   ]
  },
  {
   "cell_type": "code",
   "execution_count": 1,
   "metadata": {
    "run_control": {
     "frozen": false,
     "read_only": false
    }
   },
   "outputs": [
    {
     "data": {
      "text/html": [
       "\n",
       "<style type=\"text/css\">\n",
       ".jupyter-widgets select option {font-family: \"Lucida Console\", Monaco, monospace;}\n",
       ".jupyter-widgets select {width: 98%;}\n",
       "div.output_subarea {padding: 0px;}\n",
       "div.output_subarea > div {margin: 0.4em;}\n",
       "</style>\n"
      ],
      "text/plain": [
       "<IPython.core.display.HTML object>"
      ]
     },
     "metadata": {},
     "output_type": "display_data"
    },
    {
     "data": {
      "text/html": [
       "\n",
       "<style type=\"text/css\">\n",
       ".jupyter-widgets select option {font-family: \"Lucida Console\", Monaco, monospace;}\n",
       "div.output_subarea {padding: 0px;}\n",
       "div.output_subarea > div {margin: 0.4em;}\n",
       "</style>\n"
      ],
      "text/plain": [
       "<IPython.core.display.HTML object>"
      ]
     },
     "metadata": {},
     "output_type": "display_data"
    },
    {
     "data": {
      "text/html": [
       "\n",
       "                       <style>\n",
       "                       .result_label {\n",
       "                          font-style: bold;\n",
       "                          color: red;\n",
       "                          font-size: 18px;\n",
       "                       }\n",
       "                       </style>\n",
       "                       "
      ],
      "text/plain": [
       "<IPython.core.display.HTML object>"
      ]
     },
     "metadata": {},
     "output_type": "display_data"
    },
    {
     "name": "stdout",
     "output_type": "stream",
     "text": [
      "** Using Debugging Mode! **\n"
     ]
    },
    {
     "data": {
      "application/vnd.jupyter.widget-view+json": {
       "model_id": "20fca00f9dcb469c9c4817bc1d7dd4e6",
       "version_major": 2,
       "version_minor": 0
      },
      "text/plain": [
       "VBox(children=(HBox(children=(Label(value='Select Instrument', layout=Layout(width='20%')), Select(layout=Layo…"
      ]
     },
     "metadata": {},
     "output_type": "display_data"
    },
    {
     "data": {
      "text/html": [
       "<style>\n",
       "\n",
       "/* The following CSS has been adapted from\n",
       "   http://nbviewer.ipython.org/github/ketch/teaching-numerics-with-notebooks/blob/master/Styling_notebooks.ipynb\n",
       "   by Aron Ahmadia and David Ketcheson and has been reused under CC BY 4.0\n",
       "   */\n",
       "\n",
       "/* main background */\n",
       "#site { \n",
       "    background: #888;\n",
       "    color: #red; \n",
       "}\n",
       "\n",
       "div.container {\n",
       "    width: 100% ! important;\n",
       "}\n",
       "\n",
       "div.cell { /* set cell width to about 80 chars */\n",
       "    width: 95%;\n",
       "}\n",
       "\n",
       "div #notebook { /* centre the content */\n",
       "/*    background: #fff; /* white background for content */\n",
       "    background: blue;\n",
       "    width: 100%;\n",
       "    margin: auto;\n",
       "    padding-left: 1em;\n",
       "    padding-right: 1em;\n",
       "    background-image: url(\"tile_background.jpg\");\n",
       "}\n",
       "\n",
       "#notebook li { /* More space between bullet points */\n",
       "    margin-top:0.4em;\n",
       "}\n",
       "\n",
       "/* change background color of running cells */\n",
       "div.cell.code_cell.running {\n",
       "/*    background-color: rgba(164,188,194,.75); */\n",
       "    background-color: green;\n",
       "    border-width: 8px\n",
       "    border-style: solid\n",
       "    border-color: #111;\n",
       "}\n",
       "\n",
       "/* Put a solid color box around each cell and its output, visually linking them together */\n",
       "div.cell.code_cell {\n",
       "    background-color: rgba(164,188,194,.25); /* Continuum L Gray with alpha 0.25 */\n",
       "    border-radius: 10px; /* rounded borders */\n",
       "    padding: 1em;\n",
       "    margin-top: 1em;\n",
       "}\n",
       "\n",
       "div.text_cell_render{\n",
       "\tfont-family: Georgia, Times, 'Times New Roman', serif;\n",
       "    line-height: 110%;\n",
       "    font-size: 105%;\n",
       "    width: 95%;\n",
       "    margin-left: auto;\n",
       "    margin-right: auto;\n",
       "}\n",
       "\n",
       "\n",
       "/* Formatting for header cells */\n",
       ".text_cell_render h1 {\n",
       "\tfont-family: Arial, 'Helvetica Neue', Helvetica, sans-serif;\n",
       "    font-weight: 400;\n",
       "    font-size: 30pt;\n",
       "    line-height: 100%;\n",
       "    color: rgb(37,55,70); /* Continuum Blue*/\n",
       "    margin-bottom: 0.1em;\n",
       "    margin-top: 0.1em;\n",
       "    display: block;\n",
       "}\n",
       ".text_cell_render h2 {\n",
       "\tfont-family: Arial, 'Helvetica Neue', Helvetica, sans-serif;\n",
       "    font-weight: 700;\n",
       "    font-size: 22pt;\n",
       "    line-height: 100%;\n",
       "    color: rgb(37,55,70);\n",
       "    margin-bottom: 0.1em;\n",
       "    margin-top: 0.1em;\n",
       "    display: block;\n",
       "}\n",
       "\n",
       ".text_cell_render h3 {\n",
       "\tfont-family: Arial, 'Helvetica Neue', Helvetica, sans-serif;\n",
       "    margin-top:12px;\n",
       "    margin-bottom: 3px;\n",
       "    font-style: italic;\n",
       "    color: rgb(37, 55, 70);\n",
       "}\n",
       "\n",
       ".text_cell_render h4 {\n",
       "\tfont-family: Arial, 'Helvetica Neue', Helvetica, sans-serif;\n",
       "}\n",
       "\n",
       ".text_cell_render h5 {\n",
       "\tfont-family: Arial, 'Helvetica Neue', Helvetica, sans-serif;\n",
       "    font-weight: 300;\n",
       "    font-size: 14pt;\n",
       "    font-style: italic;\n",
       "    margin-bottom: .1em;\n",
       "    margin-top: 0.1em;\n",
       "    display: block;\n",
       "}\n",
       "\n",
       ".text_cell_render h6 {\n",
       "\tfont-family: Arial, 'Helvetica Neue', Helvetica, sans-serif;\n",
       "    font-weight: 300;\n",
       "    font-size: 10pt;\n",
       "    margin-bottom: 1px;\n",
       "    margin-top: 1px;\n",
       "}\n",
       "\n",
       ".CodeMirror{\n",
       "        font-family: \"PT Mono\", fixed;\n",
       "        font-size: 100%;\n",
       "}\n",
       "\n",
       "#notebook_panel { /* main background */\n",
       "    background-image: url(\"tile_background.jpg\");\n",
       "}\n",
       "\n",
       "\n",
       "\n",
       "\n",
       "</style>\n"
      ],
      "text/plain": [
       "<IPython.core.display.HTML object>"
      ]
     },
     "execution_count": 1,
     "metadata": {},
     "output_type": "execute_result"
    }
   ],
   "source": [
    "from __code import system\n",
    "from __code.bragg_edge.bragg_edge_peak_fitting import BraggEdge, Interface\n",
    "\n",
    "system.System.select_working_dir(facility='SNS', instrument='VENUS')\n",
    "from __code.__all import custom_style\n",
    "custom_style.style()\n",
    "\n",
    "# from plotly.offline import plot, init_notebook_mode, iplot\n",
    "# init_notebook_mode()"
   ]
  },
  {
   "cell_type": "markdown",
   "metadata": {},
   "source": [
    "## Prepare UI engine "
   ]
  },
  {
   "cell_type": "code",
   "execution_count": 2,
   "metadata": {
    "run_control": {
     "frozen": false,
     "read_only": false
    }
   },
   "outputs": [],
   "source": [
    "%gui qt"
   ]
  },
  {
   "cell_type": "markdown",
   "metadata": {
    "run_control": {
     "frozen": false,
     "read_only": false
    }
   },
   "source": [
    "# Select Normalized Data Input Folder\n",
    "\n",
    "Data and time spectra files will be loaded"
   ]
  },
  {
   "cell_type": "code",
   "execution_count": 3,
   "metadata": {
    "run_control": {
     "frozen": false,
     "read_only": false
    }
   },
   "outputs": [
    {
     "data": {
      "application/vnd.jupyter.widget-view+json": {
       "model_id": "",
       "version_major": 2,
       "version_minor": 0
      },
      "text/plain": [
       "VBox(children=(Label(value='Select Data Folder ...', layout=Layout(width='250px')), VBox(children=(HBox(childr…"
      ]
     },
     "metadata": {},
     "output_type": "display_data"
    },
    {
     "data": {
      "application/vnd.jupyter.widget-view+json": {
       "model_id": "",
       "version_major": 2,
       "version_minor": 0
      },
      "text/plain": [
       "HBox(children=(Label(value='Loading sample', layout=Layout(width='20%')), IntProgress(value=0, max=1485), Labe…"
      ]
     },
     "metadata": {},
     "output_type": "display_data"
    },
    {
     "data": {
      "text/html": [
       "<span style=\"font-size: 15px; color:blue\">1485 files have been loaded as sample</span>"
      ],
      "text/plain": [
       "<IPython.core.display.HTML object>"
      ]
     },
     "metadata": {},
     "output_type": "display_data"
    },
    {
     "data": {
      "text/html": [
       "<span style=\"font-size: 15px; color:blue\"> Spectra File automatically located: /Users/j35/IPTS/VENUS/IPTS-25778_normalized/Image019_Spectra.txt</span>"
      ],
      "text/plain": [
       "<IPython.core.display.HTML object>"
      ]
     },
     "metadata": {},
     "output_type": "display_data"
    }
   ],
   "source": [
    "o_bragg = BraggEdge(working_dir=system.System.get_working_dir())\n",
    "o_bragg.select_working_folder()"
   ]
  },
  {
   "cell_type": "markdown",
   "metadata": {},
   "source": [
    "# Select Open Beam Data Input folder "
   ]
  },
  {
   "cell_type": "code",
   "execution_count": 4,
   "metadata": {
    "jupyter": {
     "outputs_hidden": true
    }
   },
   "outputs": [
    {
     "data": {
      "application/vnd.jupyter.widget-view+json": {
       "model_id": "",
       "version_major": 2,
       "version_minor": 0
      },
      "text/plain": [
       "VBox(children=(Label(value='Select OB Folder ...', layout=Layout(width='250px')), VBox(children=(HBox(children…"
      ]
     },
     "metadata": {},
     "output_type": "display_data"
    },
    {
     "data": {
      "application/vnd.jupyter.widget-view+json": {
       "model_id": "",
       "version_major": 2,
       "version_minor": 0
      },
      "text/plain": [
       "HBox(children=(Label(value='Loading ob', layout=Layout(width='20%')), IntProgress(value=0, max=1484), Label(va…"
      ]
     },
     "metadata": {},
     "output_type": "display_data"
    },
    {
     "data": {
      "text/html": [
       "<span style=\"font-size: 15px; color:blue\">1484 files have been loaded as ob</span>"
      ],
      "text/plain": [
       "<IPython.core.display.HTML object>"
      ]
     },
     "metadata": {},
     "output_type": "display_data"
    },
    {
     "data": {
      "text/html": [
       "<span style=\"font-size: 15px; color:green\"> Truncated Sample array to match OB!</span>"
      ],
      "text/plain": [
       "<IPython.core.display.HTML object>"
      ]
     },
     "metadata": {},
     "output_type": "display_data"
    }
   ],
   "source": [
    "o_bragg.select_ob_folder()"
   ]
  },
  {
   "cell_type": "markdown",
   "metadata": {},
   "source": [
    "# Select sample region and peak to fit"
   ]
  },
  {
   "cell_type": "markdown",
   "metadata": {},
   "source": [
    "### Select how many random files to use to select region to fit"
   ]
  },
  {
   "cell_type": "code",
   "execution_count": 5,
   "metadata": {},
   "outputs": [
    {
     "data": {
      "application/vnd.jupyter.widget-view+json": {
       "model_id": "3ec9a8e80b6f4affa48a990893f3c66b",
       "version_major": 2,
       "version_minor": 0
      },
      "text/plain": [
       "VBox(children=(HBox(children=(Label(value='Nbr of images to use:', layout=Layout(width='15')), IntSlider(value…"
      ]
     },
     "metadata": {},
     "output_type": "display_data"
    }
   ],
   "source": [
    "o_bragg.how_many_data_to_use_to_select_sample_roi()"
   ]
  },
  {
   "cell_type": "markdown",
   "metadata": {},
   "source": [
    "### fit ui "
   ]
  },
  {
   "cell_type": "code",
   "execution_count": 6,
   "metadata": {},
   "outputs": [
    {
     "data": {
      "text/html": [
       "<span style=\"font-size: 20px; color:blue\">Check UI that poped up             (maybe hidden behind this browser!)</span>"
      ],
      "text/plain": [
       "<IPython.core.display.HTML object>"
      ]
     },
     "metadata": {},
     "output_type": "display_data"
    },
    {
     "name": "stderr",
     "output_type": "stream",
     "text": [
      "/Users/j35/git/python_notebooks/notebooks/__code/bragg_edge/peak_fitting_interface_initialization.py:59: RuntimeWarning:\n",
      "\n",
      "invalid value encountered in true_divide\n",
      "\n",
      "//miniconda3/envs/py36/lib/python3.6/site-packages/pyqtgraph/graphicsItems/PlotCurveItem.py:131: RuntimeWarning:\n",
      "\n",
      "All-NaN slice encountered\n",
      "\n"
     ]
    }
   ],
   "source": [
    "o_interface = Interface(o_bragg=o_bragg, spectra_file=o_bragg.spectra_file)\n",
    "o_interface.show()"
   ]
  },
  {
   "cell_type": "markdown",
   "metadata": {},
   "source": [
    "# DEBUGGING"
   ]
  },
  {
   "cell_type": "code",
   "execution_count": 1,
   "metadata": {},
   "outputs": [
    {
     "data": {
      "text/html": [
       "\n",
       "<style type=\"text/css\">\n",
       ".jupyter-widgets select option {font-family: \"Lucida Console\", Monaco, monospace;}\n",
       ".jupyter-widgets select {width: 98%;}\n",
       "div.output_subarea {padding: 0px;}\n",
       "div.output_subarea > div {margin: 0.4em;}\n",
       "</style>\n"
      ],
      "text/plain": [
       "<IPython.core.display.HTML object>"
      ]
     },
     "metadata": {},
     "output_type": "display_data"
    },
    {
     "data": {
      "text/html": [
       "\n",
       "<style type=\"text/css\">\n",
       ".jupyter-widgets select option {font-family: \"Lucida Console\", Monaco, monospace;}\n",
       "div.output_subarea {padding: 0px;}\n",
       "div.output_subarea > div {margin: 0.4em;}\n",
       "</style>\n"
      ],
      "text/plain": [
       "<IPython.core.display.HTML object>"
      ]
     },
     "metadata": {},
     "output_type": "display_data"
    }
   ],
   "source": [
    "from __code import system\n",
    "from __code.bragg_edge.bragg_edge_peak_fitting import BraggEdge, Interface"
   ]
  },
  {
   "cell_type": "code",
   "execution_count": 2,
   "metadata": {},
   "outputs": [],
   "source": [
    "%gui qt"
   ]
  },
  {
   "cell_type": "code",
   "execution_count": 3,
   "metadata": {},
   "outputs": [],
   "source": [
    "data_path = \"/Users/j35/IPTS/VENUS/IPTS-25778_normalized\"\n",
    "import glob\n",
    "import os\n",
    "list_data = glob.glob(data_path + \"*.tif\")\n",
    "spectra_file = os.path.join(data_path, \"Image019_Spectra.txt\")\n",
    "assert os.path.exists(spectra_file)"
   ]
  },
  {
   "cell_type": "code",
   "execution_count": 4,
   "metadata": {},
   "outputs": [
    {
     "data": {
      "application/vnd.jupyter.widget-view+json": {
       "model_id": "",
       "version_major": 2,
       "version_minor": 0
      },
      "text/plain": [
       "HBox(children=(Label(value='Loading sample', layout=Layout(width='20%')), IntProgress(value=0, max=1485), Labe…"
      ]
     },
     "metadata": {},
     "output_type": "display_data"
    },
    {
     "data": {
      "text/html": [
       "<span style=\"font-size: 15px; color:blue\">1485 files have been loaded as sample</span>"
      ],
      "text/plain": [
       "<IPython.core.display.HTML object>"
      ]
     },
     "metadata": {},
     "output_type": "display_data"
    },
    {
     "data": {
      "text/html": [
       "<span style=\"font-size: 15px; color:blue\"> Spectra File automatically located: /Users/j35/IPTS/VENUS/IPTS-25778_normalized/Image019_Spectra.txt</span>"
      ],
      "text/plain": [
       "<IPython.core.display.HTML object>"
      ]
     },
     "metadata": {},
     "output_type": "display_data"
    }
   ],
   "source": [
    "o_bragg = BraggEdge(working_dir=data_path)\n",
    "o_bragg.load_data(data_path)"
   ]
  },
  {
   "cell_type": "code",
   "execution_count": 5,
   "metadata": {},
   "outputs": [
    {
     "data": {
      "text/html": [
       "<span style=\"font-size: 20px; color:blue\">Check UI that poped up             (maybe hidden behind this browser!)</span>"
      ],
      "text/plain": [
       "<IPython.core.display.HTML object>"
      ]
     },
     "metadata": {},
     "output_type": "display_data"
    }
   ],
   "source": [
    "o_interface = Interface(o_bragg=o_bragg,\n",
    "                        working_dir=data_path,\n",
    "                        spectra_file=spectra_file)\n",
    "o_interface.show()"
   ]
  },
  {
   "cell_type": "code",
   "execution_count": 7,
   "metadata": {},
   "outputs": [],
   "source": [
    "x_axis = o_interface.debug_x_axis\n",
    "y_axis = o_interface.debug_y_axis\n",
    "a0 = o_interface.debug_a0\n",
    "b0 = o_interface.debug_b0"
   ]
  },
  {
   "cell_type": "code",
   "execution_count": 9,
   "metadata": {},
   "outputs": [],
   "source": [
    "import numpy as np\n",
    "def kropff_high_lambda(lda, a0, b0):\n",
    "    \"\"\"Equation 7.2 found in Development and application of Bragg edge neutron transmission\n",
    "    imaging on the IMAT beamline. Thesis by Ranggi Sahmura Ramadhan. June 2019\n",
    "    :param\n",
    "    lda (Lambda - Angstroms)\n",
    "    a0 parameter to fit\n",
    "    b0 parameter to fit\n",
    "    \"\"\"\n",
    "    if (a0 == np.NaN) or (b0 == np.NaN):\n",
    "        return None\n",
    "    exp_expression = np.exp(-(a0 + b0 * lda))\n",
    "    return exp_expression"
   ]
  },
  {
   "cell_type": "code",
   "execution_count": 10,
   "metadata": {},
   "outputs": [],
   "source": [
    "y_axis_fitted = kropff_high_lambda(x_axis, a0, b0)"
   ]
  },
  {
   "cell_type": "code",
   "execution_count": 11,
   "metadata": {},
   "outputs": [],
   "source": [
    "%matplotlib notebook\n",
    "import matplotlib.pyplot as plt"
   ]
  },
  {
   "cell_type": "code",
   "execution_count": 19,
   "metadata": {},
   "outputs": [
    {
     "data": {
      "application/javascript": [
       "/* Put everything inside the global mpl namespace */\n",
       "window.mpl = {};\n",
       "\n",
       "\n",
       "mpl.get_websocket_type = function() {\n",
       "    if (typeof(WebSocket) !== 'undefined') {\n",
       "        return WebSocket;\n",
       "    } else if (typeof(MozWebSocket) !== 'undefined') {\n",
       "        return MozWebSocket;\n",
       "    } else {\n",
       "        alert('Your browser does not have WebSocket support. ' +\n",
       "              'Please try Chrome, Safari or Firefox ≥ 6. ' +\n",
       "              'Firefox 4 and 5 are also supported but you ' +\n",
       "              'have to enable WebSockets in about:config.');\n",
       "    };\n",
       "}\n",
       "\n",
       "mpl.figure = function(figure_id, websocket, ondownload, parent_element) {\n",
       "    this.id = figure_id;\n",
       "\n",
       "    this.ws = websocket;\n",
       "\n",
       "    this.supports_binary = (this.ws.binaryType != undefined);\n",
       "\n",
       "    if (!this.supports_binary) {\n",
       "        var warnings = document.getElementById(\"mpl-warnings\");\n",
       "        if (warnings) {\n",
       "            warnings.style.display = 'block';\n",
       "            warnings.textContent = (\n",
       "                \"This browser does not support binary websocket messages. \" +\n",
       "                    \"Performance may be slow.\");\n",
       "        }\n",
       "    }\n",
       "\n",
       "    this.imageObj = new Image();\n",
       "\n",
       "    this.context = undefined;\n",
       "    this.message = undefined;\n",
       "    this.canvas = undefined;\n",
       "    this.rubberband_canvas = undefined;\n",
       "    this.rubberband_context = undefined;\n",
       "    this.format_dropdown = undefined;\n",
       "\n",
       "    this.image_mode = 'full';\n",
       "\n",
       "    this.root = $('<div/>');\n",
       "    this._root_extra_style(this.root)\n",
       "    this.root.attr('style', 'display: inline-block');\n",
       "\n",
       "    $(parent_element).append(this.root);\n",
       "\n",
       "    this._init_header(this);\n",
       "    this._init_canvas(this);\n",
       "    this._init_toolbar(this);\n",
       "\n",
       "    var fig = this;\n",
       "\n",
       "    this.waiting = false;\n",
       "\n",
       "    this.ws.onopen =  function () {\n",
       "            fig.send_message(\"supports_binary\", {value: fig.supports_binary});\n",
       "            fig.send_message(\"send_image_mode\", {});\n",
       "            if (mpl.ratio != 1) {\n",
       "                fig.send_message(\"set_dpi_ratio\", {'dpi_ratio': mpl.ratio});\n",
       "            }\n",
       "            fig.send_message(\"refresh\", {});\n",
       "        }\n",
       "\n",
       "    this.imageObj.onload = function() {\n",
       "            if (fig.image_mode == 'full') {\n",
       "                // Full images could contain transparency (where diff images\n",
       "                // almost always do), so we need to clear the canvas so that\n",
       "                // there is no ghosting.\n",
       "                fig.context.clearRect(0, 0, fig.canvas.width, fig.canvas.height);\n",
       "            }\n",
       "            fig.context.drawImage(fig.imageObj, 0, 0);\n",
       "        };\n",
       "\n",
       "    this.imageObj.onunload = function() {\n",
       "        fig.ws.close();\n",
       "    }\n",
       "\n",
       "    this.ws.onmessage = this._make_on_message_function(this);\n",
       "\n",
       "    this.ondownload = ondownload;\n",
       "}\n",
       "\n",
       "mpl.figure.prototype._init_header = function() {\n",
       "    var titlebar = $(\n",
       "        '<div class=\"ui-dialog-titlebar ui-widget-header ui-corner-all ' +\n",
       "        'ui-helper-clearfix\"/>');\n",
       "    var titletext = $(\n",
       "        '<div class=\"ui-dialog-title\" style=\"width: 100%; ' +\n",
       "        'text-align: center; padding: 3px;\"/>');\n",
       "    titlebar.append(titletext)\n",
       "    this.root.append(titlebar);\n",
       "    this.header = titletext[0];\n",
       "}\n",
       "\n",
       "\n",
       "\n",
       "mpl.figure.prototype._canvas_extra_style = function(canvas_div) {\n",
       "\n",
       "}\n",
       "\n",
       "\n",
       "mpl.figure.prototype._root_extra_style = function(canvas_div) {\n",
       "\n",
       "}\n",
       "\n",
       "mpl.figure.prototype._init_canvas = function() {\n",
       "    var fig = this;\n",
       "\n",
       "    var canvas_div = $('<div/>');\n",
       "\n",
       "    canvas_div.attr('style', 'position: relative; clear: both; outline: 0');\n",
       "\n",
       "    function canvas_keyboard_event(event) {\n",
       "        return fig.key_event(event, event['data']);\n",
       "    }\n",
       "\n",
       "    canvas_div.keydown('key_press', canvas_keyboard_event);\n",
       "    canvas_div.keyup('key_release', canvas_keyboard_event);\n",
       "    this.canvas_div = canvas_div\n",
       "    this._canvas_extra_style(canvas_div)\n",
       "    this.root.append(canvas_div);\n",
       "\n",
       "    var canvas = $('<canvas/>');\n",
       "    canvas.addClass('mpl-canvas');\n",
       "    canvas.attr('style', \"left: 0; top: 0; z-index: 0; outline: 0\")\n",
       "\n",
       "    this.canvas = canvas[0];\n",
       "    this.context = canvas[0].getContext(\"2d\");\n",
       "\n",
       "    var backingStore = this.context.backingStorePixelRatio ||\n",
       "\tthis.context.webkitBackingStorePixelRatio ||\n",
       "\tthis.context.mozBackingStorePixelRatio ||\n",
       "\tthis.context.msBackingStorePixelRatio ||\n",
       "\tthis.context.oBackingStorePixelRatio ||\n",
       "\tthis.context.backingStorePixelRatio || 1;\n",
       "\n",
       "    mpl.ratio = (window.devicePixelRatio || 1) / backingStore;\n",
       "\n",
       "    var rubberband = $('<canvas/>');\n",
       "    rubberband.attr('style', \"position: absolute; left: 0; top: 0; z-index: 1;\")\n",
       "\n",
       "    var pass_mouse_events = true;\n",
       "\n",
       "    canvas_div.resizable({\n",
       "        start: function(event, ui) {\n",
       "            pass_mouse_events = false;\n",
       "        },\n",
       "        resize: function(event, ui) {\n",
       "            fig.request_resize(ui.size.width, ui.size.height);\n",
       "        },\n",
       "        stop: function(event, ui) {\n",
       "            pass_mouse_events = true;\n",
       "            fig.request_resize(ui.size.width, ui.size.height);\n",
       "        },\n",
       "    });\n",
       "\n",
       "    function mouse_event_fn(event) {\n",
       "        if (pass_mouse_events)\n",
       "            return fig.mouse_event(event, event['data']);\n",
       "    }\n",
       "\n",
       "    rubberband.mousedown('button_press', mouse_event_fn);\n",
       "    rubberband.mouseup('button_release', mouse_event_fn);\n",
       "    // Throttle sequential mouse events to 1 every 20ms.\n",
       "    rubberband.mousemove('motion_notify', mouse_event_fn);\n",
       "\n",
       "    rubberband.mouseenter('figure_enter', mouse_event_fn);\n",
       "    rubberband.mouseleave('figure_leave', mouse_event_fn);\n",
       "\n",
       "    canvas_div.on(\"wheel\", function (event) {\n",
       "        event = event.originalEvent;\n",
       "        event['data'] = 'scroll'\n",
       "        if (event.deltaY < 0) {\n",
       "            event.step = 1;\n",
       "        } else {\n",
       "            event.step = -1;\n",
       "        }\n",
       "        mouse_event_fn(event);\n",
       "    });\n",
       "\n",
       "    canvas_div.append(canvas);\n",
       "    canvas_div.append(rubberband);\n",
       "\n",
       "    this.rubberband = rubberband;\n",
       "    this.rubberband_canvas = rubberband[0];\n",
       "    this.rubberband_context = rubberband[0].getContext(\"2d\");\n",
       "    this.rubberband_context.strokeStyle = \"#000000\";\n",
       "\n",
       "    this._resize_canvas = function(width, height) {\n",
       "        // Keep the size of the canvas, canvas container, and rubber band\n",
       "        // canvas in synch.\n",
       "        canvas_div.css('width', width)\n",
       "        canvas_div.css('height', height)\n",
       "\n",
       "        canvas.attr('width', width * mpl.ratio);\n",
       "        canvas.attr('height', height * mpl.ratio);\n",
       "        canvas.attr('style', 'width: ' + width + 'px; height: ' + height + 'px;');\n",
       "\n",
       "        rubberband.attr('width', width);\n",
       "        rubberband.attr('height', height);\n",
       "    }\n",
       "\n",
       "    // Set the figure to an initial 600x600px, this will subsequently be updated\n",
       "    // upon first draw.\n",
       "    this._resize_canvas(600, 600);\n",
       "\n",
       "    // Disable right mouse context menu.\n",
       "    $(this.rubberband_canvas).bind(\"contextmenu\",function(e){\n",
       "        return false;\n",
       "    });\n",
       "\n",
       "    function set_focus () {\n",
       "        canvas.focus();\n",
       "        canvas_div.focus();\n",
       "    }\n",
       "\n",
       "    window.setTimeout(set_focus, 100);\n",
       "}\n",
       "\n",
       "mpl.figure.prototype._init_toolbar = function() {\n",
       "    var fig = this;\n",
       "\n",
       "    var nav_element = $('<div/>');\n",
       "    nav_element.attr('style', 'width: 100%');\n",
       "    this.root.append(nav_element);\n",
       "\n",
       "    // Define a callback function for later on.\n",
       "    function toolbar_event(event) {\n",
       "        return fig.toolbar_button_onclick(event['data']);\n",
       "    }\n",
       "    function toolbar_mouse_event(event) {\n",
       "        return fig.toolbar_button_onmouseover(event['data']);\n",
       "    }\n",
       "\n",
       "    for(var toolbar_ind in mpl.toolbar_items) {\n",
       "        var name = mpl.toolbar_items[toolbar_ind][0];\n",
       "        var tooltip = mpl.toolbar_items[toolbar_ind][1];\n",
       "        var image = mpl.toolbar_items[toolbar_ind][2];\n",
       "        var method_name = mpl.toolbar_items[toolbar_ind][3];\n",
       "\n",
       "        if (!name) {\n",
       "            // put a spacer in here.\n",
       "            continue;\n",
       "        }\n",
       "        var button = $('<button/>');\n",
       "        button.addClass('ui-button ui-widget ui-state-default ui-corner-all ' +\n",
       "                        'ui-button-icon-only');\n",
       "        button.attr('role', 'button');\n",
       "        button.attr('aria-disabled', 'false');\n",
       "        button.click(method_name, toolbar_event);\n",
       "        button.mouseover(tooltip, toolbar_mouse_event);\n",
       "\n",
       "        var icon_img = $('<span/>');\n",
       "        icon_img.addClass('ui-button-icon-primary ui-icon');\n",
       "        icon_img.addClass(image);\n",
       "        icon_img.addClass('ui-corner-all');\n",
       "\n",
       "        var tooltip_span = $('<span/>');\n",
       "        tooltip_span.addClass('ui-button-text');\n",
       "        tooltip_span.html(tooltip);\n",
       "\n",
       "        button.append(icon_img);\n",
       "        button.append(tooltip_span);\n",
       "\n",
       "        nav_element.append(button);\n",
       "    }\n",
       "\n",
       "    var fmt_picker_span = $('<span/>');\n",
       "\n",
       "    var fmt_picker = $('<select/>');\n",
       "    fmt_picker.addClass('mpl-toolbar-option ui-widget ui-widget-content');\n",
       "    fmt_picker_span.append(fmt_picker);\n",
       "    nav_element.append(fmt_picker_span);\n",
       "    this.format_dropdown = fmt_picker[0];\n",
       "\n",
       "    for (var ind in mpl.extensions) {\n",
       "        var fmt = mpl.extensions[ind];\n",
       "        var option = $(\n",
       "            '<option/>', {selected: fmt === mpl.default_extension}).html(fmt);\n",
       "        fmt_picker.append(option);\n",
       "    }\n",
       "\n",
       "    // Add hover states to the ui-buttons\n",
       "    $( \".ui-button\" ).hover(\n",
       "        function() { $(this).addClass(\"ui-state-hover\");},\n",
       "        function() { $(this).removeClass(\"ui-state-hover\");}\n",
       "    );\n",
       "\n",
       "    var status_bar = $('<span class=\"mpl-message\"/>');\n",
       "    nav_element.append(status_bar);\n",
       "    this.message = status_bar[0];\n",
       "}\n",
       "\n",
       "mpl.figure.prototype.request_resize = function(x_pixels, y_pixels) {\n",
       "    // Request matplotlib to resize the figure. Matplotlib will then trigger a resize in the client,\n",
       "    // which will in turn request a refresh of the image.\n",
       "    this.send_message('resize', {'width': x_pixels, 'height': y_pixels});\n",
       "}\n",
       "\n",
       "mpl.figure.prototype.send_message = function(type, properties) {\n",
       "    properties['type'] = type;\n",
       "    properties['figure_id'] = this.id;\n",
       "    this.ws.send(JSON.stringify(properties));\n",
       "}\n",
       "\n",
       "mpl.figure.prototype.send_draw_message = function() {\n",
       "    if (!this.waiting) {\n",
       "        this.waiting = true;\n",
       "        this.ws.send(JSON.stringify({type: \"draw\", figure_id: this.id}));\n",
       "    }\n",
       "}\n",
       "\n",
       "\n",
       "mpl.figure.prototype.handle_save = function(fig, msg) {\n",
       "    var format_dropdown = fig.format_dropdown;\n",
       "    var format = format_dropdown.options[format_dropdown.selectedIndex].value;\n",
       "    fig.ondownload(fig, format);\n",
       "}\n",
       "\n",
       "\n",
       "mpl.figure.prototype.handle_resize = function(fig, msg) {\n",
       "    var size = msg['size'];\n",
       "    if (size[0] != fig.canvas.width || size[1] != fig.canvas.height) {\n",
       "        fig._resize_canvas(size[0], size[1]);\n",
       "        fig.send_message(\"refresh\", {});\n",
       "    };\n",
       "}\n",
       "\n",
       "mpl.figure.prototype.handle_rubberband = function(fig, msg) {\n",
       "    var x0 = msg['x0'] / mpl.ratio;\n",
       "    var y0 = (fig.canvas.height - msg['y0']) / mpl.ratio;\n",
       "    var x1 = msg['x1'] / mpl.ratio;\n",
       "    var y1 = (fig.canvas.height - msg['y1']) / mpl.ratio;\n",
       "    x0 = Math.floor(x0) + 0.5;\n",
       "    y0 = Math.floor(y0) + 0.5;\n",
       "    x1 = Math.floor(x1) + 0.5;\n",
       "    y1 = Math.floor(y1) + 0.5;\n",
       "    var min_x = Math.min(x0, x1);\n",
       "    var min_y = Math.min(y0, y1);\n",
       "    var width = Math.abs(x1 - x0);\n",
       "    var height = Math.abs(y1 - y0);\n",
       "\n",
       "    fig.rubberband_context.clearRect(\n",
       "        0, 0, fig.canvas.width / mpl.ratio, fig.canvas.height / mpl.ratio);\n",
       "\n",
       "    fig.rubberband_context.strokeRect(min_x, min_y, width, height);\n",
       "}\n",
       "\n",
       "mpl.figure.prototype.handle_figure_label = function(fig, msg) {\n",
       "    // Updates the figure title.\n",
       "    fig.header.textContent = msg['label'];\n",
       "}\n",
       "\n",
       "mpl.figure.prototype.handle_cursor = function(fig, msg) {\n",
       "    var cursor = msg['cursor'];\n",
       "    switch(cursor)\n",
       "    {\n",
       "    case 0:\n",
       "        cursor = 'pointer';\n",
       "        break;\n",
       "    case 1:\n",
       "        cursor = 'default';\n",
       "        break;\n",
       "    case 2:\n",
       "        cursor = 'crosshair';\n",
       "        break;\n",
       "    case 3:\n",
       "        cursor = 'move';\n",
       "        break;\n",
       "    }\n",
       "    fig.rubberband_canvas.style.cursor = cursor;\n",
       "}\n",
       "\n",
       "mpl.figure.prototype.handle_message = function(fig, msg) {\n",
       "    fig.message.textContent = msg['message'];\n",
       "}\n",
       "\n",
       "mpl.figure.prototype.handle_draw = function(fig, msg) {\n",
       "    // Request the server to send over a new figure.\n",
       "    fig.send_draw_message();\n",
       "}\n",
       "\n",
       "mpl.figure.prototype.handle_image_mode = function(fig, msg) {\n",
       "    fig.image_mode = msg['mode'];\n",
       "}\n",
       "\n",
       "mpl.figure.prototype.updated_canvas_event = function() {\n",
       "    // Called whenever the canvas gets updated.\n",
       "    this.send_message(\"ack\", {});\n",
       "}\n",
       "\n",
       "// A function to construct a web socket function for onmessage handling.\n",
       "// Called in the figure constructor.\n",
       "mpl.figure.prototype._make_on_message_function = function(fig) {\n",
       "    return function socket_on_message(evt) {\n",
       "        if (evt.data instanceof Blob) {\n",
       "            /* FIXME: We get \"Resource interpreted as Image but\n",
       "             * transferred with MIME type text/plain:\" errors on\n",
       "             * Chrome.  But how to set the MIME type?  It doesn't seem\n",
       "             * to be part of the websocket stream */\n",
       "            evt.data.type = \"image/png\";\n",
       "\n",
       "            /* Free the memory for the previous frames */\n",
       "            if (fig.imageObj.src) {\n",
       "                (window.URL || window.webkitURL).revokeObjectURL(\n",
       "                    fig.imageObj.src);\n",
       "            }\n",
       "\n",
       "            fig.imageObj.src = (window.URL || window.webkitURL).createObjectURL(\n",
       "                evt.data);\n",
       "            fig.updated_canvas_event();\n",
       "            fig.waiting = false;\n",
       "            return;\n",
       "        }\n",
       "        else if (typeof evt.data === 'string' && evt.data.slice(0, 21) == \"data:image/png;base64\") {\n",
       "            fig.imageObj.src = evt.data;\n",
       "            fig.updated_canvas_event();\n",
       "            fig.waiting = false;\n",
       "            return;\n",
       "        }\n",
       "\n",
       "        var msg = JSON.parse(evt.data);\n",
       "        var msg_type = msg['type'];\n",
       "\n",
       "        // Call the  \"handle_{type}\" callback, which takes\n",
       "        // the figure and JSON message as its only arguments.\n",
       "        try {\n",
       "            var callback = fig[\"handle_\" + msg_type];\n",
       "        } catch (e) {\n",
       "            console.log(\"No handler for the '\" + msg_type + \"' message type: \", msg);\n",
       "            return;\n",
       "        }\n",
       "\n",
       "        if (callback) {\n",
       "            try {\n",
       "                // console.log(\"Handling '\" + msg_type + \"' message: \", msg);\n",
       "                callback(fig, msg);\n",
       "            } catch (e) {\n",
       "                console.log(\"Exception inside the 'handler_\" + msg_type + \"' callback:\", e, e.stack, msg);\n",
       "            }\n",
       "        }\n",
       "    };\n",
       "}\n",
       "\n",
       "// from http://stackoverflow.com/questions/1114465/getting-mouse-location-in-canvas\n",
       "mpl.findpos = function(e) {\n",
       "    //this section is from http://www.quirksmode.org/js/events_properties.html\n",
       "    var targ;\n",
       "    if (!e)\n",
       "        e = window.event;\n",
       "    if (e.target)\n",
       "        targ = e.target;\n",
       "    else if (e.srcElement)\n",
       "        targ = e.srcElement;\n",
       "    if (targ.nodeType == 3) // defeat Safari bug\n",
       "        targ = targ.parentNode;\n",
       "\n",
       "    // jQuery normalizes the pageX and pageY\n",
       "    // pageX,Y are the mouse positions relative to the document\n",
       "    // offset() returns the position of the element relative to the document\n",
       "    var x = e.pageX - $(targ).offset().left;\n",
       "    var y = e.pageY - $(targ).offset().top;\n",
       "\n",
       "    return {\"x\": x, \"y\": y};\n",
       "};\n",
       "\n",
       "/*\n",
       " * return a copy of an object with only non-object keys\n",
       " * we need this to avoid circular references\n",
       " * http://stackoverflow.com/a/24161582/3208463\n",
       " */\n",
       "function simpleKeys (original) {\n",
       "  return Object.keys(original).reduce(function (obj, key) {\n",
       "    if (typeof original[key] !== 'object')\n",
       "        obj[key] = original[key]\n",
       "    return obj;\n",
       "  }, {});\n",
       "}\n",
       "\n",
       "mpl.figure.prototype.mouse_event = function(event, name) {\n",
       "    var canvas_pos = mpl.findpos(event)\n",
       "\n",
       "    if (name === 'button_press')\n",
       "    {\n",
       "        this.canvas.focus();\n",
       "        this.canvas_div.focus();\n",
       "    }\n",
       "\n",
       "    var x = canvas_pos.x * mpl.ratio;\n",
       "    var y = canvas_pos.y * mpl.ratio;\n",
       "\n",
       "    this.send_message(name, {x: x, y: y, button: event.button,\n",
       "                             step: event.step,\n",
       "                             guiEvent: simpleKeys(event)});\n",
       "\n",
       "    /* This prevents the web browser from automatically changing to\n",
       "     * the text insertion cursor when the button is pressed.  We want\n",
       "     * to control all of the cursor setting manually through the\n",
       "     * 'cursor' event from matplotlib */\n",
       "    event.preventDefault();\n",
       "    return false;\n",
       "}\n",
       "\n",
       "mpl.figure.prototype._key_event_extra = function(event, name) {\n",
       "    // Handle any extra behaviour associated with a key event\n",
       "}\n",
       "\n",
       "mpl.figure.prototype.key_event = function(event, name) {\n",
       "\n",
       "    // Prevent repeat events\n",
       "    if (name == 'key_press')\n",
       "    {\n",
       "        if (event.which === this._key)\n",
       "            return;\n",
       "        else\n",
       "            this._key = event.which;\n",
       "    }\n",
       "    if (name == 'key_release')\n",
       "        this._key = null;\n",
       "\n",
       "    var value = '';\n",
       "    if (event.ctrlKey && event.which != 17)\n",
       "        value += \"ctrl+\";\n",
       "    if (event.altKey && event.which != 18)\n",
       "        value += \"alt+\";\n",
       "    if (event.shiftKey && event.which != 16)\n",
       "        value += \"shift+\";\n",
       "\n",
       "    value += 'k';\n",
       "    value += event.which.toString();\n",
       "\n",
       "    this._key_event_extra(event, name);\n",
       "\n",
       "    this.send_message(name, {key: value,\n",
       "                             guiEvent: simpleKeys(event)});\n",
       "    return false;\n",
       "}\n",
       "\n",
       "mpl.figure.prototype.toolbar_button_onclick = function(name) {\n",
       "    if (name == 'download') {\n",
       "        this.handle_save(this, null);\n",
       "    } else {\n",
       "        this.send_message(\"toolbar_button\", {name: name});\n",
       "    }\n",
       "};\n",
       "\n",
       "mpl.figure.prototype.toolbar_button_onmouseover = function(tooltip) {\n",
       "    this.message.textContent = tooltip;\n",
       "};\n",
       "mpl.toolbar_items = [[\"Home\", \"Reset original view\", \"fa fa-home icon-home\", \"home\"], [\"Back\", \"Back to previous view\", \"fa fa-arrow-left icon-arrow-left\", \"back\"], [\"Forward\", \"Forward to next view\", \"fa fa-arrow-right icon-arrow-right\", \"forward\"], [\"\", \"\", \"\", \"\"], [\"Pan\", \"Pan axes with left mouse, zoom with right\", \"fa fa-arrows icon-move\", \"pan\"], [\"Zoom\", \"Zoom to rectangle\", \"fa fa-square-o icon-check-empty\", \"zoom\"], [\"\", \"\", \"\", \"\"], [\"Download\", \"Download plot\", \"fa fa-floppy-o icon-save\", \"download\"]];\n",
       "\n",
       "mpl.extensions = [\"eps\", \"jpeg\", \"pdf\", \"png\", \"ps\", \"raw\", \"svg\", \"tif\"];\n",
       "\n",
       "mpl.default_extension = \"png\";var comm_websocket_adapter = function(comm) {\n",
       "    // Create a \"websocket\"-like object which calls the given IPython comm\n",
       "    // object with the appropriate methods. Currently this is a non binary\n",
       "    // socket, so there is still some room for performance tuning.\n",
       "    var ws = {};\n",
       "\n",
       "    ws.close = function() {\n",
       "        comm.close()\n",
       "    };\n",
       "    ws.send = function(m) {\n",
       "        //console.log('sending', m);\n",
       "        comm.send(m);\n",
       "    };\n",
       "    // Register the callback with on_msg.\n",
       "    comm.on_msg(function(msg) {\n",
       "        //console.log('receiving', msg['content']['data'], msg);\n",
       "        // Pass the mpl event to the overridden (by mpl) onmessage function.\n",
       "        ws.onmessage(msg['content']['data'])\n",
       "    });\n",
       "    return ws;\n",
       "}\n",
       "\n",
       "mpl.mpl_figure_comm = function(comm, msg) {\n",
       "    // This is the function which gets called when the mpl process\n",
       "    // starts-up an IPython Comm through the \"matplotlib\" channel.\n",
       "\n",
       "    var id = msg.content.data.id;\n",
       "    // Get hold of the div created by the display call when the Comm\n",
       "    // socket was opened in Python.\n",
       "    var element = $(\"#\" + id);\n",
       "    var ws_proxy = comm_websocket_adapter(comm)\n",
       "\n",
       "    function ondownload(figure, format) {\n",
       "        window.open(figure.imageObj.src);\n",
       "    }\n",
       "\n",
       "    var fig = new mpl.figure(id, ws_proxy,\n",
       "                           ondownload,\n",
       "                           element.get(0));\n",
       "\n",
       "    // Call onopen now - mpl needs it, as it is assuming we've passed it a real\n",
       "    // web socket which is closed, not our websocket->open comm proxy.\n",
       "    ws_proxy.onopen();\n",
       "\n",
       "    fig.parent_element = element.get(0);\n",
       "    fig.cell_info = mpl.find_output_cell(\"<div id='\" + id + \"'></div>\");\n",
       "    if (!fig.cell_info) {\n",
       "        console.error(\"Failed to find cell for figure\", id, fig);\n",
       "        return;\n",
       "    }\n",
       "\n",
       "    var output_index = fig.cell_info[2]\n",
       "    var cell = fig.cell_info[0];\n",
       "\n",
       "};\n",
       "\n",
       "mpl.figure.prototype.handle_close = function(fig, msg) {\n",
       "    var width = fig.canvas.width/mpl.ratio\n",
       "    fig.root.unbind('remove')\n",
       "\n",
       "    // Update the output cell to use the data from the current canvas.\n",
       "    fig.push_to_output();\n",
       "    var dataURL = fig.canvas.toDataURL();\n",
       "    // Re-enable the keyboard manager in IPython - without this line, in FF,\n",
       "    // the notebook keyboard shortcuts fail.\n",
       "    IPython.keyboard_manager.enable()\n",
       "    $(fig.parent_element).html('<img src=\"' + dataURL + '\" width=\"' + width + '\">');\n",
       "    fig.close_ws(fig, msg);\n",
       "}\n",
       "\n",
       "mpl.figure.prototype.close_ws = function(fig, msg){\n",
       "    fig.send_message('closing', msg);\n",
       "    // fig.ws.close()\n",
       "}\n",
       "\n",
       "mpl.figure.prototype.push_to_output = function(remove_interactive) {\n",
       "    // Turn the data on the canvas into data in the output cell.\n",
       "    var width = this.canvas.width/mpl.ratio\n",
       "    var dataURL = this.canvas.toDataURL();\n",
       "    this.cell_info[1]['text/html'] = '<img src=\"' + dataURL + '\" width=\"' + width + '\">';\n",
       "}\n",
       "\n",
       "mpl.figure.prototype.updated_canvas_event = function() {\n",
       "    // Tell IPython that the notebook contents must change.\n",
       "    IPython.notebook.set_dirty(true);\n",
       "    this.send_message(\"ack\", {});\n",
       "    var fig = this;\n",
       "    // Wait a second, then push the new image to the DOM so\n",
       "    // that it is saved nicely (might be nice to debounce this).\n",
       "    setTimeout(function () { fig.push_to_output() }, 1000);\n",
       "}\n",
       "\n",
       "mpl.figure.prototype._init_toolbar = function() {\n",
       "    var fig = this;\n",
       "\n",
       "    var nav_element = $('<div/>');\n",
       "    nav_element.attr('style', 'width: 100%');\n",
       "    this.root.append(nav_element);\n",
       "\n",
       "    // Define a callback function for later on.\n",
       "    function toolbar_event(event) {\n",
       "        return fig.toolbar_button_onclick(event['data']);\n",
       "    }\n",
       "    function toolbar_mouse_event(event) {\n",
       "        return fig.toolbar_button_onmouseover(event['data']);\n",
       "    }\n",
       "\n",
       "    for(var toolbar_ind in mpl.toolbar_items){\n",
       "        var name = mpl.toolbar_items[toolbar_ind][0];\n",
       "        var tooltip = mpl.toolbar_items[toolbar_ind][1];\n",
       "        var image = mpl.toolbar_items[toolbar_ind][2];\n",
       "        var method_name = mpl.toolbar_items[toolbar_ind][3];\n",
       "\n",
       "        if (!name) { continue; };\n",
       "\n",
       "        var button = $('<button class=\"btn btn-default\" href=\"#\" title=\"' + name + '\"><i class=\"fa ' + image + ' fa-lg\"></i></button>');\n",
       "        button.click(method_name, toolbar_event);\n",
       "        button.mouseover(tooltip, toolbar_mouse_event);\n",
       "        nav_element.append(button);\n",
       "    }\n",
       "\n",
       "    // Add the status bar.\n",
       "    var status_bar = $('<span class=\"mpl-message\" style=\"text-align:right; float: right;\"/>');\n",
       "    nav_element.append(status_bar);\n",
       "    this.message = status_bar[0];\n",
       "\n",
       "    // Add the close button to the window.\n",
       "    var buttongrp = $('<div class=\"btn-group inline pull-right\"></div>');\n",
       "    var button = $('<button class=\"btn btn-mini btn-primary\" href=\"#\" title=\"Stop Interaction\"><i class=\"fa fa-power-off icon-remove icon-large\"></i></button>');\n",
       "    button.click(function (evt) { fig.handle_close(fig, {}); } );\n",
       "    button.mouseover('Stop Interaction', toolbar_mouse_event);\n",
       "    buttongrp.append(button);\n",
       "    var titlebar = this.root.find($('.ui-dialog-titlebar'));\n",
       "    titlebar.prepend(buttongrp);\n",
       "}\n",
       "\n",
       "mpl.figure.prototype._root_extra_style = function(el){\n",
       "    var fig = this\n",
       "    el.on(\"remove\", function(){\n",
       "\tfig.close_ws(fig, {});\n",
       "    });\n",
       "}\n",
       "\n",
       "mpl.figure.prototype._canvas_extra_style = function(el){\n",
       "    // this is important to make the div 'focusable\n",
       "    el.attr('tabindex', 0)\n",
       "    // reach out to IPython and tell the keyboard manager to turn it's self\n",
       "    // off when our div gets focus\n",
       "\n",
       "    // location in version 3\n",
       "    if (IPython.notebook.keyboard_manager) {\n",
       "        IPython.notebook.keyboard_manager.register_events(el);\n",
       "    }\n",
       "    else {\n",
       "        // location in version 2\n",
       "        IPython.keyboard_manager.register_events(el);\n",
       "    }\n",
       "\n",
       "}\n",
       "\n",
       "mpl.figure.prototype._key_event_extra = function(event, name) {\n",
       "    var manager = IPython.notebook.keyboard_manager;\n",
       "    if (!manager)\n",
       "        manager = IPython.keyboard_manager;\n",
       "\n",
       "    // Check for shift+enter\n",
       "    if (event.shiftKey && event.which == 13) {\n",
       "        this.canvas_div.blur();\n",
       "        event.shiftKey = false;\n",
       "        // Send a \"J\" for go to next cell\n",
       "        event.which = 74;\n",
       "        event.keyCode = 74;\n",
       "        manager.command_mode();\n",
       "        manager.handle_keydown(event);\n",
       "    }\n",
       "}\n",
       "\n",
       "mpl.figure.prototype.handle_save = function(fig, msg) {\n",
       "    fig.ondownload(fig, null);\n",
       "}\n",
       "\n",
       "\n",
       "mpl.find_output_cell = function(html_output) {\n",
       "    // Return the cell and output element which can be found *uniquely* in the notebook.\n",
       "    // Note - this is a bit hacky, but it is done because the \"notebook_saving.Notebook\"\n",
       "    // IPython event is triggered only after the cells have been serialised, which for\n",
       "    // our purposes (turning an active figure into a static one), is too late.\n",
       "    var cells = IPython.notebook.get_cells();\n",
       "    var ncells = cells.length;\n",
       "    for (var i=0; i<ncells; i++) {\n",
       "        var cell = cells[i];\n",
       "        if (cell.cell_type === 'code'){\n",
       "            for (var j=0; j<cell.output_area.outputs.length; j++) {\n",
       "                var data = cell.output_area.outputs[j];\n",
       "                if (data.data) {\n",
       "                    // IPython >= 3 moved mimebundle to data attribute of output\n",
       "                    data = data.data;\n",
       "                }\n",
       "                if (data['text/html'] == html_output) {\n",
       "                    return [cell, data, j];\n",
       "                }\n",
       "            }\n",
       "        }\n",
       "    }\n",
       "}\n",
       "\n",
       "// Register the function which deals with the matplotlib target/channel.\n",
       "// The kernel may be null if the page has been refreshed.\n",
       "if (IPython.notebook.kernel != null) {\n",
       "    IPython.notebook.kernel.comm_manager.register_target('matplotlib', mpl.mpl_figure_comm);\n",
       "}\n"
      ],
      "text/plain": [
       "<IPython.core.display.Javascript object>"
      ]
     },
     "metadata": {},
     "output_type": "display_data"
    },
    {
     "data": {
      "text/html": [
       "<img src=\"data:image/png;base64,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\" width=\"640\">"
      ],
      "text/plain": [
       "<IPython.core.display.HTML object>"
      ]
     },
     "metadata": {},
     "output_type": "display_data"
    },
    {
     "data": {
      "text/plain": [
       "<matplotlib.legend.Legend at 0x7facf83ec198>"
      ]
     },
     "execution_count": 19,
     "metadata": {},
     "output_type": "execute_result"
    }
   ],
   "source": [
    "plt.plot(x_axis, y_axis_fitted, label='fitted')\n",
    "plt.plot(x_axis, y_axis, label='to fit')\n",
    "plt.legend()"
   ]
  },
  {
   "cell_type": "markdown",
   "metadata": {},
   "source": [
    "# DEBUGGING using import straight "
   ]
  },
  {
   "cell_type": "code",
   "execution_count": null,
   "metadata": {},
   "outputs": [],
   "source": [
    "from __code import system\n",
    "from __code.bragg_edge.bragg_edge_peak_fitting import BraggEdge, Interface"
   ]
  },
  {
   "cell_type": "code",
   "execution_count": null,
   "metadata": {},
   "outputs": [],
   "source": [
    "%gui qt"
   ]
  },
  {
   "cell_type": "code",
   "execution_count": null,
   "metadata": {},
   "outputs": [],
   "source": [
    "data_path = \"/Users/j35/IPTS/SNAP/Si_normalized\"\n",
    "o_interface = Interface(working_dir=data_path)\n",
    "o_interface.show()"
   ]
  },
  {
   "cell_type": "code",
   "execution_count": null,
   "metadata": {},
   "outputs": [],
   "source": []
  }
 ],
 "metadata": {
  "kernelspec": {
   "display_name": "Python 3",
   "language": "python",
   "name": "python3"
  },
  "language_info": {
   "codemirror_mode": {
    "name": "ipython",
    "version": 3
   },
   "file_extension": ".py",
   "mimetype": "text/x-python",
   "name": "python",
   "nbconvert_exporter": "python",
   "pygments_lexer": "ipython3",
   "version": "3.6.10"
  }
 },
 "nbformat": 4,
 "nbformat_minor": 4
}
