{
 "cells": [
  {
   "cell_type": "markdown",
   "metadata": {
    "run_control": {
     "frozen": false,
     "read_only": false
    }
   },
   "source": [
    "[![Notebook Tutorial](__code/__all/notebook_tutorial.png)](https://neutronimaging.pages.ornl.gov/tutorial/notebooks/hfir_reactor_element_analysis/)"
   ]
  },
  {
   "cell_type": "markdown",
   "metadata": {
    "run_control": {
     "frozen": false,
     "read_only": false
    }
   },
   "source": [
    "<img src='__docs/__all/notebook_rules.png' />"
   ]
  },
  {
   "cell_type": "markdown",
   "metadata": {
    "run_control": {
     "frozen": false,
     "read_only": false
    }
   },
   "source": [
    "# Select Your IPTS"
   ]
  },
  {
   "cell_type": "code",
   "execution_count": 1,
   "metadata": {
    "run_control": {
     "frozen": false,
     "read_only": false
    }
   },
   "outputs": [
    {
     "data": {
      "text/html": [
       "\n",
       "<style type=\"text/css\">\n",
       ".jupyter-widgets select option {font-family: \"Lucida Console\", Monaco, monospace;}\n",
       ".jupyter-widgets select {width: 98%;}\n",
       "div.output_subarea {padding: 0px;}\n",
       "div.output_subarea > div {margin: 0.4em;}\n",
       "</style>\n"
      ],
      "text/plain": [
       "<IPython.core.display.HTML object>"
      ]
     },
     "metadata": {},
     "output_type": "display_data"
    },
    {
     "data": {
      "text/html": [
       "\n",
       "                       <style>\n",
       "                       .result_label {\n",
       "                          font-style: bold;\n",
       "                          color: red;\n",
       "                          font-size: 18px;\n",
       "                       }\n",
       "                       </style>\n",
       "                       "
      ],
      "text/plain": [
       "<IPython.core.display.HTML object>"
      ]
     },
     "metadata": {},
     "output_type": "display_data"
    },
    {
     "name": "stdout",
     "output_type": "stream",
     "text": [
      "** Using Debugging Mode! **\n"
     ]
    },
    {
     "data": {
      "application/vnd.jupyter.widget-view+json": {
       "model_id": "cdc317b927b7436481ce0ed466ebffc4",
       "version_major": 2,
       "version_minor": 0
      },
      "text/plain": [
       "VBox(children=(HBox(children=(Label(value='Select Instrument', layout=Layout(width='20%')), Select(layout=Layo…"
      ]
     },
     "metadata": {},
     "output_type": "display_data"
    },
    {
     "data": {
      "text/html": [
       "<style>\n",
       "\n",
       "/* The following CSS has been adapted from\n",
       "   http://nbviewer.ipython.org/github/ketch/teaching-numerics-with-notebooks/blob/master/Styling_notebooks.ipynb\n",
       "   by Aron Ahmadia and David Ketcheson and has been reused under CC BY 4.0\n",
       "   */\n",
       "\n",
       "/* main background */\n",
       "#site { \n",
       "    background: #888;\n",
       "    color: #red; \n",
       "}\n",
       "\n",
       "div.container {\n",
       "    width: 100% ! important;\n",
       "}\n",
       "\n",
       "div.cell { /* set cell width to about 80 chars */\n",
       "    width: 95%;\n",
       "}\n",
       "\n",
       "div #notebook { /* centre the content */\n",
       "/*    background: #fff; /* white background for content */\n",
       "    background: blue;\n",
       "    width: 100%;\n",
       "    margin: auto;\n",
       "    padding-left: 1em;\n",
       "    padding-right: 1em;\n",
       "    background-image: url(\"tile_background.jpg\");\n",
       "}\n",
       "\n",
       "#notebook li { /* More space between bullet points */\n",
       "    margin-top:0.4em;\n",
       "}\n",
       "\n",
       "/* change background color of running cells */\n",
       "div.cell.code_cell.running {\n",
       "/*    background-color: rgba(164,188,194,.75); */\n",
       "    background-color: green;\n",
       "    border-width: 8px\n",
       "    border-style: solid\n",
       "    border-color: #111;\n",
       "}\n",
       "\n",
       "/* Put a solid color box around each cell and its output, visually linking them together */\n",
       "div.cell.code_cell {\n",
       "    background-color: rgba(164,188,194,.25); /* Continuum L Gray with alpha 0.25 */\n",
       "    border-radius: 10px; /* rounded borders */\n",
       "    padding: 1em;\n",
       "    margin-top: 1em;\n",
       "}\n",
       "\n",
       "div.text_cell_render{\n",
       "\tfont-family: Georgia, Times, 'Times New Roman', serif;\n",
       "    line-height: 110%;\n",
       "    font-size: 105%;\n",
       "    width: 95%;\n",
       "    margin-left: auto;\n",
       "    margin-right: auto;\n",
       "}\n",
       "\n",
       "\n",
       "/* Formatting for header cells */\n",
       ".text_cell_render h1 {\n",
       "\tfont-family: Arial, 'Helvetica Neue', Helvetica, sans-serif;\n",
       "    font-weight: 400;\n",
       "    font-size: 30pt;\n",
       "    line-height: 100%;\n",
       "    color: rgb(37,55,70); /* Continuum Blue*/\n",
       "    margin-bottom: 0.1em;\n",
       "    margin-top: 0.1em;\n",
       "    display: block;\n",
       "}\n",
       ".text_cell_render h2 {\n",
       "\tfont-family: Arial, 'Helvetica Neue', Helvetica, sans-serif;\n",
       "    font-weight: 700;\n",
       "    font-size: 22pt;\n",
       "    line-height: 100%;\n",
       "    color: rgb(37,55,70);\n",
       "    margin-bottom: 0.1em;\n",
       "    margin-top: 0.1em;\n",
       "    display: block;\n",
       "}\n",
       "\n",
       ".text_cell_render h3 {\n",
       "\tfont-family: Arial, 'Helvetica Neue', Helvetica, sans-serif;\n",
       "    margin-top:12px;\n",
       "    margin-bottom: 3px;\n",
       "    font-style: italic;\n",
       "    color: rgb(37, 55, 70);\n",
       "}\n",
       "\n",
       ".text_cell_render h4 {\n",
       "\tfont-family: Arial, 'Helvetica Neue', Helvetica, sans-serif;\n",
       "}\n",
       "\n",
       ".text_cell_render h5 {\n",
       "\tfont-family: Arial, 'Helvetica Neue', Helvetica, sans-serif;\n",
       "    font-weight: 300;\n",
       "    font-size: 14pt;\n",
       "    font-style: italic;\n",
       "    margin-bottom: .1em;\n",
       "    margin-top: 0.1em;\n",
       "    display: block;\n",
       "}\n",
       "\n",
       ".text_cell_render h6 {\n",
       "\tfont-family: Arial, 'Helvetica Neue', Helvetica, sans-serif;\n",
       "    font-weight: 300;\n",
       "    font-size: 10pt;\n",
       "    margin-bottom: 1px;\n",
       "    margin-top: 1px;\n",
       "}\n",
       "\n",
       ".CodeMirror{\n",
       "        font-family: \"PT Mono\", fixed;\n",
       "        font-size: 100%;\n",
       "}\n",
       "\n",
       "#notebook_panel { /* main background */\n",
       "    background-image: url(\"tile_background.jpg\");\n",
       "}\n",
       "\n",
       "\n",
       "\n",
       "\n",
       "</style>\n"
      ],
      "text/plain": [
       "<IPython.core.display.HTML object>"
      ]
     },
     "execution_count": 1,
     "metadata": {},
     "output_type": "execute_result"
    }
   ],
   "source": [
    "import warnings\n",
    "warnings.filterwarnings('ignore')\n",
    "\n",
    "from __code.hfir_reactor_element_analysis.hfir_reactor_element_analysis import HfirReactorElementAnalysis\n",
    "\n",
    "from __code import system\n",
    "system.System.select_working_dir()\n",
    "from __code.__all import custom_style\n",
    "custom_style.style()"
   ]
  },
  {
   "cell_type": "code",
   "execution_count": 2,
   "metadata": {
    "run_control": {
     "frozen": false,
     "read_only": false
    }
   },
   "outputs": [],
   "source": [
    "# %gui qt"
   ]
  },
  {
   "cell_type": "markdown",
   "metadata": {
    "run_control": {
     "frozen": false,
     "read_only": false
    }
   },
   "source": [
    "# Select ASCII file \n",
    "\n",
    "This file should have been created by the [circular_profile_of_a_ring](circular_profile_of_a_ring.ipynb) notebook."
   ]
  },
  {
   "cell_type": "code",
   "execution_count": 3,
   "metadata": {
    "run_control": {
     "frozen": false,
     "read_only": false
    }
   },
   "outputs": [
    {
     "data": {
      "application/vnd.jupyter.widget-view+json": {
       "model_id": "",
       "version_major": 2,
       "version_minor": 0
      },
      "text/plain": [
       "VBox(children=(Label(value='Select ASCII file ...', layout=Layout(width='250px')), VBox(children=(HBox(childre…"
      ]
     },
     "metadata": {},
     "output_type": "display_data"
    }
   ],
   "source": [
    "o_selection = HfirReactorElementAnalysis(working_dir=system.System.get_working_dir())\n",
    "o_selection.select_ascii_file()"
   ]
  },
  {
   "cell_type": "code",
   "execution_count": null,
   "metadata": {},
   "outputs": [],
   "source": []
  },
  {
   "cell_type": "markdown",
   "metadata": {},
   "source": [
    "# Debugging "
   ]
  },
  {
   "cell_type": "code",
   "execution_count": 1,
   "metadata": {},
   "outputs": [
    {
     "data": {
      "text/html": [
       "\n",
       "<style type=\"text/css\">\n",
       ".jupyter-widgets select option {font-family: \"Lucida Console\", Monaco, monospace;}\n",
       ".jupyter-widgets select {width: 98%;}\n",
       "div.output_subarea {padding: 0px;}\n",
       "div.output_subarea > div {margin: 0.4em;}\n",
       "</style>\n"
      ],
      "text/plain": [
       "<IPython.core.display.HTML object>"
      ]
     },
     "metadata": {},
     "output_type": "display_data"
    },
    {
     "name": "stderr",
     "output_type": "stream",
     "text": [
      "/Users/j35/git/python_notebooks/notebooks/__code/hfir_reactor_element_analysis/hfir_reactor_element_analysis.py:48: ParserWarning: Falling back to the 'python' engine because the 'c' engine does not support regex separators (separators > 1 char and different from '\\s+' are interpreted as regex); you can avoid this warning by specifying engine='python'.\n",
      "  index_col=0)\n"
     ]
    }
   ],
   "source": [
    "from __code.hfir_reactor_element_analysis.hfir_reactor_element_analysis import HfirReactorElementAnalysis\n",
    "from __code.hfir_reactor_element_analysis.interface_handler import InterfaceHandler\n",
    "import matplotlib.pyplot as plt\n",
    "# %matplotlib notebook\n",
    "\n",
    "ascii_file = \"/Users/j35/IPTS/HFIR-Reactor/HFIR-Reactor_profiles_top.csv\"\n",
    "o_selection = HfirReactorElementAnalysis(working_dir=\"/Users/j35/IPTS/HFIR-Reactor/\")\n",
    "o_selection.load_ascii(ascii_file)"
   ]
  },
  {
   "cell_type": "code",
   "execution_count": 2,
   "metadata": {},
   "outputs": [],
   "source": [
    "%gui qt"
   ]
  },
  {
   "cell_type": "code",
   "execution_count": 3,
   "metadata": {
    "scrolled": false
   },
   "outputs": [
    {
     "name": "stdout",
     "output_type": "stream",
     "text": [
      "from_angle: 0.0\n",
      "to_angle: 359.99\n",
      "(to_angle - from_angle) * NUMBER_OF_FUEL_ELEMENTS) / 360= 368.98975\n",
      "from_angle: 0.0\n",
      "to_angle: 359.99\n",
      "(to_angle - from_angle) * NUMBER_OF_FUEL_ELEMENTS) / 360= 368.98975\n",
      "from_angle: 0.0\n",
      "to_angle: 355.38\n",
      "(to_angle - from_angle) * NUMBER_OF_FUEL_ELEMENTS) / 360= 364.2645\n",
      "from_angle: 0.0\n",
      "to_angle: 359.99\n",
      "(to_angle - from_angle) * NUMBER_OF_FUEL_ELEMENTS) / 360= 368.98975\n",
      "from_angle: 0.0\n",
      "to_angle: 355.38\n",
      "(to_angle - from_angle) * NUMBER_OF_FUEL_ELEMENTS) / 360= 364.2645\n",
      "from_angle: 0.0\n",
      "to_angle: 350.76\n",
      "(to_angle - from_angle) * NUMBER_OF_FUEL_ELEMENTS) / 360= 359.529\n",
      "from_angle: 0.0\n",
      "to_angle: 346.1500000000001\n",
      "(to_angle - from_angle) * NUMBER_OF_FUEL_ELEMENTS) / 360= 354.8037500000001\n",
      "from_angle: 0.0\n",
      "to_angle: 341.54\n",
      "(to_angle - from_angle) * NUMBER_OF_FUEL_ELEMENTS) / 360= 350.0785\n",
      "from_angle: 0.0\n",
      "to_angle: 332.31\n",
      "(to_angle - from_angle) * NUMBER_OF_FUEL_ELEMENTS) / 360= 340.61775\n",
      "from_angle: 0.0\n",
      "to_angle: 327.7\n",
      "(to_angle - from_angle) * NUMBER_OF_FUEL_ELEMENTS) / 360= 335.8925\n",
      "from_angle: 0.0\n",
      "to_angle: 323.0900000000001\n",
      "(to_angle - from_angle) * NUMBER_OF_FUEL_ELEMENTS) / 360= 331.1672500000001\n",
      "from_angle: 0.0\n",
      "to_angle: 318.48\n",
      "(to_angle - from_angle) * NUMBER_OF_FUEL_ELEMENTS) / 360= 326.442\n",
      "from_angle: 0.0\n",
      "to_angle: 309.25\n",
      "(to_angle - from_angle) * NUMBER_OF_FUEL_ELEMENTS) / 360= 316.98125\n",
      "from_angle: 0.0\n",
      "to_angle: 304.64\n",
      "(to_angle - from_angle) * NUMBER_OF_FUEL_ELEMENTS) / 360= 312.256\n",
      "from_angle: 0.0\n",
      "to_angle: 300.0300000000001\n",
      "(to_angle - from_angle) * NUMBER_OF_FUEL_ELEMENTS) / 360= 307.5307500000001\n",
      "from_angle: 0.0\n",
      "to_angle: 295.41\n",
      "(to_angle - from_angle) * NUMBER_OF_FUEL_ELEMENTS) / 360= 302.79525\n",
      "from_angle: 0.0\n",
      "to_angle: 290.8\n",
      "(to_angle - from_angle) * NUMBER_OF_FUEL_ELEMENTS) / 360= 298.07\n",
      "from_angle: 0.0\n",
      "to_angle: 286.19\n",
      "(to_angle - from_angle) * NUMBER_OF_FUEL_ELEMENTS) / 360= 293.34475\n",
      "from_angle: 0.0\n",
      "to_angle: 281.57\n",
      "(to_angle - from_angle) * NUMBER_OF_FUEL_ELEMENTS) / 360= 288.60925000000003\n",
      "from_angle: 0.0\n",
      "to_angle: 276.96\n",
      "(to_angle - from_angle) * NUMBER_OF_FUEL_ELEMENTS) / 360= 283.88399999999996\n",
      "from_angle: 0.0\n",
      "to_angle: 272.35\n",
      "(to_angle - from_angle) * NUMBER_OF_FUEL_ELEMENTS) / 360= 279.15875\n",
      "from_angle: 0.0\n",
      "to_angle: 263.12\n",
      "(to_angle - from_angle) * NUMBER_OF_FUEL_ELEMENTS) / 360= 269.698\n",
      "from_angle: 0.0\n",
      "to_angle: 258.51\n",
      "(to_angle - from_angle) * NUMBER_OF_FUEL_ELEMENTS) / 360= 264.97275\n",
      "from_angle: 0.0\n",
      "to_angle: 249.29\n",
      "(to_angle - from_angle) * NUMBER_OF_FUEL_ELEMENTS) / 360= 255.52224999999999\n",
      "from_angle: 0.0\n",
      "to_angle: 244.67\n",
      "(to_angle - from_angle) * NUMBER_OF_FUEL_ELEMENTS) / 360= 250.78674999999998\n",
      "from_angle: 0.0\n",
      "to_angle: 240.06\n",
      "(to_angle - from_angle) * NUMBER_OF_FUEL_ELEMENTS) / 360= 246.0615\n",
      "from_angle: 0.0\n",
      "to_angle: 230.83\n",
      "(to_angle - from_angle) * NUMBER_OF_FUEL_ELEMENTS) / 360= 236.60075\n",
      "from_angle: 0.0\n",
      "to_angle: 221.61\n",
      "(to_angle - from_angle) * NUMBER_OF_FUEL_ELEMENTS) / 360= 227.15025000000003\n",
      "from_angle: 0.0\n",
      "to_angle: 217.0\n",
      "(to_angle - from_angle) * NUMBER_OF_FUEL_ELEMENTS) / 360= 222.425\n",
      "from_angle: 0.0\n",
      "to_angle: 212.38\n",
      "(to_angle - from_angle) * NUMBER_OF_FUEL_ELEMENTS) / 360= 217.6895\n",
      "from_angle: 0.0\n",
      "to_angle: 203.16\n",
      "(to_angle - from_angle) * NUMBER_OF_FUEL_ELEMENTS) / 360= 208.23899999999998\n",
      "from_angle: 0.0\n",
      "to_angle: 198.55\n",
      "(to_angle - from_angle) * NUMBER_OF_FUEL_ELEMENTS) / 360= 203.51375\n",
      "from_angle: 0.0\n",
      "to_angle: 193.93\n",
      "(to_angle - from_angle) * NUMBER_OF_FUEL_ELEMENTS) / 360= 198.77824999999999\n",
      "from_angle: 0.0\n",
      "to_angle: 184.71\n",
      "(to_angle - from_angle) * NUMBER_OF_FUEL_ELEMENTS) / 360= 189.32775\n",
      "from_angle: 0.0\n",
      "to_angle: 175.48\n",
      "(to_angle - from_angle) * NUMBER_OF_FUEL_ELEMENTS) / 360= 179.867\n",
      "from_angle: 0.0\n",
      "to_angle: 166.26\n",
      "(to_angle - from_angle) * NUMBER_OF_FUEL_ELEMENTS) / 360= 170.41649999999998\n",
      "from_angle: 0.0\n",
      "to_angle: 161.64\n",
      "(to_angle - from_angle) * NUMBER_OF_FUEL_ELEMENTS) / 360= 165.68099999999998\n",
      "from_angle: 0.0\n",
      "to_angle: 152.42000000000004\n",
      "(to_angle - from_angle) * NUMBER_OF_FUEL_ELEMENTS) / 360= 156.23050000000006\n",
      "from_angle: 0.0\n",
      "to_angle: 147.81\n",
      "(to_angle - from_angle) * NUMBER_OF_FUEL_ELEMENTS) / 360= 151.50525\n",
      "from_angle: 0.0\n",
      "to_angle: 143.19\n",
      "(to_angle - from_angle) * NUMBER_OF_FUEL_ELEMENTS) / 360= 146.76975\n",
      "from_angle: 0.0\n",
      "to_angle: 138.58\n",
      "(to_angle - from_angle) * NUMBER_OF_FUEL_ELEMENTS) / 360= 142.0445\n",
      "from_angle: 0.0\n",
      "to_angle: 133.97\n",
      "(to_angle - from_angle) * NUMBER_OF_FUEL_ELEMENTS) / 360= 137.31925\n",
      "from_angle: 0.0\n",
      "to_angle: 129.36\n",
      "(to_angle - from_angle) * NUMBER_OF_FUEL_ELEMENTS) / 360= 132.59400000000002\n",
      "from_angle: 0.0\n",
      "to_angle: 120.13\n",
      "(to_angle - from_angle) * NUMBER_OF_FUEL_ELEMENTS) / 360= 123.13325\n",
      "from_angle: 0.0\n",
      "to_angle: 106.29\n",
      "(to_angle - from_angle) * NUMBER_OF_FUEL_ELEMENTS) / 360= 108.94725000000001\n",
      "from_angle: 0.0\n",
      "to_angle: 97.07\n",
      "(to_angle - from_angle) * NUMBER_OF_FUEL_ELEMENTS) / 360= 99.49674999999999\n",
      "from_angle: 0.0\n",
      "to_angle: 87.84\n",
      "(to_angle - from_angle) * NUMBER_OF_FUEL_ELEMENTS) / 360= 90.036\n",
      "from_angle: 0.0\n",
      "to_angle: 78.62\n",
      "(to_angle - from_angle) * NUMBER_OF_FUEL_ELEMENTS) / 360= 80.58550000000001\n",
      "from_angle: 0.0\n",
      "to_angle: 60.17\n",
      "(to_angle - from_angle) * NUMBER_OF_FUEL_ELEMENTS) / 360= 61.67425\n",
      "from_angle: 0.0\n",
      "to_angle: 50.94\n",
      "(to_angle - from_angle) * NUMBER_OF_FUEL_ELEMENTS) / 360= 52.2135\n",
      "from_angle: 0.0\n",
      "to_angle: 46.33\n",
      "(to_angle - from_angle) * NUMBER_OF_FUEL_ELEMENTS) / 360= 47.48825\n",
      "from_angle: 0.0\n",
      "to_angle: 41.71\n",
      "(to_angle - from_angle) * NUMBER_OF_FUEL_ELEMENTS) / 360= 42.75275\n",
      "from_angle: 0.0\n",
      "to_angle: 37.1\n",
      "(to_angle - from_angle) * NUMBER_OF_FUEL_ELEMENTS) / 360= 38.027499999999996\n",
      "from_angle: 0.0\n",
      "to_angle: 27.88\n",
      "(to_angle - from_angle) * NUMBER_OF_FUEL_ELEMENTS) / 360= 28.576999999999998\n",
      "from_angle: 0.0\n",
      "to_angle: 18.65\n",
      "(to_angle - from_angle) * NUMBER_OF_FUEL_ELEMENTS) / 360= 19.116249999999997\n",
      "from_angle: 0.0\n",
      "to_angle: 4.8100000000000005\n",
      "(to_angle - from_angle) * NUMBER_OF_FUEL_ELEMENTS) / 360= 4.93025\n",
      "from_angle: 0.0\n",
      "to_angle: 4.8100000000000005\n",
      "(to_angle - from_angle) * NUMBER_OF_FUEL_ELEMENTS) / 360= 4.93025\n",
      "from_angle: 0.0\n",
      "to_angle: 0.2\n",
      "(to_angle - from_angle) * NUMBER_OF_FUEL_ELEMENTS) / 360= 0.205\n",
      "from_angle: 0.0\n",
      "to_angle: 4.8100000000000005\n",
      "(to_angle - from_angle) * NUMBER_OF_FUEL_ELEMENTS) / 360= 4.93025\n",
      "from_angle: 0.0\n",
      "to_angle: 9.43\n",
      "(to_angle - from_angle) * NUMBER_OF_FUEL_ELEMENTS) / 360= 9.665750000000001\n",
      "from_angle: 0.0\n",
      "to_angle: 14.04\n",
      "(to_angle - from_angle) * NUMBER_OF_FUEL_ELEMENTS) / 360= 14.390999999999998\n",
      "from_angle: 0.0\n",
      "to_angle: 18.65\n",
      "(to_angle - from_angle) * NUMBER_OF_FUEL_ELEMENTS) / 360= 19.116249999999997\n",
      "from_angle: 0.0\n",
      "to_angle: 14.04\n",
      "(to_angle - from_angle) * NUMBER_OF_FUEL_ELEMENTS) / 360= 14.390999999999998\n",
      "from_angle: 0.0\n",
      "to_angle: 9.43\n",
      "(to_angle - from_angle) * NUMBER_OF_FUEL_ELEMENTS) / 360= 9.665750000000001\n",
      "from_angle: 0.0\n",
      "to_angle: 4.8100000000000005\n",
      "(to_angle - from_angle) * NUMBER_OF_FUEL_ELEMENTS) / 360= 4.93025\n",
      "from_angle: 0.0\n",
      "to_angle: 4.8100000000000005\n",
      "(to_angle - from_angle) * NUMBER_OF_FUEL_ELEMENTS) / 360= 4.93025\n",
      "from_angle: 0.0\n",
      "to_angle: 0.2\n",
      "(to_angle - from_angle) * NUMBER_OF_FUEL_ELEMENTS) / 360= 0.205\n",
      "from_angle: 0.0\n",
      "to_angle: 4.8100000000000005\n",
      "(to_angle - from_angle) * NUMBER_OF_FUEL_ELEMENTS) / 360= 4.93025\n",
      "from_angle: 0.0\n",
      "to_angle: 9.43\n",
      "(to_angle - from_angle) * NUMBER_OF_FUEL_ELEMENTS) / 360= 9.665750000000001\n",
      "from_angle: 0.0\n",
      "to_angle: 4.8100000000000005\n",
      "(to_angle - from_angle) * NUMBER_OF_FUEL_ELEMENTS) / 360= 4.93025\n",
      "from_angle: 0.0\n",
      "to_angle: 4.8100000000000005\n",
      "(to_angle - from_angle) * NUMBER_OF_FUEL_ELEMENTS) / 360= 4.93025\n",
      "from_angle: 0.0\n",
      "to_angle: 0.2\n",
      "(to_angle - from_angle) * NUMBER_OF_FUEL_ELEMENTS) / 360= 0.205\n",
      "from_angle: 0.0\n",
      "to_angle: 4.8100000000000005\n",
      "(to_angle - from_angle) * NUMBER_OF_FUEL_ELEMENTS) / 360= 4.93025\n",
      "from_angle: 0.0\n",
      "to_angle: 9.43\n",
      "(to_angle - from_angle) * NUMBER_OF_FUEL_ELEMENTS) / 360= 9.665750000000001\n"
     ]
    }
   ],
   "source": [
    "o_select = InterfaceHandler(working_dir=\"./\", \n",
    "                            o_selection=o_selection)"
   ]
  },
  {
   "cell_type": "code",
   "execution_count": null,
   "metadata": {},
   "outputs": [],
   "source": []
  }
 ],
 "metadata": {
  "anaconda-cloud": {},
  "kernelspec": {
   "display_name": "Python 3",
   "language": "python",
   "name": "python3"
  },
  "language_info": {
   "codemirror_mode": {
    "name": "ipython",
    "version": 3
   },
   "file_extension": ".py",
   "mimetype": "text/x-python",
   "name": "python",
   "nbconvert_exporter": "python",
   "pygments_lexer": "ipython3",
   "version": "3.6.10"
  },
  "toc": {
   "colors": {
    "hover_highlight": "#DAA520",
    "running_highlight": "#FF0000",
    "selected_highlight": "#FFD700"
   },
   "moveMenuLeft": true,
   "nav_menu": {
    "height": "12px",
    "width": "252px"
   },
   "navigate_menu": true,
   "number_sections": true,
   "sideBar": true,
   "threshold": 4,
   "toc_cell": false,
   "toc_section_display": "block",
   "toc_window_display": false
  }
 },
 "nbformat": 4,
 "nbformat_minor": 1
}
