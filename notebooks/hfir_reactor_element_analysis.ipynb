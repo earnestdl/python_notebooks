{
 "cells": [
  {
   "cell_type": "markdown",
   "metadata": {
    "run_control": {
     "frozen": false,
     "read_only": false
    }
   },
   "source": [
    "[![Notebook Tutorial](__code/__all/notebook_tutorial.png)](https://neutronimaging.pages.ornl.gov/tutorial/notebooks/hfir_reactor_element_analysis/)"
   ]
  },
  {
   "cell_type": "markdown",
   "metadata": {
    "run_control": {
     "frozen": false,
     "read_only": false
    }
   },
   "source": [
    "<img src='__docs/__all/notebook_rules.png' />"
   ]
  },
  {
   "cell_type": "markdown",
   "metadata": {
    "run_control": {
     "frozen": false,
     "read_only": false
    }
   },
   "source": [
    "# Select Your IPTS"
   ]
  },
  {
   "cell_type": "code",
   "execution_count": 2,
   "metadata": {
    "run_control": {
     "frozen": false,
     "read_only": false
    }
   },
   "outputs": [
    {
     "data": {
      "text/html": [
       "\n",
       "                       <style>\n",
       "                       .result_label {\n",
       "                          font-style: bold;\n",
       "                          color: red;\n",
       "                          font-size: 18px;\n",
       "                       }\n",
       "                       </style>\n",
       "                       "
      ],
      "text/plain": [
       "<IPython.core.display.HTML object>"
      ]
     },
     "metadata": {},
     "output_type": "display_data"
    },
    {
     "name": "stdout",
     "output_type": "stream",
     "text": [
      "** Using Debugging Mode! **\n"
     ]
    },
    {
     "data": {
      "application/vnd.jupyter.widget-view+json": {
       "model_id": "a9021c96daef4f73a5dce9d5d19e699a",
       "version_major": 2,
       "version_minor": 0
      },
      "text/plain": [
       "VBox(children=(HBox(children=(Label(value='Select Instrument', layout=Layout(width='20%')), Select(layout=Layo…"
      ]
     },
     "metadata": {},
     "output_type": "display_data"
    },
    {
     "data": {
      "text/html": [
       "<style>\n",
       "\n",
       "/* The following CSS has been adapted from\n",
       "   http://nbviewer.ipython.org/github/ketch/teaching-numerics-with-notebooks/blob/master/Styling_notebooks.ipynb\n",
       "   by Aron Ahmadia and David Ketcheson and has been reused under CC BY 4.0\n",
       "   */\n",
       "\n",
       "/* main background */\n",
       "#site { \n",
       "    background: #888;\n",
       "    color: #red; \n",
       "}\n",
       "\n",
       "div.container {\n",
       "    width: 100% ! important;\n",
       "}\n",
       "\n",
       "div.cell { /* set cell width to about 80 chars */\n",
       "    width: 95%;\n",
       "}\n",
       "\n",
       "div #notebook { /* centre the content */\n",
       "/*    background: #fff; /* white background for content */\n",
       "    background: blue;\n",
       "    width: 100%;\n",
       "    margin: auto;\n",
       "    padding-left: 1em;\n",
       "    padding-right: 1em;\n",
       "    background-image: url(\"tile_background.jpg\");\n",
       "}\n",
       "\n",
       "#notebook li { /* More space between bullet points */\n",
       "    margin-top:0.4em;\n",
       "}\n",
       "\n",
       "/* change background color of running cells */\n",
       "div.cell.code_cell.running {\n",
       "/*    background-color: rgba(164,188,194,.75); */\n",
       "    background-color: green;\n",
       "    border-width: 8px\n",
       "    border-style: solid\n",
       "    border-color: #111;\n",
       "}\n",
       "\n",
       "/* Put a solid color box around each cell and its output, visually linking them together */\n",
       "div.cell.code_cell {\n",
       "    background-color: rgba(164,188,194,.25); /* Continuum L Gray with alpha 0.25 */\n",
       "    border-radius: 10px; /* rounded borders */\n",
       "    padding: 1em;\n",
       "    margin-top: 1em;\n",
       "}\n",
       "\n",
       "div.text_cell_render{\n",
       "\tfont-family: Georgia, Times, 'Times New Roman', serif;\n",
       "    line-height: 110%;\n",
       "    font-size: 105%;\n",
       "    width: 95%;\n",
       "    margin-left: auto;\n",
       "    margin-right: auto;\n",
       "}\n",
       "\n",
       "\n",
       "/* Formatting for header cells */\n",
       ".text_cell_render h1 {\n",
       "\tfont-family: Arial, 'Helvetica Neue', Helvetica, sans-serif;\n",
       "    font-weight: 400;\n",
       "    font-size: 30pt;\n",
       "    line-height: 100%;\n",
       "    color: rgb(37,55,70); /* Continuum Blue*/\n",
       "    margin-bottom: 0.1em;\n",
       "    margin-top: 0.1em;\n",
       "    display: block;\n",
       "}\n",
       ".text_cell_render h2 {\n",
       "\tfont-family: Arial, 'Helvetica Neue', Helvetica, sans-serif;\n",
       "    font-weight: 700;\n",
       "    font-size: 22pt;\n",
       "    line-height: 100%;\n",
       "    color: rgb(37,55,70);\n",
       "    margin-bottom: 0.1em;\n",
       "    margin-top: 0.1em;\n",
       "    display: block;\n",
       "}\n",
       "\n",
       ".text_cell_render h3 {\n",
       "\tfont-family: Arial, 'Helvetica Neue', Helvetica, sans-serif;\n",
       "    margin-top:12px;\n",
       "    margin-bottom: 3px;\n",
       "    font-style: italic;\n",
       "    color: rgb(37, 55, 70);\n",
       "}\n",
       "\n",
       ".text_cell_render h4 {\n",
       "\tfont-family: Arial, 'Helvetica Neue', Helvetica, sans-serif;\n",
       "}\n",
       "\n",
       ".text_cell_render h5 {\n",
       "\tfont-family: Arial, 'Helvetica Neue', Helvetica, sans-serif;\n",
       "    font-weight: 300;\n",
       "    font-size: 14pt;\n",
       "    font-style: italic;\n",
       "    margin-bottom: .1em;\n",
       "    margin-top: 0.1em;\n",
       "    display: block;\n",
       "}\n",
       "\n",
       ".text_cell_render h6 {\n",
       "\tfont-family: Arial, 'Helvetica Neue', Helvetica, sans-serif;\n",
       "    font-weight: 300;\n",
       "    font-size: 10pt;\n",
       "    margin-bottom: 1px;\n",
       "    margin-top: 1px;\n",
       "}\n",
       "\n",
       ".CodeMirror{\n",
       "        font-family: \"PT Mono\", fixed;\n",
       "        font-size: 100%;\n",
       "}\n",
       "\n",
       "#notebook_panel { /* main background */\n",
       "    background-image: url(\"tile_background.jpg\");\n",
       "}\n",
       "\n",
       "\n",
       "\n",
       "\n",
       "</style>\n"
      ],
      "text/plain": [
       "<IPython.core.display.HTML object>"
      ]
     },
     "execution_count": 2,
     "metadata": {},
     "output_type": "execute_result"
    }
   ],
   "source": [
    "import warnings\n",
    "warnings.filterwarnings('ignore')\n",
    "\n",
    "from __code.hfir_reactor_element_analysis.hfir_reactor_element_analysis import HfirReactorElementAnalysis\n",
    "from __code.hfir_reactor_element_analysis.interface_handler import InterfaceHandler\n",
    "\n",
    "from __code import system\n",
    "system.System.select_working_dir()\n",
    "from __code.__all import custom_style\n",
    "custom_style.style()"
   ]
  },
  {
   "cell_type": "code",
   "execution_count": 3,
   "metadata": {
    "run_control": {
     "frozen": false,
     "read_only": false
    }
   },
   "outputs": [],
   "source": [
    "%gui qt"
   ]
  },
  {
   "cell_type": "markdown",
   "metadata": {
    "run_control": {
     "frozen": false,
     "read_only": false
    }
   },
   "source": [
    "# Select ASCII file \n",
    "\n",
    "This file should have been created by the [circular_profile_of_a_ring](circular_profile_of_a_ring.ipynb) notebook."
   ]
  },
  {
   "cell_type": "code",
   "execution_count": 4,
   "metadata": {
    "run_control": {
     "frozen": false,
     "read_only": false
    }
   },
   "outputs": [
    {
     "data": {
      "text/html": [
       "<span style=\"font-size: 20px; color:green\">Loading data set ... DONE!</span>"
      ],
      "text/plain": [
       "<IPython.core.display.HTML object>"
      ]
     },
     "metadata": {},
     "output_type": "display_data"
    }
   ],
   "source": [
    "o_selection = HfirReactorElementAnalysis(working_dir=system.System.get_working_dir())\n",
    "o_selection.select_ascii_file()"
   ]
  },
  {
   "cell_type": "code",
   "execution_count": 5,
   "metadata": {},
   "outputs": [],
   "source": [
    "o_select = InterfaceHandler(working_dir=system.System.get_working_dir(), \n",
    "                            o_selection=o_selection)"
   ]
  },
  {
   "cell_type": "markdown",
   "metadata": {},
   "source": [
    "# DEBUG"
   ]
  },
  {
   "cell_type": "code",
   "execution_count": 1,
   "metadata": {},
   "outputs": [
    {
     "data": {
      "text/html": [
       "\n",
       "<style type=\"text/css\">\n",
       ".jupyter-widgets select option {font-family: \"Lucida Console\", Monaco, monospace;}\n",
       ".jupyter-widgets select {width: 98%;}\n",
       "div.output_subarea {padding: 0px;}\n",
       "div.output_subarea > div {margin: 0.4em;}\n",
       "</style>\n"
      ],
      "text/plain": [
       "<IPython.core.display.HTML object>"
      ]
     },
     "metadata": {},
     "output_type": "display_data"
    }
   ],
   "source": [
    "from __code.hfir_reactor_element_analysis.hfir_reactor_element_analysis import HfirReactorElementAnalysis\n",
    "from __code.hfir_reactor_element_analysis.interface_handler import InterfaceHandler\n",
    "import os\n",
    "\n",
    "ascii_file_name = '/Users/j35/IPTS/HFIR-Reactor/HFIR-Reactor_profiles_top.csv'\n",
    "assert os.path.exists(ascii_file_name)"
   ]
  },
  {
   "cell_type": "code",
   "execution_count": 2,
   "metadata": {},
   "outputs": [],
   "source": [
    "%gui qt"
   ]
  },
  {
   "cell_type": "code",
   "execution_count": 3,
   "metadata": {},
   "outputs": [
    {
     "data": {
      "text/html": [
       "<span style=\"font-size: 20px; color:green\">Loading data set ... DONE!</span>"
      ],
      "text/plain": [
       "<IPython.core.display.HTML object>"
      ]
     },
     "metadata": {},
     "output_type": "display_data"
    },
    {
     "name": "stdout",
     "output_type": "stream",
     "text": [
      "number_of_outlisers_to_reject: 33\n",
      "list_mean_value: [0.5587951807228917, 1.552289156626506, 2.4304518072289154, 3.425481927710843, 4.415813253012049, 5.422951807228914, 6.434638554216868, 7.3801807228915655, 8.28885542168675, 9.317469879518072, 10.306084337349397, 11.247560240963857, 12.208825301204822, 13.16894578313253, 14.14792168674699, 15.16111445783133, 16.06590361445783, 17.060572289156624, 18.041536144578313, 19.022048192771088, 19.972439759036146, 20.94674698795181, 21.93144578313253, 22.956445783132526, 23.8760843373494, 24.844849397590355, 25.816626506024093, 26.80268072289157, 27.80918674698795, 28.75114457831325, 29.710572289156627, 30.669608433734943, 31.658915662650596, 32.64132530120482, 33.57551204819277, 34.571957831325314, 35.55072289156627, 36.54180722891565, 37.4455421686747, 38.437259036144575, 39.4503313253012, 40.45009036144578, 41.41277108433735, 42.364487951807234, 43.33656626506025, 44.30713855421687, 45.30701807228916, 46.255210843373504, 47.27066265060242, 48.19346385542168, 49.15406626506024, 50.13671686746988, 51.138072289156625, 52.09457831325302, 53.08424698795182, 54.06530120481928, 55.00569277108435, 55.97271084337349, 56.953253012048194, 57.92204819277107, 58.89996987951809, 59.841957831325296, 60.80484939759036, 61.824367469879526, 62.79548192771084, 63.729728915662655, 64.71286144578313, 65.70527108433734, 66.65786144578314, 67.63987951807229, 68.6216265060241, 69.61870481927711, 70.58795180722892, 71.60972891566266, 72.50391566265061, 73.47849397590362, 74.44837349397591, 75.4197590361446, 76.38355421686747, 77.36168674698796, 78.35006024096386, 79.345421686747, 80.26867469879518, 81.23298192771084, 82.22427710843374, 83.20819277108433, 84.17222891566266, 85.1177108433735, 86.11186746987953, 87.07602409638555, 88.05756024096385, 89.0021686746988, 89.95156626506024, 90.97623493975904, 91.9638253012048, 92.94234939759036, 93.90623493975903, 94.8760843373494, 95.86840361445783, 96.85478915662651, 97.79518072289157, 98.76439759036144, 99.7689156626506, 100.7172891566265, 101.70530120481929, 102.68039156626506, 103.63024096385541, 104.60927710843373, 105.60572289156626, 106.54834337349398, 107.52719879518072, 108.5205421686747, 109.52295180722892, 110.44159638554217, 111.4437048192771, 112.43030120481927, 113.41367469879518, 114.40102409638554, 115.37268072289156, 116.30774096385544, 117.30006024096386, 118.20786144578314, 119.1362951807229, 120.1084036144578, 121.0942469879518, 122.0919578313253, 123.05253012048193, 124.04686746987952, 125.00129518072289, 125.98466867469881, 126.95966867469879, 127.92984939759036, 128.9025301204819, 129.88156626506023, 130.87481927710843, 131.8106626506024, 132.80039156626503, 133.77036144578315, 134.69024096385542, 135.69647590361444, 136.71795180722893, 137.66168674698795, 138.6496987951807, 139.63433734939758, 140.5965060240964, 141.55039156626503, 142.5527108433735, 143.52307228915663, 144.4977108433735, 145.48710843373493, 146.47256024096384, 147.42237951807232, 148.38003012048193, 149.34237951807228, 150.3181024096386, 151.33524096385543, 152.31722891566264, 153.2396385542169, 154.30481927710844, 155.3089156626506, 156.26201807228918, 157.23391566265065, 158.17072289156624, 159.13039156626508, 160.13864457831326, 161.11692771084336, 162.13837349397588, 163.0567168674699, 164.03924698795183, 164.99509036144582, 165.97611445783136, 166.97996987951808, 167.92427710843373, 168.92234939759035, 169.92599397590365, 170.90632530120482, 171.84448795180722, 172.86256024096386, 173.83993975903616, 174.8081325301205, 175.8049096385542, 176.79132530120484, 177.70725903614456, 178.6763253012048, 179.61346385542168, 180.65024096385542, 181.63906626506022, 182.6705421686747, 183.62909638554217, 184.61999999999998, 185.622921686747, 186.55960843373495, 187.5246385542169, 188.50340361445785, 189.44930722891567, 190.45174698795182, 191.42168674698792, 192.4069277108434, 193.37587349397592, 194.35478915662654, 195.29503012048193, 196.28996987951805, 197.2684638554217, 198.2387951807229, 199.24168674698797, 200.18798192771087, 201.15487951807225, 202.11750000000004, 203.101265060241, 204.12213855421683, 205.09864457831324, 206.0083734939759, 207.02620481927707, 208.0637951807229, 208.99231927710846, 210.01144578313253, 210.97605421686742, 211.95268072289159, 212.91695783132528, 213.877078313253, 214.86340361445787, 215.87481927710843, 216.80530120481924, 217.76530120481934, 218.77319277108438, 219.78313253012047, 220.7840060240964, 221.72274096385544, 222.67253012048192, 223.6630421686747, 224.59647590361445, 225.59557228915665, 226.5715963855422, 227.55870481927712, 228.56698795180725, 229.54403614457829, 230.48906626506022, 231.47466867469882, 232.45180722891567, 233.41912650602413, 234.42271084337352, 235.39542168674697, 236.38231927710845, 237.3543674698795, 238.32078313253012, 239.27304216867472, 240.27268072289155, 241.25873493975902, 242.20048192771083, 243.17087349397585, 244.1881024096386, 245.14475903614456, 246.11382530120486, 247.09213855421686, 248.06753012048193, 249.03433734939756, 250.01301204819273, 250.98204819277106, 251.99807228915662, 252.96135542168673, 253.91686746987955, 254.90596385542167, 255.90584337349395, 256.8760542168675, 257.82102409638554, 258.80210843373493, 259.7949397590362, 260.7973795180723, 261.747891566265, 262.7324698795181, 263.71240963855416, 264.6934939759036, 265.6824397590362, 266.65969879518076, 267.62644578313257, 268.61725903614456, 269.58608433734935, 270.596686746988, 271.57135542168675, 272.52231927710847, 273.4914156626506, 274.4797891566265, 275.4563253012048, 276.4171385542169, 277.39060240963863, 278.38587349397596, 279.36192771084336, 280.35114457831327, 281.31153614457827, 282.2721987951807, 283.2669578313253, 284.26090361445785, 285.2109638554217, 286.16240963855427, 287.15283132530124, 288.1556927710843, 289.12033132530127, 290.0948493975904, 291.0556024096386, 292.0353012048193, 293.02722891566265, 293.98635542168677, 294.97144578313254, 295.964578313253, 296.9316265060241, 297.92424698795185, 298.8920481927711, 299.83987951807234, 300.83493975903616, 301.8166265060241, 302.80102409638556, 303.7685240963856, 304.71256024096385, 305.69789156626507, 306.69656626506026, 307.6644578313253, 308.62340361445786, 309.5967168674699, 310.58111445783135, 311.56225903614455, 312.5376807228916, 313.4990361445783, 314.4839156626506, 315.452921686747, 316.424608433735, 317.3821686746988, 318.3702108433735, 319.3449397590361, 320.33951807228914, 321.28888554216866, 322.2551506024096, 323.23590361445787, 324.221686746988, 325.19207831325303, 326.16159638554217, 327.12111445783137, 328.1238253012049, 329.09810240963856, 330.06978915662654, 331.0214759036145, 332.004186746988, 332.9637048192771, 333.9303915662651, 334.896234939759, 335.882530120482, 336.8732228915663, 337.85999999999996, 338.80490963855425, 339.798343373494, 340.771265060241, 341.7423493975904, 342.69756024096387, 343.657078313253, 344.6550301204819, 345.64475903614465, 346.6118373493976, 347.5773795180723, 348.5291265060241, 349.5258132530121, 350.5226204819278, 351.50668674698795, 352.4452108433735, 353.4184638554217, 354.39503012048186, 355.3857530120482, 356.3906024096386, 357.33930722891574, 358.27156626506024, 359.2656024096385, 359.2744285714286, 358.8854545454546, 358.775, 359.01, 359.52]\n",
      "mean_angle_offset_between_elements: 0.9623624794082496\n"
     ]
    }
   ],
   "source": [
    "o_selection = HfirReactorElementAnalysis(working_dir=\"/Users/j35/IPTS/HFIR-Reactor/\")\n",
    "o_selection.load_ascii(ascii_file_name)\n",
    "\n",
    "o_select = InterfaceHandler(working_dir=\"/Users/j35/IPTS/HFIR-Reactor/\", \n",
    "                            o_selection=o_selection)"
   ]
  },
  {
   "cell_type": "code",
   "execution_count": null,
   "metadata": {},
   "outputs": [],
   "source": []
  }
 ],
 "metadata": {
  "anaconda-cloud": {},
  "kernelspec": {
   "display_name": "Python 3",
   "language": "python",
   "name": "python3"
  },
  "language_info": {
   "codemirror_mode": {
    "name": "ipython",
    "version": 3
   },
   "file_extension": ".py",
   "mimetype": "text/x-python",
   "name": "python",
   "nbconvert_exporter": "python",
   "pygments_lexer": "ipython3",
   "version": "3.6.10"
  },
  "toc": {
   "colors": {
    "hover_highlight": "#DAA520",
    "running_highlight": "#FF0000",
    "selected_highlight": "#FFD700"
   },
   "moveMenuLeft": true,
   "nav_menu": {
    "height": "12px",
    "width": "252px"
   },
   "navigate_menu": true,
   "number_sections": true,
   "sideBar": true,
   "threshold": 4,
   "toc_cell": false,
   "toc_section_display": "block",
   "toc_window_display": false
  }
 },
 "nbformat": 4,
 "nbformat_minor": 1
}
