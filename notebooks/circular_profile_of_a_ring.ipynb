{
 "cells": [
  {
   "cell_type": "markdown",
   "metadata": {
    "run_control": {
     "frozen": false,
     "read_only": false
    }
   },
   "source": [
    "[![Notebook Tutorial](__code/__all/notebook_tutorial.png)](https://neutronimaging.pages.ornl.gov/tutorial/notebooks/circular_profile_of_a_ring/)"
   ]
  },
  {
   "cell_type": "markdown",
   "metadata": {
    "run_control": {
     "frozen": false,
     "read_only": false
    }
   },
   "source": [
    "<img src='__docs/__all/notebook_rules.png' />"
   ]
  },
  {
   "cell_type": "markdown",
   "metadata": {
    "run_control": {
     "frozen": false,
     "read_only": false
    }
   },
   "source": [
    "# Select Your IPTS"
   ]
  },
  {
   "cell_type": "code",
   "execution_count": 1,
   "metadata": {
    "run_control": {
     "frozen": false,
     "read_only": false
    }
   },
   "outputs": [
    {
     "data": {
      "text/html": [
       "\n",
       "<style type=\"text/css\">\n",
       ".jupyter-widgets select option {font-family: \"Lucida Console\", Monaco, monospace;}\n",
       ".jupyter-widgets select {width: 98%;}\n",
       "div.output_subarea {padding: 0px;}\n",
       "div.output_subarea > div {margin: 0.4em;}\n",
       "</style>\n"
      ],
      "text/plain": [
       "<IPython.core.display.HTML object>"
      ]
     },
     "metadata": {},
     "output_type": "display_data"
    },
    {
     "data": {
      "text/html": [
       "\n",
       "                       <style>\n",
       "                       .result_label {\n",
       "                          font-style: bold;\n",
       "                          color: red;\n",
       "                          font-size: 18px;\n",
       "                       }\n",
       "                       </style>\n",
       "                       "
      ],
      "text/plain": [
       "<IPython.core.display.HTML object>"
      ]
     },
     "metadata": {},
     "output_type": "display_data"
    },
    {
     "name": "stdout",
     "output_type": "stream",
     "text": [
      "** Using Debugging Mode! **\n"
     ]
    },
    {
     "data": {
      "application/vnd.jupyter.widget-view+json": {
       "model_id": "2c9305bbd15e4780a72e5eec698245b7",
       "version_major": 2,
       "version_minor": 0
      },
      "text/plain": [
       "VBox(children=(HBox(children=(Label(value='Select Instrument', layout=Layout(width='20%')), Select(layout=Layo…"
      ]
     },
     "metadata": {},
     "output_type": "display_data"
    },
    {
     "data": {
      "text/html": [
       "<style>\n",
       "\n",
       "/* The following CSS has been adapted from\n",
       "   http://nbviewer.ipython.org/github/ketch/teaching-numerics-with-notebooks/blob/master/Styling_notebooks.ipynb\n",
       "   by Aron Ahmadia and David Ketcheson and has been reused under CC BY 4.0\n",
       "   */\n",
       "\n",
       "/* main background */\n",
       "#site { \n",
       "    background: #888;\n",
       "    color: #red; \n",
       "}\n",
       "\n",
       "div.container {\n",
       "    width: 100% ! important;\n",
       "}\n",
       "\n",
       "div.cell { /* set cell width to about 80 chars */\n",
       "    width: 95%;\n",
       "}\n",
       "\n",
       "div #notebook { /* centre the content */\n",
       "/*    background: #fff; /* white background for content */\n",
       "    background: blue;\n",
       "    width: 100%;\n",
       "    margin: auto;\n",
       "    padding-left: 1em;\n",
       "    padding-right: 1em;\n",
       "    background-image: url(\"tile_background.jpg\");\n",
       "}\n",
       "\n",
       "#notebook li { /* More space between bullet points */\n",
       "    margin-top:0.4em;\n",
       "}\n",
       "\n",
       "/* change background color of running cells */\n",
       "div.cell.code_cell.running {\n",
       "/*    background-color: rgba(164,188,194,.75); */\n",
       "    background-color: green;\n",
       "    border-width: 8px\n",
       "    border-style: solid\n",
       "    border-color: #111;\n",
       "}\n",
       "\n",
       "/* Put a solid color box around each cell and its output, visually linking them together */\n",
       "div.cell.code_cell {\n",
       "    background-color: rgba(164,188,194,.25); /* Continuum L Gray with alpha 0.25 */\n",
       "    border-radius: 10px; /* rounded borders */\n",
       "    padding: 1em;\n",
       "    margin-top: 1em;\n",
       "}\n",
       "\n",
       "div.text_cell_render{\n",
       "\tfont-family: Georgia, Times, 'Times New Roman', serif;\n",
       "    line-height: 110%;\n",
       "    font-size: 105%;\n",
       "    width: 95%;\n",
       "    margin-left: auto;\n",
       "    margin-right: auto;\n",
       "}\n",
       "\n",
       "\n",
       "/* Formatting for header cells */\n",
       ".text_cell_render h1 {\n",
       "\tfont-family: Arial, 'Helvetica Neue', Helvetica, sans-serif;\n",
       "    font-weight: 400;\n",
       "    font-size: 30pt;\n",
       "    line-height: 100%;\n",
       "    color: rgb(37,55,70); /* Continuum Blue*/\n",
       "    margin-bottom: 0.1em;\n",
       "    margin-top: 0.1em;\n",
       "    display: block;\n",
       "}\n",
       ".text_cell_render h2 {\n",
       "\tfont-family: Arial, 'Helvetica Neue', Helvetica, sans-serif;\n",
       "    font-weight: 700;\n",
       "    font-size: 22pt;\n",
       "    line-height: 100%;\n",
       "    color: rgb(37,55,70);\n",
       "    margin-bottom: 0.1em;\n",
       "    margin-top: 0.1em;\n",
       "    display: block;\n",
       "}\n",
       "\n",
       ".text_cell_render h3 {\n",
       "\tfont-family: Arial, 'Helvetica Neue', Helvetica, sans-serif;\n",
       "    margin-top:12px;\n",
       "    margin-bottom: 3px;\n",
       "    font-style: italic;\n",
       "    color: rgb(37, 55, 70);\n",
       "}\n",
       "\n",
       ".text_cell_render h4 {\n",
       "\tfont-family: Arial, 'Helvetica Neue', Helvetica, sans-serif;\n",
       "}\n",
       "\n",
       ".text_cell_render h5 {\n",
       "\tfont-family: Arial, 'Helvetica Neue', Helvetica, sans-serif;\n",
       "    font-weight: 300;\n",
       "    font-size: 14pt;\n",
       "    font-style: italic;\n",
       "    margin-bottom: .1em;\n",
       "    margin-top: 0.1em;\n",
       "    display: block;\n",
       "}\n",
       "\n",
       ".text_cell_render h6 {\n",
       "\tfont-family: Arial, 'Helvetica Neue', Helvetica, sans-serif;\n",
       "    font-weight: 300;\n",
       "    font-size: 10pt;\n",
       "    margin-bottom: 1px;\n",
       "    margin-top: 1px;\n",
       "}\n",
       "\n",
       ".CodeMirror{\n",
       "        font-family: \"PT Mono\", fixed;\n",
       "        font-size: 100%;\n",
       "}\n",
       "\n",
       "#notebook_panel { /* main background */\n",
       "    background-image: url(\"tile_background.jpg\");\n",
       "}\n",
       "\n",
       "\n",
       "\n",
       "\n",
       "</style>\n"
      ],
      "text/plain": [
       "<IPython.core.display.HTML object>"
      ]
     },
     "execution_count": 1,
     "metadata": {},
     "output_type": "execute_result"
    }
   ],
   "source": [
    "# import warnings\n",
    "# warnings.filterwarnings('ignore')\n",
    "\n",
    "from __code.circular_profile_of_a_ring.interface_handler import InterfaceHandler\n",
    "from __code.circular_profile_of_a_ring.circular_profile_of_a_ring import CircularProfileOfARing\n",
    "\n",
    "from __code import system\n",
    "system.System.select_working_dir()\n",
    "from __code.__all import custom_style\n",
    "custom_style.style()"
   ]
  },
  {
   "cell_type": "markdown",
   "metadata": {
    "run_control": {
     "frozen": false,
     "read_only": false
    }
   },
   "source": [
    "# Python Import"
   ]
  },
  {
   "cell_type": "code",
   "execution_count": 2,
   "metadata": {
    "run_control": {
     "frozen": false,
     "read_only": false
    }
   },
   "outputs": [],
   "source": [
    "%gui qt"
   ]
  },
  {
   "cell_type": "markdown",
   "metadata": {
    "run_control": {
     "frozen": false,
     "read_only": false
    }
   },
   "source": [
    "# Select folder containing reconstructed data"
   ]
  },
  {
   "cell_type": "code",
   "execution_count": 3,
   "metadata": {
    "run_control": {
     "frozen": false,
     "read_only": false
    }
   },
   "outputs": [
    {
     "data": {
      "application/vnd.jupyter.widget-view+json": {
       "model_id": "",
       "version_major": 2,
       "version_minor": 0
      },
      "text/plain": [
       "VBox(children=(Label(value='select input folder ...', layout=Layout(width='250px')), VBox(children=(HBox(child…"
      ]
     },
     "metadata": {},
     "output_type": "display_data"
    },
    {
     "data": {
      "application/vnd.jupyter.widget-view+json": {
       "model_id": "",
       "version_major": 2,
       "version_minor": 0
      },
      "text/plain": [
       "HBox(children=(Label(value='Loading sample', layout=Layout(width='20%')), IntProgress(value=0, max=21), Label(…"
      ]
     },
     "metadata": {},
     "output_type": "display_data"
    }
   ],
   "source": [
    "o_selection = CircularProfileOfARing(working_dir=system.System.get_working_dir())\n",
    "o_selection.select_input_folder()"
   ]
  },
  {
   "cell_type": "markdown",
   "metadata": {
    "run_control": {
     "frozen": false,
     "read_only": false
    }
   },
   "source": [
    "# Launch User Interface"
   ]
  },
  {
   "cell_type": "code",
   "execution_count": 1,
   "metadata": {
    "run_control": {
     "frozen": false,
     "read_only": false
    }
   },
   "outputs": [
    {
     "ename": "NameError",
     "evalue": "name 'InterfaceHandler' is not defined",
     "output_type": "error",
     "traceback": [
      "\u001b[0;31m---------------------------------------------------------------------------\u001b[0m",
      "\u001b[0;31mNameError\u001b[0m                                 Traceback (most recent call last)",
      "\u001b[0;32m<ipython-input-1-62443d4fc8de>\u001b[0m in \u001b[0;36m<module>\u001b[0;34m\u001b[0m\n\u001b[0;32m----> 1\u001b[0;31m o_select = InterfaceHandler(working_dir=system.System.get_working_dir(), \n\u001b[0m\u001b[1;32m      2\u001b[0m                             o_norm=o_selection.o_norm)\n",
      "\u001b[0;31mNameError\u001b[0m: name 'InterfaceHandler' is not defined"
     ]
    }
   ],
   "source": [
    "o_select = InterfaceHandler(working_dir=system.System.get_working_dir(), \n",
    "                            o_norm=o_selection.o_norm)"
   ]
  },
  {
   "cell_type": "markdown",
   "metadata": {},
   "source": [
    "# DEBUGGING "
   ]
  },
  {
   "cell_type": "code",
   "execution_count": 1,
   "metadata": {},
   "outputs": [
    {
     "data": {
      "text/html": [
       "\n",
       "<style type=\"text/css\">\n",
       ".jupyter-widgets select option {font-family: \"Lucida Console\", Monaco, monospace;}\n",
       ".jupyter-widgets select {width: 98%;}\n",
       "div.output_subarea {padding: 0px;}\n",
       "div.output_subarea > div {margin: 0.4em;}\n",
       "</style>\n"
      ],
      "text/plain": [
       "<IPython.core.display.HTML object>"
      ]
     },
     "metadata": {},
     "output_type": "display_data"
    }
   ],
   "source": [
    "# import warnings\n",
    "# warnings.filterwarnings('ignore')\n",
    "\n",
    "from __code.circular_profile_of_a_ring.interface_handler import InterfaceHandler\n",
    "from __code.circular_profile_of_a_ring.circular_profile_of_a_ring import CircularProfileOfARing\n"
   ]
  },
  {
   "cell_type": "code",
   "execution_count": 2,
   "metadata": {},
   "outputs": [],
   "source": [
    "%gui qt"
   ]
  },
  {
   "cell_type": "code",
   "execution_count": 3,
   "metadata": {},
   "outputs": [
    {
     "data": {
      "application/vnd.jupyter.widget-view+json": {
       "model_id": "",
       "version_major": 2,
       "version_minor": 0
      },
      "text/plain": [
       "HBox(children=(Label(value='Loading sample', layout=Layout(width='20%')), IntProgress(value=0, max=21), Label(…"
      ]
     },
     "metadata": {},
     "output_type": "display_data"
    },
    {
     "name": "stdout",
     "output_type": "stream",
     "text": [
      "x1:1789\n",
      "x1:1797\n",
      "x1:1801\n",
      "x1:1809\n",
      "x1:1817\n",
      "x1:1822\n",
      "x1:1830\n",
      "x1:1842\n",
      "x1:1850\n",
      "x1:1878\n",
      "x1:1906\n",
      "x1:1918\n",
      "x1:1922\n",
      "x1:1926\n",
      "x1:1935\n",
      "x1:1943\n",
      "x1:1983\n",
      "x1:2003\n",
      "x1:2043\n",
      "x1:2088\n",
      "x1:2104\n",
      "x1:2112\n",
      "x1:2116\n",
      "x1:2120\n",
      "x1:2136\n",
      "x1:2148\n",
      "x1:2165\n",
      "x1:2185\n",
      "x1:2189\n",
      "x1:2197\n",
      "x1:2201\n",
      "x1:2205\n",
      "x1:2209\n",
      "x1:2213\n",
      "x1:2217\n",
      "x1:2221\n",
      "x1:2225\n",
      "x1:2229\n",
      "replotting outer ring\n",
      "x1:2229\n",
      "replotting outer ring\n",
      "x1:2229\n",
      "replotting outer ring\n",
      "x1:2229\n",
      "replotting outer ring\n",
      "x1:2229\n",
      "replotting outer ring\n",
      "x1:2229\n",
      "replotting outer ring\n",
      "x1:2229\n",
      "replotting outer ring\n",
      "x1:2229\n",
      "replotting outer ring\n",
      "x1:2229\n",
      "replotting outer ring\n",
      "x1:2229\n",
      "replotting outer ring\n",
      "x1:2229\n",
      "replotting outer ring\n",
      "x1:2229\n",
      "replotting outer ring\n",
      "x1:2229\n",
      "replotting outer ring\n",
      "x1:2229\n",
      "replotting outer ring\n",
      "x1:2229\n",
      "replotting outer ring\n",
      "x1:2229\n",
      "replotting outer ring\n",
      "x1:2229\n",
      "replotting outer ring\n",
      "x1:2229\n",
      "replotting outer ring\n",
      "x1:2229\n",
      "replotting outer ring\n",
      "x1:2229\n",
      "replotting outer ring\n",
      "x1:2229\n",
      "replotting outer ring\n",
      "x1:2229\n",
      "replotting outer ring\n",
      "x1:1748\n",
      "x1:1724\n",
      "x1:1700\n",
      "x1:1647\n",
      "x1:1583\n",
      "x1:1506\n",
      "x1:1454\n",
      "x1:1430\n",
      "x1:1397\n",
      "x1:1385\n",
      "x1:1377\n",
      "x1:1373\n",
      "x1:1365\n",
      "x1:1353\n",
      "x1:1341\n",
      "x1:1321\n",
      "x1:1317\n",
      "x1:1313\n",
      "replotting outer ring\n",
      "x1:1315\n",
      "replotting outer ring\n",
      "x1:1316\n",
      "replotting outer ring\n",
      "x1:1316\n",
      "replotting outer ring\n",
      "x1:1316\n",
      "replotting outer ring\n",
      "x1:1316\n",
      "replotting outer ring\n",
      "x1:1316\n",
      "replotting outer ring\n",
      "x1:1316\n",
      "replotting outer ring\n",
      "x1:1316\n",
      "replotting outer ring\n",
      "x1:1316\n",
      "replotting outer ring\n",
      "x1:1316\n",
      "replotting outer ring\n",
      "x1:1316\n",
      "replotting outer ring\n",
      "x1:1316\n",
      "replotting outer ring\n",
      "x1:1316\n",
      "replotting outer ring\n",
      "x1:1316\n",
      "replotting outer ring\n",
      "x1:1316\n",
      "replotting outer ring\n",
      "x1:1316\n",
      "replotting outer ring\n",
      "x1:1316\n",
      "replotting outer ring\n",
      "x1:1316\n",
      "replotting outer ring\n",
      "x1:1316\n",
      "replotting outer ring\n",
      "x1:1316\n",
      "replotting outer ring\n",
      "x1:1316\n",
      "replotting outer ring\n",
      "x1:1316\n",
      "replotting outer ring\n",
      "x1:1316\n",
      "replotting outer ring\n",
      "x1:1316\n",
      "replotting outer ring\n",
      "x1:1316\n",
      "replotting outer ring\n",
      "x1:1316\n",
      "replotting outer ring\n",
      "x1:1316\n",
      "replotting outer ring\n",
      "x1:1316\n",
      "replotting outer ring\n",
      "x1:1316\n",
      "replotting outer ring\n",
      "x1:1316\n",
      "replotting outer ring\n",
      "x1:1316\n",
      "replotting outer ring\n",
      "x1:1316\n",
      "replotting outer ring\n",
      "x1:1316\n",
      "replotting outer ring\n",
      "x1:1316\n",
      "replotting outer ring\n",
      "x1:1316\n",
      "replotting outer ring\n",
      "x1:1316\n",
      "replotting outer ring\n",
      "x1:1316\n",
      "replotting outer ring\n",
      "x1:1316\n",
      "replotting outer ring\n",
      "x1:1737\n",
      "x1:1737\n",
      "x1:1737\n",
      "x1:1737\n",
      "x1:1737\n",
      "x1:1737\n",
      "x1:1737\n",
      "x1:1737\n",
      "x1:1737\n",
      "x1:1737\n",
      "x1:1737\n",
      "x1:1737\n",
      "x1:1737\n",
      "x1:1737\n",
      "x1:1737\n",
      "x1:1737\n",
      "x1:1737\n",
      "x1:1737\n",
      "x1:1737\n",
      "x1:1737\n",
      "x1:1736\n",
      "replotting outer ring\n",
      "x1:1736\n",
      "replotting outer ring\n",
      "x1:1736\n",
      "replotting outer ring\n",
      "x1:1736\n",
      "replotting outer ring\n",
      "x1:1736\n",
      "replotting outer ring\n",
      "x1:1736\n",
      "replotting outer ring\n",
      "x1:1736\n",
      "replotting outer ring\n",
      "x1:1736\n",
      "replotting outer ring\n",
      "x1:1736\n",
      "replotting outer ring\n",
      "x1:1736\n",
      "replotting outer ring\n",
      "x1:1736\n",
      "replotting outer ring\n",
      "x1:1736\n",
      "replotting outer ring\n",
      "x1:1736\n",
      "replotting outer ring\n",
      "x1:1736\n",
      "replotting outer ring\n",
      "x1:1736\n",
      "replotting outer ring\n",
      "x1:1736\n",
      "replotting outer ring\n",
      "x1:1736\n",
      "replotting outer ring\n",
      "x1:1736\n",
      "replotting outer ring\n",
      "x1:1736\n",
      "replotting outer ring\n",
      "x1:1736\n",
      "replotting outer ring\n",
      "x1:1736\n",
      "replotting outer ring\n",
      "x1:1736\n",
      "replotting outer ring\n",
      "x1:1736\n",
      "replotting outer ring\n",
      "x1:1736\n",
      "replotting outer ring\n",
      "x1:1736\n",
      "replotting outer ring\n",
      "x1:1736\n",
      "replotting outer ring\n",
      "x1:1736\n",
      "replotting outer ring\n",
      "x1:1966\n",
      "x1:1966\n",
      "x1:1966\n",
      "x1:1962\n",
      "x1:1962\n",
      "x1:1962\n",
      "x1:1962\n",
      "x1:1962\n",
      "x1:1962\n",
      "x1:1962\n",
      "x1:1958\n",
      "x1:1958\n",
      "x1:1958\n",
      "x1:1950\n",
      "x1:1942\n",
      "x1:1934\n",
      "x1:1922\n",
      "x1:1914\n",
      "x1:1910\n",
      "x1:1906\n",
      "x1:1898\n",
      "x1:1894\n",
      "x1:1894\n",
      "x1:1890\n",
      "x1:1886\n",
      "x1:1882\n",
      "x1:1878\n",
      "x1:1874\n",
      "x1:1870\n",
      "x1:1866\n",
      "x1:1862\n",
      "x1:1858\n",
      "x1:1853\n",
      "x1:1849\n",
      "x1:1845\n",
      "x1:1845\n",
      "x1:1845\n",
      "x1:1841\n",
      "x1:1841\n",
      "x1:1841\n",
      "x1:1841\n",
      "x1:1841\n",
      "x1:1841\n",
      "x1:1841\n",
      "x1:1841\n",
      "x1:1841\n",
      "replotting outer ring\n",
      "x1:1841\n",
      "replotting outer ring\n",
      "x1:1841\n",
      "replotting outer ring\n",
      "x1:1841\n",
      "replotting outer ring\n",
      "x1:1841\n",
      "replotting outer ring\n",
      "x1:1841\n",
      "replotting outer ring\n",
      "x1:1841\n",
      "replotting outer ring\n",
      "x1:1841\n",
      "replotting outer ring\n",
      "x1:1841\n",
      "replotting outer ring\n",
      "x1:1841\n",
      "replotting outer ring\n",
      "x1:1841\n",
      "replotting outer ring\n",
      "x1:1841\n",
      "replotting outer ring\n",
      "x1:1841\n",
      "replotting outer ring\n",
      "x1:1841\n",
      "replotting outer ring\n",
      "x1:1841\n",
      "replotting outer ring\n",
      "x1:1841\n",
      "replotting outer ring\n",
      "x1:1841\n",
      "replotting outer ring\n",
      "x1:1841\n",
      "replotting outer ring\n",
      "x1:1841\n",
      "replotting outer ring\n",
      "x1:1841\n",
      "replotting outer ring\n",
      "x1:1841\n",
      "replotting outer ring\n",
      "x1:1841\n",
      "replotting outer ring\n",
      "x1:1777\n",
      "x1:1773\n",
      "x1:1769\n",
      "x1:1765\n",
      "x1:1757\n",
      "x1:1749\n",
      "x1:1745\n",
      "x1:1741\n",
      "x1:1741\n",
      "x1:1737\n",
      "x1:1729\n",
      "x1:1725\n",
      "x1:1721\n",
      "x1:1717\n",
      "x1:1709\n",
      "x1:1701\n",
      "x1:1685\n",
      "x1:1668\n",
      "x1:1652\n",
      "x1:1632\n",
      "x1:1608\n",
      "x1:1576\n",
      "x1:1555\n",
      "x1:1543\n",
      "x1:1523\n",
      "x1:1499\n",
      "x1:1471\n",
      "x1:1434\n",
      "x1:1390\n",
      "x1:1370\n",
      "x1:1354\n",
      "x1:1329\n",
      "x1:1309\n",
      "replotting outer ring\n",
      "x1:1314\n",
      "replotting outer ring\n",
      "x1:1317\n",
      "replotting outer ring\n",
      "x1:1318\n",
      "replotting outer ring\n",
      "x1:1319\n",
      "replotting outer ring\n",
      "x1:1319\n",
      "replotting outer ring\n",
      "x1:1319\n",
      "replotting outer ring\n",
      "x1:1319\n",
      "replotting outer ring\n"
     ]
    }
   ],
   "source": [
    "o_selection = CircularProfileOfARing()\n",
    "o_selection.folder_selected(\"/Users/j35/IPTS/HFIR-Reactor/debugging_data/\")\n",
    "o_select = InterfaceHandler(o_norm=o_selection.o_norm)"
   ]
  },
  {
   "cell_type": "code",
   "execution_count": null,
   "metadata": {},
   "outputs": [],
   "source": []
  }
 ],
 "metadata": {
  "anaconda-cloud": {},
  "kernelspec": {
   "display_name": "Python 3",
   "language": "python",
   "name": "python3"
  },
  "language_info": {
   "codemirror_mode": {
    "name": "ipython",
    "version": 3
   },
   "file_extension": ".py",
   "mimetype": "text/x-python",
   "name": "python",
   "nbconvert_exporter": "python",
   "pygments_lexer": "ipython3",
   "version": "3.6.10"
  },
  "toc": {
   "colors": {
    "hover_highlight": "#DAA520",
    "running_highlight": "#FF0000",
    "selected_highlight": "#FFD700"
   },
   "moveMenuLeft": true,
   "nav_menu": {
    "height": "12px",
    "width": "252px"
   },
   "navigate_menu": true,
   "number_sections": true,
   "sideBar": true,
   "threshold": 4,
   "toc_cell": false,
   "toc_section_display": "block",
   "toc_window_display": false
  }
 },
 "nbformat": 4,
 "nbformat_minor": 1
}
