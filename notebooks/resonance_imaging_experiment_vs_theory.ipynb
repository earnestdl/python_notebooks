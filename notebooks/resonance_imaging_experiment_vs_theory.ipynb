{
 "cells": [
  {
   "cell_type": "code",
   "execution_count": null,
   "metadata": {
    "run_control": {
     "frozen": false,
     "read_only": false
    }
   },
   "outputs": [],
   "source": [
    "debugging = True\n",
    "IPTS = 19558"
   ]
  },
  {
   "cell_type": "markdown",
   "metadata": {
    "run_control": {
     "frozen": false,
     "read_only": false
    }
   },
   "source": [
    "# Description "
   ]
  },
  {
   "cell_type": "markdown",
   "metadata": {
    "run_control": {
     "frozen": false,
     "read_only": false
    }
   },
   "source": [
    "Steps are:\n",
    " - load a stack of images\n",
    " - define your sample\n",
    " \n",
    "=> the average counts of the region vs the stack (index, TOF or lambda) will be displayed\n",
    "compared to the theory signal of a given set of layers."
   ]
  },
  {
   "cell_type": "markdown",
   "metadata": {
    "run_control": {
     "frozen": false,
     "read_only": false
    }
   },
   "source": [
    "# Notebook Initialization "
   ]
  },
  {
   "cell_type": "code",
   "execution_count": null,
   "metadata": {
    "run_control": {
     "frozen": false,
     "read_only": false
    }
   },
   "outputs": [],
   "source": [
    "from __code.__all import custom_style\n",
    "custom_style.style()"
   ]
  },
  {
   "cell_type": "code",
   "execution_count": null,
   "metadata": {
    "run_control": {
     "frozen": false,
     "read_only": false
    }
   },
   "outputs": [],
   "source": [
    "%gui qt"
   ]
  },
  {
   "cell_type": "code",
   "execution_count": 1,
   "metadata": {
    "run_control": {
     "frozen": false,
     "marked": true,
     "read_only": false
    }
   },
   "outputs": [
    {
     "name": "stdout",
     "output_type": "stream",
     "text": [
      "pyuic5 /Users/j35/git/python_notebooks/notebooks/ui/ui_resonance_imaging_experiment_vs_theory.ui -o /Users/j35/git/python_notebooks/notebooks/__code/ui_resonance_imaging_experiment_vs_theory.py\n",
      "pyuic5 /Users/j35/git/python_notebooks/notebooks/ui/ui_resonance_imaging_layers_input.ui -o /Users/j35/git/python_notebooks/notebooks/__code/ui_resonance_imaging_layers_input.py\n"
     ]
    },
    {
     "data": {
      "text/html": [
       "\n",
       "<style type=\"text/css\">\n",
       ".jupyter-widgets select option {font-family: \"Lucida Console\", Monaco, monospace;}\n",
       ".jupyter-widgets select {width: 98%;}\n",
       "div.output_subarea {padding: 0px;}\n",
       "div.output_subarea > div {margin: 0.4em;}\n",
       "</style>\n"
      ],
      "text/plain": [
       "<IPython.core.display.HTML object>"
      ]
     },
     "metadata": {},
     "output_type": "display_data"
    },
    {
     "ename": "NameError",
     "evalue": "name 'debugging' is not defined",
     "output_type": "error",
     "traceback": [
      "\u001b[0;31m---------------------------------------------------------------------------\u001b[0m",
      "\u001b[0;31mNameError\u001b[0m                                 Traceback (most recent call last)",
      "\u001b[0;32m<ipython-input-1-ef8bd90e6ab2>\u001b[0m in \u001b[0;36m<module>\u001b[0;34m\u001b[0m\n\u001b[1;32m     11\u001b[0m \u001b[0;32mimport\u001b[0m \u001b[0mpprint\u001b[0m\u001b[0;34m\u001b[0m\u001b[0;34m\u001b[0m\u001b[0m\n\u001b[1;32m     12\u001b[0m \u001b[0;34m\u001b[0m\u001b[0m\n\u001b[0;32m---> 13\u001b[0;31m \u001b[0;32mif\u001b[0m \u001b[0mdebugging\u001b[0m\u001b[0;34m:\u001b[0m\u001b[0;34m\u001b[0m\u001b[0;34m\u001b[0m\u001b[0m\n\u001b[0m\u001b[1;32m     14\u001b[0m     \u001b[0mipts\u001b[0m \u001b[0;34m=\u001b[0m \u001b[0mIPTS\u001b[0m\u001b[0;34m\u001b[0m\u001b[0;34m\u001b[0m\u001b[0m\n\u001b[1;32m     15\u001b[0m \u001b[0;32melse\u001b[0m\u001b[0;34m:\u001b[0m\u001b[0;34m\u001b[0m\u001b[0;34m\u001b[0m\u001b[0m\n",
      "\u001b[0;31mNameError\u001b[0m: name 'debugging' is not defined"
     ]
    }
   ],
   "source": [
    "from __code.ui_builder import UiBuilder\n",
    "o_builder = UiBuilder(ui_name = 'ui_resonance_imaging_experiment_vs_theory.ui')\n",
    "o_builder = UiBuilder(ui_name = 'ui_resonance_imaging_layers_input.ui')\n",
    "\n",
    "from __code import file_handler, utilities\n",
    "from __code.display_counts_of_region_vs_stack_vs_theory import ImageWindow\n",
    "from __code.display_imaging_resonance_sample_definition import SampleWindow\n",
    "from NeuNorm.normalization import Normalization\n",
    "from __code.ipywe import fileselector\n",
    "\n",
    "import pprint\n",
    "\n",
    "if debugging:\n",
    "    ipts = IPTS\n",
    "else:\n",
    "    ipts = utilities.get_ipts()\n",
    "working_dir = utilities.get_working_dir(ipts=ipts, debugging=debugging)\n",
    "print(\"Working dir: {}\".format(working_dir))"
   ]
  },
  {
   "cell_type": "markdown",
   "metadata": {
    "cell_style": "split",
    "run_control": {
     "frozen": false,
     "read_only": false
    }
   },
   "source": [
    "# Select Stack Folder"
   ]
  },
  {
   "cell_type": "code",
   "execution_count": null,
   "metadata": {
    "format": "tab",
    "run_control": {
     "frozen": false,
     "read_only": false
    }
   },
   "outputs": [],
   "source": [
    "input_folder_ui = ipywe.fileselector.FileSelectorPanel(instruction='Select Input Folder',\n",
    "                                                       type='directory', \n",
    "                                                       start_dir=working_dir, \n",
    "                                                       multiple=False)\n",
    "input_folder_ui.show()"
   ]
  },
  {
   "cell_type": "markdown",
   "metadata": {
    "run_control": {
     "frozen": false,
     "read_only": false
    }
   },
   "source": [
    "# Load Stack"
   ]
  },
  {
   "cell_type": "code",
   "execution_count": null,
   "metadata": {
    "run_control": {
     "frozen": false,
     "read_only": false
    }
   },
   "outputs": [],
   "source": [
    "working_folder = input_folder_ui.selected\n",
    "o_norm = Normalization()\n",
    "o_norm.load(folder=working_folder, notebook=True)"
   ]
  },
  {
   "cell_type": "markdown",
   "metadata": {
    "run_control": {
     "frozen": false,
     "read_only": false
    }
   },
   "source": [
    "# Define Sample "
   ]
  },
  {
   "cell_type": "code",
   "execution_count": null,
   "metadata": {
    "run_control": {
     "frozen": false,
     "read_only": false
    }
   },
   "outputs": [],
   "source": [
    "_sample = SampleWindow(parent=None, debugging=debugging)\n",
    "_sample.show()"
   ]
  },
  {
   "cell_type": "markdown",
   "metadata": {
    "run_control": {
     "frozen": false,
     "read_only": false
    }
   },
   "source": [
    "# Select Region and display Counts"
   ]
  },
  {
   "cell_type": "code",
   "execution_count": null,
   "metadata": {
    "run_control": {
     "frozen": false,
     "read_only": false
    }
   },
   "outputs": [],
   "source": [
    "o_reso = _sample.o_reso\n",
    "\n",
    "_image = ImageWindow(\n",
    "    stack=(o_norm.data['sample']['data']), working_folder=working_folder, o_reso=o_reso)\n",
    "_image.show()"
   ]
  },
  {
   "cell_type": "markdown",
   "metadata": {
    "run_control": {
     "frozen": false,
     "read_only": false
    }
   },
   "source": [
    "# Export "
   ]
  },
  {
   "cell_type": "markdown",
   "metadata": {
    "run_control": {
     "frozen": false,
     "read_only": false
    }
   },
   "source": [
    "UNDER CONSTRUCTION!"
   ]
  },
  {
   "cell_type": "code",
   "execution_count": null,
   "metadata": {
    "run_control": {
     "frozen": false,
     "read_only": false
    }
   },
   "outputs": [],
   "source": []
  }
 ],
 "metadata": {
  "anaconda-cloud": {},
  "kernelspec": {
   "display_name": "Python 3",
   "language": "python",
   "name": "python3"
  },
  "language_info": {
   "codemirror_mode": {
    "name": "ipython",
    "version": 3
   },
   "file_extension": ".py",
   "mimetype": "text/x-python",
   "name": "python",
   "nbconvert_exporter": "python",
   "pygments_lexer": "ipython3",
   "version": "3.6.10"
  },
  "toc": {
   "colors": {
    "hover_highlight": "#DAA520",
    "running_highlight": "#FF0000",
    "selected_highlight": "#FFD700"
   },
   "moveMenuLeft": true,
   "nav_menu": {
    "height": "120px",
    "width": "252px"
   },
   "navigate_menu": true,
   "number_sections": true,
   "sideBar": true,
   "threshold": 4,
   "toc_cell": false,
   "toc_section_display": "block",
   "toc_window_display": false
  }
 },
 "nbformat": 4,
 "nbformat_minor": 1
}
