{
 "cells": [
  {
   "cell_type": "markdown",
   "metadata": {},
   "source": [
    "[![Notebook Tutorial](__code/__all/notebook_tutorial.png)](https://neutronimaging.pages.ornl.gov/tutorial/notebooks/group_images_by_cycle_for_panoramic_stitching/#activate-search)\n",
    "<img src='__docs/__all/notebook_rules.png' />"
   ]
  },
  {
   "cell_type": "markdown",
   "metadata": {
    "run_control": {
     "frozen": false,
     "read_only": false
    }
   },
   "source": [
    "# Select Your IPTS "
   ]
  },
  {
   "cell_type": "code",
   "execution_count": 4,
   "metadata": {
    "run_control": {
     "frozen": false,
     "read_only": false
    }
   },
   "outputs": [
    {
     "data": {
      "text/html": [
       "\n",
       "                       <style>\n",
       "                       .result_label {\n",
       "                          font-style: bold;\n",
       "                          color: red;\n",
       "                          font-size: 18px;\n",
       "                       }\n",
       "                       </style>\n",
       "                       "
      ],
      "text/plain": [
       "<IPython.core.display.HTML object>"
      ]
     },
     "metadata": {},
     "output_type": "display_data"
    },
    {
     "name": "stdout",
     "output_type": "stream",
     "text": [
      "** Using Debugging Mode! **\n"
     ]
    },
    {
     "data": {
      "application/vnd.jupyter.widget-view+json": {
       "model_id": "a261414124c24e5388235b564f6247dd",
       "version_major": 2,
       "version_minor": 0
      },
      "text/plain": [
       "VBox(children=(HBox(children=(Label(value='Select Instrument', layout=Layout(width='20%')), Select(layout=Layo…"
      ]
     },
     "metadata": {},
     "output_type": "display_data"
    },
    {
     "data": {
      "text/html": [
       "<style>\n",
       "\n",
       "/* The following CSS has been adapted from\n",
       "   http://nbviewer.ipython.org/github/ketch/teaching-numerics-with-notebooks/blob/master/Styling_notebooks.ipynb\n",
       "   by Aron Ahmadia and David Ketcheson and has been reused under CC BY 4.0\n",
       "   */\n",
       "\n",
       "/* main background */\n",
       "#site { \n",
       "    background: #888;\n",
       "    color: #red; \n",
       "}\n",
       "\n",
       "div.container {\n",
       "    width: 100% ! important;\n",
       "}\n",
       "\n",
       "div.cell { /* set cell width to about 80 chars */\n",
       "    width: 95%;\n",
       "}\n",
       "\n",
       "div #notebook { /* centre the content */\n",
       "/*    background: #fff; /* white background for content */\n",
       "    background: blue;\n",
       "    width: 100%;\n",
       "    margin: auto;\n",
       "    padding-left: 1em;\n",
       "    padding-right: 1em;\n",
       "    background-image: url(\"tile_background.jpg\");\n",
       "}\n",
       "\n",
       "#notebook li { /* More space between bullet points */\n",
       "    margin-top:0.4em;\n",
       "}\n",
       "\n",
       "/* change background color of running cells */\n",
       "div.cell.code_cell.running {\n",
       "/*    background-color: rgba(164,188,194,.75); */\n",
       "    background-color: green;\n",
       "    border-width: 8px\n",
       "    border-style: solid\n",
       "    border-color: #111;\n",
       "}\n",
       "\n",
       "/* Put a solid color box around each cell and its output, visually linking them together */\n",
       "div.cell.code_cell {\n",
       "    background-color: rgba(164,188,194,.25); /* Continuum L Gray with alpha 0.25 */\n",
       "    border-radius: 10px; /* rounded borders */\n",
       "    padding: 1em;\n",
       "    margin-top: 1em;\n",
       "}\n",
       "\n",
       "div.text_cell_render{\n",
       "\tfont-family: Georgia, Times, 'Times New Roman', serif;\n",
       "    line-height: 110%;\n",
       "    font-size: 105%;\n",
       "    width: 95%;\n",
       "    margin-left: auto;\n",
       "    margin-right: auto;\n",
       "}\n",
       "\n",
       "\n",
       "/* Formatting for header cells */\n",
       ".text_cell_render h1 {\n",
       "\tfont-family: Arial, 'Helvetica Neue', Helvetica, sans-serif;\n",
       "    font-weight: 400;\n",
       "    font-size: 30pt;\n",
       "    line-height: 100%;\n",
       "    color: rgb(37,55,70); /* Continuum Blue*/\n",
       "    margin-bottom: 0.1em;\n",
       "    margin-top: 0.1em;\n",
       "    display: block;\n",
       "}\n",
       ".text_cell_render h2 {\n",
       "\tfont-family: Arial, 'Helvetica Neue', Helvetica, sans-serif;\n",
       "    font-weight: 700;\n",
       "    font-size: 22pt;\n",
       "    line-height: 100%;\n",
       "    color: rgb(37,55,70);\n",
       "    margin-bottom: 0.1em;\n",
       "    margin-top: 0.1em;\n",
       "    display: block;\n",
       "}\n",
       "\n",
       ".text_cell_render h3 {\n",
       "\tfont-family: Arial, 'Helvetica Neue', Helvetica, sans-serif;\n",
       "    margin-top:12px;\n",
       "    margin-bottom: 3px;\n",
       "    font-style: italic;\n",
       "    color: rgb(37, 55, 70);\n",
       "}\n",
       "\n",
       ".text_cell_render h4 {\n",
       "\tfont-family: Arial, 'Helvetica Neue', Helvetica, sans-serif;\n",
       "}\n",
       "\n",
       ".text_cell_render h5 {\n",
       "\tfont-family: Arial, 'Helvetica Neue', Helvetica, sans-serif;\n",
       "    font-weight: 300;\n",
       "    font-size: 14pt;\n",
       "    font-style: italic;\n",
       "    margin-bottom: .1em;\n",
       "    margin-top: 0.1em;\n",
       "    display: block;\n",
       "}\n",
       "\n",
       ".text_cell_render h6 {\n",
       "\tfont-family: Arial, 'Helvetica Neue', Helvetica, sans-serif;\n",
       "    font-weight: 300;\n",
       "    font-size: 10pt;\n",
       "    margin-bottom: 1px;\n",
       "    margin-top: 1px;\n",
       "}\n",
       "\n",
       ".CodeMirror{\n",
       "        font-family: \"PT Mono\", fixed;\n",
       "        font-size: 100%;\n",
       "}\n",
       "\n",
       "#notebook_panel { /* main background */\n",
       "    background-image: url(\"tile_background.jpg\");\n",
       "}\n",
       "\n",
       "\n",
       "\n",
       "\n",
       "</style>\n"
      ],
      "text/plain": [
       "<IPython.core.display.HTML object>"
      ]
     },
     "execution_count": 4,
     "metadata": {},
     "output_type": "execute_result"
    }
   ],
   "source": [
    "from __code.group_images_by_cycle_for_panoramic_stitching.group_images import GroupImages\n",
    "from __code import system\n",
    "system.System.select_working_dir()\n",
    "from __code.__all import custom_style\n",
    "custom_style.style()"
   ]
  },
  {
   "cell_type": "markdown",
   "metadata": {
    "run_control": {
     "frozen": false,
     "read_only": false
    }
   },
   "source": [
    "# Select Input Folder"
   ]
  },
  {
   "cell_type": "code",
   "execution_count": 5,
   "metadata": {
    "run_control": {
     "frozen": false,
     "read_only": false
    }
   },
   "outputs": [
    {
     "data": {
      "application/vnd.jupyter.widget-view+json": {
       "model_id": "",
       "version_major": 2,
       "version_minor": 0
      },
      "text/plain": [
       "VBox(children=(Label(value='select folder of images to sort', layout=Layout(width='250px')), VBox(children=(HB…"
      ]
     },
     "metadata": {},
     "output_type": "display_data"
    },
    {
     "data": {
      "text/html": [
       "<span style=\"font-size: 15px; color:blue\">Input folder /Users/j35/IPTS/IPTS-21632/Nov18_2019_Normalized_ImagesSamples2_3_10_arithmetic_mean</span><span style=\"font-size: 15px; color:green\"></span>"
      ],
      "text/plain": [
       "<IPython.core.display.HTML object>"
      ]
     },
     "metadata": {},
     "output_type": "display_data"
    },
    {
     "data": {
      "text/html": [
       "<span style=\"font-size: 15px; color:blue\">Nbr files 91</span><span style=\"font-size: 15px; color:green\"></span>"
      ],
      "text/plain": [
       "<IPython.core.display.HTML object>"
      ]
     },
     "metadata": {},
     "output_type": "display_data"
    },
    {
     "ename": "AttributeError",
     "evalue": "'NoneType' object has no attribute 'split'",
     "output_type": "error",
     "traceback": [
      "\u001b[0;31m---------------------------------------------------------------------------\u001b[0m",
      "\u001b[0;31mAttributeError\u001b[0m                            Traceback (most recent call last)",
      "\u001b[0;32m~/git/python_notebooks/notebooks/__code/ipywe/fileselector.py\u001b[0m in \u001b[0;36mvalidate\u001b[0;34m(self, s)\u001b[0m\n\u001b[1;32m    326\u001b[0m         \u001b[0;31m# next step\u001b[0m\u001b[0;34m\u001b[0m\u001b[0;34m\u001b[0m\u001b[0;34m\u001b[0m\u001b[0m\n\u001b[1;32m    327\u001b[0m         \u001b[0;32mif\u001b[0m \u001b[0mself\u001b[0m\u001b[0;34m.\u001b[0m\u001b[0mnext\u001b[0m\u001b[0;34m:\u001b[0m\u001b[0;34m\u001b[0m\u001b[0;34m\u001b[0m\u001b[0m\n\u001b[0;32m--> 328\u001b[0;31m             \u001b[0mself\u001b[0m\u001b[0;34m.\u001b[0m\u001b[0mnext\u001b[0m\u001b[0;34m(\u001b[0m\u001b[0mself\u001b[0m\u001b[0;34m.\u001b[0m\u001b[0mselected\u001b[0m\u001b[0;34m)\u001b[0m\u001b[0;34m\u001b[0m\u001b[0;34m\u001b[0m\u001b[0m\n\u001b[0m\u001b[1;32m    329\u001b[0m         \u001b[0;32mreturn\u001b[0m\u001b[0;34m\u001b[0m\u001b[0;34m\u001b[0m\u001b[0m\n\u001b[1;32m    330\u001b[0m \u001b[0;34m\u001b[0m\u001b[0m\n",
      "\u001b[0;32m~/git/python_notebooks/notebooks/__code/group_images_by_cycle_for_panoramic_stitching/group_images.py\u001b[0m in \u001b[0;36minfo_folder_selected\u001b[0;34m(self, selected)\u001b[0m\n\u001b[1;32m     78\u001b[0m \u001b[0;34m\u001b[0m\u001b[0m\n\u001b[1;32m     79\u001b[0m         \u001b[0;31m# group the images\u001b[0m\u001b[0;34m\u001b[0m\u001b[0;34m\u001b[0m\u001b[0;34m\u001b[0m\u001b[0m\n\u001b[0;32m---> 80\u001b[0;31m         \u001b[0mself\u001b[0m\u001b[0;34m.\u001b[0m\u001b[0mgroup_images\u001b[0m\u001b[0;34m(\u001b[0m\u001b[0;34m)\u001b[0m\u001b[0;34m\u001b[0m\u001b[0;34m\u001b[0m\u001b[0m\n\u001b[0m\u001b[1;32m     81\u001b[0m         \u001b[0mself\u001b[0m\u001b[0;34m.\u001b[0m\u001b[0mdisplay_groups\u001b[0m\u001b[0;34m(\u001b[0m\u001b[0;34m)\u001b[0m\u001b[0;34m\u001b[0m\u001b[0;34m\u001b[0m\u001b[0m\n\u001b[1;32m     82\u001b[0m \u001b[0;34m\u001b[0m\u001b[0m\n",
      "\u001b[0;32m~/git/python_notebooks/notebooks/__code/group_images_by_cycle_for_panoramic_stitching/group_images.py\u001b[0m in \u001b[0;36mgroup_images\u001b[0;34m(self)\u001b[0m\n\u001b[1;32m     93\u001b[0m                                      \u001b[0mlist_of_metadata_key\u001b[0m\u001b[0;34m=\u001b[0m\u001b[0mself\u001b[0m\u001b[0;34m.\u001b[0m\u001b[0mmetadata_key_to_select\u001b[0m\u001b[0;34m,\u001b[0m\u001b[0;34m\u001b[0m\u001b[0;34m\u001b[0m\u001b[0m\n\u001b[1;32m     94\u001b[0m                                      tolerance_value=METADATA_ERROR)\n\u001b[0;32m---> 95\u001b[0;31m         \u001b[0mo_group\u001b[0m\u001b[0;34m.\u001b[0m\u001b[0mrun\u001b[0m\u001b[0;34m(\u001b[0m\u001b[0;34m)\u001b[0m\u001b[0;34m\u001b[0m\u001b[0;34m\u001b[0m\u001b[0m\n\u001b[0m\u001b[1;32m     96\u001b[0m         \u001b[0mself\u001b[0m\u001b[0;34m.\u001b[0m\u001b[0mdictionary_of_groups_unsorted\u001b[0m \u001b[0;34m=\u001b[0m \u001b[0mo_group\u001b[0m\u001b[0;34m.\u001b[0m\u001b[0mdictionary_of_groups\u001b[0m\u001b[0;34m\u001b[0m\u001b[0;34m\u001b[0m\u001b[0m\n\u001b[1;32m     97\u001b[0m         \u001b[0mdict_new_names\u001b[0m \u001b[0;34m=\u001b[0m \u001b[0mGroupImages\u001b[0m\u001b[0;34m.\u001b[0m\u001b[0mmake_dictionary_of_groups_new_names\u001b[0m\u001b[0;34m(\u001b[0m\u001b[0mself\u001b[0m\u001b[0;34m.\u001b[0m\u001b[0mdictionary_of_groups_unsorted\u001b[0m\u001b[0;34m)\u001b[0m\u001b[0;34m\u001b[0m\u001b[0;34m\u001b[0m\u001b[0m\n",
      "\u001b[0;32m~/git/python_notebooks/notebooks/__code/group_images_by_cycle_for_panoramic_stitching/group_images_by_cycle.py\u001b[0m in \u001b[0;36mrun\u001b[0;34m(self)\u001b[0m\n\u001b[1;32m     23\u001b[0m \u001b[0;34m\u001b[0m\u001b[0m\n\u001b[1;32m     24\u001b[0m     \u001b[0;32mdef\u001b[0m \u001b[0mrun\u001b[0m\u001b[0;34m(\u001b[0m\u001b[0mself\u001b[0m\u001b[0;34m)\u001b[0m\u001b[0;34m:\u001b[0m\u001b[0;34m\u001b[0m\u001b[0;34m\u001b[0m\u001b[0m\n\u001b[0;32m---> 25\u001b[0;31m         \u001b[0mself\u001b[0m\u001b[0;34m.\u001b[0m\u001b[0mcreate_master_dictionary\u001b[0m\u001b[0;34m(\u001b[0m\u001b[0;34m)\u001b[0m\u001b[0;34m\u001b[0m\u001b[0;34m\u001b[0m\u001b[0m\n\u001b[0m\u001b[1;32m     26\u001b[0m         \u001b[0mself\u001b[0m\u001b[0;34m.\u001b[0m\u001b[0mgroup\u001b[0m\u001b[0;34m(\u001b[0m\u001b[0;34m)\u001b[0m\u001b[0;34m\u001b[0m\u001b[0;34m\u001b[0m\u001b[0m\n\u001b[1;32m     27\u001b[0m \u001b[0;34m\u001b[0m\u001b[0m\n",
      "\u001b[0;32m~/git/python_notebooks/notebooks/__code/group_images_by_cycle_for_panoramic_stitching/group_images_by_cycle.py\u001b[0m in \u001b[0;36mcreate_master_dictionary\u001b[0;34m(self)\u001b[0m\n\u001b[1;32m     38\u001b[0m             \u001b[0;32mfor\u001b[0m \u001b[0m_key\u001b[0m \u001b[0;32min\u001b[0m \u001b[0m_file_dict\u001b[0m\u001b[0;34m.\u001b[0m\u001b[0mkeys\u001b[0m\u001b[0;34m(\u001b[0m\u001b[0;34m)\u001b[0m\u001b[0;34m:\u001b[0m\u001b[0;34m\u001b[0m\u001b[0;34m\u001b[0m\u001b[0m\n\u001b[1;32m     39\u001b[0m                 \u001b[0m_element\u001b[0m \u001b[0;34m=\u001b[0m \u001b[0m_file_dict\u001b[0m\u001b[0;34m[\u001b[0m\u001b[0m_key\u001b[0m\u001b[0;34m]\u001b[0m\u001b[0;34m\u001b[0m\u001b[0;34m\u001b[0m\u001b[0m\n\u001b[0;32m---> 40\u001b[0;31m                 \u001b[0m_name\u001b[0m\u001b[0;34m,\u001b[0m \u001b[0m_value\u001b[0m \u001b[0;34m=\u001b[0m \u001b[0m_element\u001b[0m\u001b[0;34m.\u001b[0m\u001b[0msplit\u001b[0m\u001b[0;34m(\u001b[0m\u001b[0;34m\":\"\u001b[0m\u001b[0;34m)\u001b[0m\u001b[0;34m\u001b[0m\u001b[0;34m\u001b[0m\u001b[0m\n\u001b[0m\u001b[1;32m     41\u001b[0m                 \u001b[0;32mif\u001b[0m \u001b[0m_index\u001b[0m \u001b[0;34m==\u001b[0m \u001b[0;36m0\u001b[0m\u001b[0;34m:\u001b[0m\u001b[0;34m\u001b[0m\u001b[0;34m\u001b[0m\u001b[0m\n\u001b[1;32m     42\u001b[0m                     \u001b[0mlist_metadata_key\u001b[0m\u001b[0;34m.\u001b[0m\u001b[0mappend\u001b[0m\u001b[0;34m(\u001b[0m\u001b[0m_name\u001b[0m\u001b[0;34m)\u001b[0m\u001b[0;34m\u001b[0m\u001b[0;34m\u001b[0m\u001b[0m\n",
      "\u001b[0;31mAttributeError\u001b[0m: 'NoneType' object has no attribute 'split'"
     ]
    }
   ],
   "source": [
    "o_group = GroupImages(working_dir=system.System.get_working_dir())\n",
    "o_group.select_input_folder()"
   ]
  },
  {
   "cell_type": "code",
   "execution_count": 6,
   "metadata": {},
   "outputs": [
    {
     "data": {
      "text/plain": [
       "['/Users/j35/IPTS/IPTS-21632/Nov18_2019_Normalized_ImagesSamples2_3_10_arithmetic_mean/None_position0000.tiff',\n",
       " '/Users/j35/IPTS/IPTS-21632/Nov18_2019_Normalized_ImagesSamples2_3_10_arithmetic_mean/None_position0001.tiff',\n",
       " '/Users/j35/IPTS/IPTS-21632/Nov18_2019_Normalized_ImagesSamples2_3_10_arithmetic_mean/None_position0002.tiff',\n",
       " '/Users/j35/IPTS/IPTS-21632/Nov18_2019_Normalized_ImagesSamples2_3_10_arithmetic_mean/None_position0003.tiff',\n",
       " '/Users/j35/IPTS/IPTS-21632/Nov18_2019_Normalized_ImagesSamples2_3_10_arithmetic_mean/None_position0004.tiff',\n",
       " '/Users/j35/IPTS/IPTS-21632/Nov18_2019_Normalized_ImagesSamples2_3_10_arithmetic_mean/None_position0005.tiff',\n",
       " '/Users/j35/IPTS/IPTS-21632/Nov18_2019_Normalized_ImagesSamples2_3_10_arithmetic_mean/None_position0006.tiff',\n",
       " '/Users/j35/IPTS/IPTS-21632/Nov18_2019_Normalized_ImagesSamples2_3_10_arithmetic_mean/None_position0007.tiff',\n",
       " '/Users/j35/IPTS/IPTS-21632/Nov18_2019_Normalized_ImagesSamples2_3_10_arithmetic_mean/None_position0008.tiff',\n",
       " '/Users/j35/IPTS/IPTS-21632/Nov18_2019_Normalized_ImagesSamples2_3_10_arithmetic_mean/None_position0009.tiff',\n",
       " '/Users/j35/IPTS/IPTS-21632/Nov18_2019_Normalized_ImagesSamples2_3_10_arithmetic_mean/None_position0010.tiff',\n",
       " '/Users/j35/IPTS/IPTS-21632/Nov18_2019_Normalized_ImagesSamples2_3_10_arithmetic_mean/None_position0011.tiff',\n",
       " '/Users/j35/IPTS/IPTS-21632/Nov18_2019_Normalized_ImagesSamples2_3_10_arithmetic_mean/run1_position0012.tiff',\n",
       " '/Users/j35/IPTS/IPTS-21632/Nov18_2019_Normalized_ImagesSamples2_3_10_arithmetic_mean/run2_position0013.tiff',\n",
       " '/Users/j35/IPTS/IPTS-21632/Nov18_2019_Normalized_ImagesSamples2_3_10_arithmetic_mean/run2_position0014.tiff',\n",
       " '/Users/j35/IPTS/IPTS-21632/Nov18_2019_Normalized_ImagesSamples2_3_10_arithmetic_mean/run2_position0015.tiff',\n",
       " '/Users/j35/IPTS/IPTS-21632/Nov18_2019_Normalized_ImagesSamples2_3_10_arithmetic_mean/run2_position0016.tiff',\n",
       " '/Users/j35/IPTS/IPTS-21632/Nov18_2019_Normalized_ImagesSamples2_3_10_arithmetic_mean/run2_position0017.tiff',\n",
       " '/Users/j35/IPTS/IPTS-21632/Nov18_2019_Normalized_ImagesSamples2_3_10_arithmetic_mean/run2_position0018.tiff',\n",
       " '/Users/j35/IPTS/IPTS-21632/Nov18_2019_Normalized_ImagesSamples2_3_10_arithmetic_mean/run2_position0019.tiff',\n",
       " '/Users/j35/IPTS/IPTS-21632/Nov18_2019_Normalized_ImagesSamples2_3_10_arithmetic_mean/run2_position0020.tiff',\n",
       " '/Users/j35/IPTS/IPTS-21632/Nov18_2019_Normalized_ImagesSamples2_3_10_arithmetic_mean/run2_position0021.tiff',\n",
       " '/Users/j35/IPTS/IPTS-21632/Nov18_2019_Normalized_ImagesSamples2_3_10_arithmetic_mean/run2_position0022.tiff',\n",
       " '/Users/j35/IPTS/IPTS-21632/Nov18_2019_Normalized_ImagesSamples2_3_10_arithmetic_mean/run2_position0023.tiff',\n",
       " '/Users/j35/IPTS/IPTS-21632/Nov18_2019_Normalized_ImagesSamples2_3_10_arithmetic_mean/run2_position0024.tiff',\n",
       " '/Users/j35/IPTS/IPTS-21632/Nov18_2019_Normalized_ImagesSamples2_3_10_arithmetic_mean/run3_position0025.tiff',\n",
       " '/Users/j35/IPTS/IPTS-21632/Nov18_2019_Normalized_ImagesSamples2_3_10_arithmetic_mean/run3_position0026.tiff',\n",
       " '/Users/j35/IPTS/IPTS-21632/Nov18_2019_Normalized_ImagesSamples2_3_10_arithmetic_mean/run3_position0027.tiff',\n",
       " '/Users/j35/IPTS/IPTS-21632/Nov18_2019_Normalized_ImagesSamples2_3_10_arithmetic_mean/run3_position0028.tiff',\n",
       " '/Users/j35/IPTS/IPTS-21632/Nov18_2019_Normalized_ImagesSamples2_3_10_arithmetic_mean/run3_position0029.tiff',\n",
       " '/Users/j35/IPTS/IPTS-21632/Nov18_2019_Normalized_ImagesSamples2_3_10_arithmetic_mean/run3_position0030.tiff',\n",
       " '/Users/j35/IPTS/IPTS-21632/Nov18_2019_Normalized_ImagesSamples2_3_10_arithmetic_mean/run3_position0031.tiff',\n",
       " '/Users/j35/IPTS/IPTS-21632/Nov18_2019_Normalized_ImagesSamples2_3_10_arithmetic_mean/run3_position0032.tiff',\n",
       " '/Users/j35/IPTS/IPTS-21632/Nov18_2019_Normalized_ImagesSamples2_3_10_arithmetic_mean/run3_position0033.tiff',\n",
       " '/Users/j35/IPTS/IPTS-21632/Nov18_2019_Normalized_ImagesSamples2_3_10_arithmetic_mean/run3_position0034.tiff',\n",
       " '/Users/j35/IPTS/IPTS-21632/Nov18_2019_Normalized_ImagesSamples2_3_10_arithmetic_mean/run3_position0035.tiff',\n",
       " '/Users/j35/IPTS/IPTS-21632/Nov18_2019_Normalized_ImagesSamples2_3_10_arithmetic_mean/run3_position0036.tiff',\n",
       " '/Users/j35/IPTS/IPTS-21632/Nov18_2019_Normalized_ImagesSamples2_3_10_arithmetic_mean/run4_position0037.tiff',\n",
       " '/Users/j35/IPTS/IPTS-21632/Nov18_2019_Normalized_ImagesSamples2_3_10_arithmetic_mean/run4_position0038.tiff',\n",
       " '/Users/j35/IPTS/IPTS-21632/Nov18_2019_Normalized_ImagesSamples2_3_10_arithmetic_mean/run4_position0039.tiff',\n",
       " '/Users/j35/IPTS/IPTS-21632/Nov18_2019_Normalized_ImagesSamples2_3_10_arithmetic_mean/run4_position0040.tiff',\n",
       " '/Users/j35/IPTS/IPTS-21632/Nov18_2019_Normalized_ImagesSamples2_3_10_arithmetic_mean/run4_position0041.tiff',\n",
       " '/Users/j35/IPTS/IPTS-21632/Nov18_2019_Normalized_ImagesSamples2_3_10_arithmetic_mean/run4_position0042.tiff',\n",
       " '/Users/j35/IPTS/IPTS-21632/Nov18_2019_Normalized_ImagesSamples2_3_10_arithmetic_mean/run4_position0043.tiff',\n",
       " '/Users/j35/IPTS/IPTS-21632/Nov18_2019_Normalized_ImagesSamples2_3_10_arithmetic_mean/run4_position0044.tiff',\n",
       " '/Users/j35/IPTS/IPTS-21632/Nov18_2019_Normalized_ImagesSamples2_3_10_arithmetic_mean/run4_position0045.tiff',\n",
       " '/Users/j35/IPTS/IPTS-21632/Nov18_2019_Normalized_ImagesSamples2_3_10_arithmetic_mean/run4_position0046.tiff',\n",
       " '/Users/j35/IPTS/IPTS-21632/Nov18_2019_Normalized_ImagesSamples2_3_10_arithmetic_mean/run4_position0047.tiff',\n",
       " '/Users/j35/IPTS/IPTS-21632/Nov18_2019_Normalized_ImagesSamples2_3_10_arithmetic_mean/run4_position0048.tiff',\n",
       " '/Users/j35/IPTS/IPTS-21632/Nov18_2019_Normalized_ImagesSamples2_3_10_arithmetic_mean/run5_position0049.tiff',\n",
       " '/Users/j35/IPTS/IPTS-21632/Nov18_2019_Normalized_ImagesSamples2_3_10_arithmetic_mean/run5_position0050.tiff',\n",
       " '/Users/j35/IPTS/IPTS-21632/Nov18_2019_Normalized_ImagesSamples2_3_10_arithmetic_mean/run5_position0051.tiff',\n",
       " '/Users/j35/IPTS/IPTS-21632/Nov18_2019_Normalized_ImagesSamples2_3_10_arithmetic_mean/run5_position0052.tiff',\n",
       " '/Users/j35/IPTS/IPTS-21632/Nov18_2019_Normalized_ImagesSamples2_3_10_arithmetic_mean/run5_position0053.tiff',\n",
       " '/Users/j35/IPTS/IPTS-21632/Nov18_2019_Normalized_ImagesSamples2_3_10_arithmetic_mean/run5_position0054.tiff',\n",
       " '/Users/j35/IPTS/IPTS-21632/Nov18_2019_Normalized_ImagesSamples2_3_10_arithmetic_mean/run5_position0055.tiff',\n",
       " '/Users/j35/IPTS/IPTS-21632/Nov18_2019_Normalized_ImagesSamples2_3_10_arithmetic_mean/run5_position0056.tiff',\n",
       " '/Users/j35/IPTS/IPTS-21632/Nov18_2019_Normalized_ImagesSamples2_3_10_arithmetic_mean/run5_position0057.tiff',\n",
       " '/Users/j35/IPTS/IPTS-21632/Nov18_2019_Normalized_ImagesSamples2_3_10_arithmetic_mean/run5_position0058.tiff',\n",
       " '/Users/j35/IPTS/IPTS-21632/Nov18_2019_Normalized_ImagesSamples2_3_10_arithmetic_mean/run5_position0059.tiff',\n",
       " '/Users/j35/IPTS/IPTS-21632/Nov18_2019_Normalized_ImagesSamples2_3_10_arithmetic_mean/run5_position0060.tiff',\n",
       " '/Users/j35/IPTS/IPTS-21632/Nov18_2019_Normalized_ImagesSamples2_3_10_arithmetic_mean/run6_position0061.tiff',\n",
       " '/Users/j35/IPTS/IPTS-21632/Nov18_2019_Normalized_ImagesSamples2_3_10_arithmetic_mean/run6_position0062.tiff',\n",
       " '/Users/j35/IPTS/IPTS-21632/Nov18_2019_Normalized_ImagesSamples2_3_10_arithmetic_mean/run6_position0063.tiff',\n",
       " '/Users/j35/IPTS/IPTS-21632/Nov18_2019_Normalized_ImagesSamples2_3_10_arithmetic_mean/run6_position0064.tiff',\n",
       " '/Users/j35/IPTS/IPTS-21632/Nov18_2019_Normalized_ImagesSamples2_3_10_arithmetic_mean/run6_position0065.tiff',\n",
       " '/Users/j35/IPTS/IPTS-21632/Nov18_2019_Normalized_ImagesSamples2_3_10_arithmetic_mean/run6_position0066.tiff',\n",
       " '/Users/j35/IPTS/IPTS-21632/Nov18_2019_Normalized_ImagesSamples2_3_10_arithmetic_mean/run6_position0067.tiff',\n",
       " '/Users/j35/IPTS/IPTS-21632/Nov18_2019_Normalized_ImagesSamples2_3_10_arithmetic_mean/run6_position0068.tiff',\n",
       " '/Users/j35/IPTS/IPTS-21632/Nov18_2019_Normalized_ImagesSamples2_3_10_arithmetic_mean/run6_position0069.tiff',\n",
       " '/Users/j35/IPTS/IPTS-21632/Nov18_2019_Normalized_ImagesSamples2_3_10_arithmetic_mean/run6_position0070.tiff',\n",
       " '/Users/j35/IPTS/IPTS-21632/Nov18_2019_Normalized_ImagesSamples2_3_10_arithmetic_mean/run6_position0071.tiff',\n",
       " '/Users/j35/IPTS/IPTS-21632/Nov18_2019_Normalized_ImagesSamples2_3_10_arithmetic_mean/run6_position0072.tiff',\n",
       " '/Users/j35/IPTS/IPTS-21632/Nov18_2019_Normalized_ImagesSamples2_3_10_arithmetic_mean/run7_position0073.tiff',\n",
       " '/Users/j35/IPTS/IPTS-21632/Nov18_2019_Normalized_ImagesSamples2_3_10_arithmetic_mean/run7_position0074.tiff',\n",
       " '/Users/j35/IPTS/IPTS-21632/Nov18_2019_Normalized_ImagesSamples2_3_10_arithmetic_mean/run7_position0075.tiff',\n",
       " '/Users/j35/IPTS/IPTS-21632/Nov18_2019_Normalized_ImagesSamples2_3_10_arithmetic_mean/run7_position0076.tiff',\n",
       " '/Users/j35/IPTS/IPTS-21632/Nov18_2019_Normalized_ImagesSamples2_3_10_arithmetic_mean/run7_position0077.tiff',\n",
       " '/Users/j35/IPTS/IPTS-21632/Nov18_2019_Normalized_ImagesSamples2_3_10_arithmetic_mean/run7_position0078.tiff',\n",
       " '/Users/j35/IPTS/IPTS-21632/Nov18_2019_Normalized_ImagesSamples2_3_10_arithmetic_mean/run7_position0079.tiff',\n",
       " '/Users/j35/IPTS/IPTS-21632/Nov18_2019_Normalized_ImagesSamples2_3_10_arithmetic_mean/run7_position0080.tiff',\n",
       " '/Users/j35/IPTS/IPTS-21632/Nov18_2019_Normalized_ImagesSamples2_3_10_arithmetic_mean/run7_position0081.tiff',\n",
       " '/Users/j35/IPTS/IPTS-21632/Nov18_2019_Normalized_ImagesSamples2_3_10_arithmetic_mean/run7_position0082.tiff',\n",
       " '/Users/j35/IPTS/IPTS-21632/Nov18_2019_Normalized_ImagesSamples2_3_10_arithmetic_mean/run7_position0083.tiff',\n",
       " '/Users/j35/IPTS/IPTS-21632/Nov18_2019_Normalized_ImagesSamples2_3_10_arithmetic_mean/run7_position0084.tiff',\n",
       " '/Users/j35/IPTS/IPTS-21632/Nov18_2019_Normalized_ImagesSamples2_3_10_arithmetic_mean/run8_position0085.tiff',\n",
       " '/Users/j35/IPTS/IPTS-21632/Nov18_2019_Normalized_ImagesSamples2_3_10_arithmetic_mean/run8_position0086.tiff',\n",
       " '/Users/j35/IPTS/IPTS-21632/Nov18_2019_Normalized_ImagesSamples2_3_10_arithmetic_mean/run8_position0087.tiff',\n",
       " '/Users/j35/IPTS/IPTS-21632/Nov18_2019_Normalized_ImagesSamples2_3_10_arithmetic_mean/run8_position0088.tiff',\n",
       " '/Users/j35/IPTS/IPTS-21632/Nov18_2019_Normalized_ImagesSamples2_3_10_arithmetic_mean/run8_position0089.tiff',\n",
       " '/Users/j35/IPTS/IPTS-21632/Nov18_2019_Normalized_ImagesSamples2_3_10_arithmetic_mean/run8_position0090.tiff']"
      ]
     },
     "execution_count": 6,
     "metadata": {},
     "output_type": "execute_result"
    }
   ],
   "source": [
    "o_group.list_images"
   ]
  },
  {
   "cell_type": "markdown",
   "metadata": {},
   "source": [
    "# Sort files "
   ]
  },
  {
   "cell_type": "code",
   "execution_count": 3,
   "metadata": {},
   "outputs": [
    {
     "data": {
      "application/vnd.jupyter.widget-view+json": {
       "model_id": "daaefb4885824b68884fdc9a4933e191",
       "version_major": 2,
       "version_minor": 0
      },
      "text/plain": [
       "Tab(children=(VBox(children=(Label(value='Metadata name:', layout=Layout(width='150px')), Select(layout=Layout…"
      ]
     },
     "metadata": {},
     "output_type": "display_data"
    },
    {
     "data": {
      "application/vnd.jupyter.widget-view+json": {
       "model_id": "aa800d022f824affa948d92740fbf5fb",
       "version_major": 2,
       "version_minor": 0
      },
      "text/plain": [
       "VBox(children=(HBox(children=(Label(value='Select Group', layout=Layout(width='100px')), Dropdown(layout=Layou…"
      ]
     },
     "metadata": {},
     "output_type": "display_data"
    }
   ],
   "source": [
    "o_group.how_to_sort_files()"
   ]
  },
  {
   "cell_type": "markdown",
   "metadata": {
    "run_control": {
     "frozen": false,
     "read_only": false
    }
   },
   "source": [
    "# Select Output Folder\n",
    "\n",
    "A folder will be created in this output folder and named after the input folder name."
   ]
  },
  {
   "cell_type": "code",
   "execution_count": null,
   "metadata": {
    "run_control": {
     "frozen": false,
     "read_only": false
    }
   },
   "outputs": [],
   "source": [
    "o_group.select_output_folder()"
   ]
  },
  {
   "cell_type": "code",
   "execution_count": null,
   "metadata": {},
   "outputs": [],
   "source": []
  }
 ],
 "metadata": {
  "anaconda-cloud": {},
  "kernelspec": {
   "display_name": "Python 3",
   "language": "python",
   "name": "python3"
  },
  "language_info": {
   "codemirror_mode": {
    "name": "ipython",
    "version": 3
   },
   "file_extension": ".py",
   "mimetype": "text/x-python",
   "name": "python",
   "nbconvert_exporter": "python",
   "pygments_lexer": "ipython3",
   "version": "3.6.10"
  },
  "toc": {
   "colors": {
    "hover_highlight": "#DAA520",
    "running_highlight": "#FF0000",
    "selected_highlight": "#FFD700"
   },
   "moveMenuLeft": true,
   "nav_menu": {
    "height": "210px",
    "width": "252px"
   },
   "navigate_menu": true,
   "number_sections": true,
   "sideBar": true,
   "threshold": 4,
   "toc_cell": false,
   "toc_section_display": "block",
   "toc_window_display": false
  }
 },
 "nbformat": 4,
 "nbformat_minor": 1
}
