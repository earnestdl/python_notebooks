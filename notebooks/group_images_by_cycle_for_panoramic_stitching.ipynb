{
 "cells": [
  {
   "cell_type": "markdown",
   "metadata": {},
   "source": [
    "[![Notebook Tutorial](__code/__all/notebook_tutorial.png)](https://neutronimaging.pages.ornl.gov/tutorial/notebooks/group_images_by_cycle_for_panoramic_stitching/#activate-search)\n",
    "<img src='__docs/__all/notebook_rules.png' />"
   ]
  },
  {
   "cell_type": "markdown",
   "metadata": {
    "run_control": {
     "frozen": false,
     "read_only": false
    }
   },
   "source": [
    "# Select Your IPTS "
   ]
  },
  {
   "cell_type": "code",
   "execution_count": 1,
   "metadata": {
    "run_control": {
     "frozen": false,
     "read_only": false
    }
   },
   "outputs": [
    {
     "data": {
      "text/html": [
       "\n",
       "<style type=\"text/css\">\n",
       ".jupyter-widgets select option {font-family: \"Lucida Console\", Monaco, monospace;}\n",
       ".jupyter-widgets select {width: 98%;}\n",
       "div.output_subarea {padding: 0px;}\n",
       "div.output_subarea > div {margin: 0.4em;}\n",
       "</style>\n"
      ],
      "text/plain": [
       "<IPython.core.display.HTML object>"
      ]
     },
     "metadata": {},
     "output_type": "display_data"
    },
    {
     "data": {
      "text/html": [
       "\n",
       "                       <style>\n",
       "                       .result_label {\n",
       "                          font-style: bold;\n",
       "                          color: red;\n",
       "                          font-size: 18px;\n",
       "                       }\n",
       "                       </style>\n",
       "                       "
      ],
      "text/plain": [
       "<IPython.core.display.HTML object>"
      ]
     },
     "metadata": {},
     "output_type": "display_data"
    },
    {
     "name": "stdout",
     "output_type": "stream",
     "text": [
      "** Using Debugging Mode! **\n"
     ]
    },
    {
     "data": {
      "application/vnd.jupyter.widget-view+json": {
       "model_id": "23f0be5a759740c5a3d7c8de01c1111f",
       "version_major": 2,
       "version_minor": 0
      },
      "text/plain": [
       "VBox(children=(HBox(children=(Label(value='Select Instrument', layout=Layout(width='20%')), Select(layout=Layo…"
      ]
     },
     "metadata": {},
     "output_type": "display_data"
    },
    {
     "data": {
      "text/html": [
       "<style>\n",
       "\n",
       "/* The following CSS has been adapted from\n",
       "   http://nbviewer.ipython.org/github/ketch/teaching-numerics-with-notebooks/blob/master/Styling_notebooks.ipynb\n",
       "   by Aron Ahmadia and David Ketcheson and has been reused under CC BY 4.0\n",
       "   */\n",
       "\n",
       "/* main background */\n",
       "#site { \n",
       "    background: #888;\n",
       "    color: #red; \n",
       "}\n",
       "\n",
       "div.container {\n",
       "    width: 100% ! important;\n",
       "}\n",
       "\n",
       "div.cell { /* set cell width to about 80 chars */\n",
       "    width: 95%;\n",
       "}\n",
       "\n",
       "div #notebook { /* centre the content */\n",
       "/*    background: #fff; /* white background for content */\n",
       "    background: blue;\n",
       "    width: 100%;\n",
       "    margin: auto;\n",
       "    padding-left: 1em;\n",
       "    padding-right: 1em;\n",
       "    background-image: url(\"tile_background.jpg\");\n",
       "}\n",
       "\n",
       "#notebook li { /* More space between bullet points */\n",
       "    margin-top:0.4em;\n",
       "}\n",
       "\n",
       "/* change background color of running cells */\n",
       "div.cell.code_cell.running {\n",
       "/*    background-color: rgba(164,188,194,.75); */\n",
       "    background-color: green;\n",
       "    border-width: 8px\n",
       "    border-style: solid\n",
       "    border-color: #111;\n",
       "}\n",
       "\n",
       "/* Put a solid color box around each cell and its output, visually linking them together */\n",
       "div.cell.code_cell {\n",
       "    background-color: rgba(164,188,194,.25); /* Continuum L Gray with alpha 0.25 */\n",
       "    border-radius: 10px; /* rounded borders */\n",
       "    padding: 1em;\n",
       "    margin-top: 1em;\n",
       "}\n",
       "\n",
       "div.text_cell_render{\n",
       "\tfont-family: Georgia, Times, 'Times New Roman', serif;\n",
       "    line-height: 110%;\n",
       "    font-size: 105%;\n",
       "    width: 95%;\n",
       "    margin-left: auto;\n",
       "    margin-right: auto;\n",
       "}\n",
       "\n",
       "\n",
       "/* Formatting for header cells */\n",
       ".text_cell_render h1 {\n",
       "\tfont-family: Arial, 'Helvetica Neue', Helvetica, sans-serif;\n",
       "    font-weight: 400;\n",
       "    font-size: 30pt;\n",
       "    line-height: 100%;\n",
       "    color: rgb(37,55,70); /* Continuum Blue*/\n",
       "    margin-bottom: 0.1em;\n",
       "    margin-top: 0.1em;\n",
       "    display: block;\n",
       "}\n",
       ".text_cell_render h2 {\n",
       "\tfont-family: Arial, 'Helvetica Neue', Helvetica, sans-serif;\n",
       "    font-weight: 700;\n",
       "    font-size: 22pt;\n",
       "    line-height: 100%;\n",
       "    color: rgb(37,55,70);\n",
       "    margin-bottom: 0.1em;\n",
       "    margin-top: 0.1em;\n",
       "    display: block;\n",
       "}\n",
       "\n",
       ".text_cell_render h3 {\n",
       "\tfont-family: Arial, 'Helvetica Neue', Helvetica, sans-serif;\n",
       "    margin-top:12px;\n",
       "    margin-bottom: 3px;\n",
       "    font-style: italic;\n",
       "    color: rgb(37, 55, 70);\n",
       "}\n",
       "\n",
       ".text_cell_render h4 {\n",
       "\tfont-family: Arial, 'Helvetica Neue', Helvetica, sans-serif;\n",
       "}\n",
       "\n",
       ".text_cell_render h5 {\n",
       "\tfont-family: Arial, 'Helvetica Neue', Helvetica, sans-serif;\n",
       "    font-weight: 300;\n",
       "    font-size: 14pt;\n",
       "    font-style: italic;\n",
       "    margin-bottom: .1em;\n",
       "    margin-top: 0.1em;\n",
       "    display: block;\n",
       "}\n",
       "\n",
       ".text_cell_render h6 {\n",
       "\tfont-family: Arial, 'Helvetica Neue', Helvetica, sans-serif;\n",
       "    font-weight: 300;\n",
       "    font-size: 10pt;\n",
       "    margin-bottom: 1px;\n",
       "    margin-top: 1px;\n",
       "}\n",
       "\n",
       ".CodeMirror{\n",
       "        font-family: \"PT Mono\", fixed;\n",
       "        font-size: 100%;\n",
       "}\n",
       "\n",
       "#notebook_panel { /* main background */\n",
       "    background-image: url(\"tile_background.jpg\");\n",
       "}\n",
       "\n",
       "\n",
       "\n",
       "\n",
       "</style>\n"
      ],
      "text/plain": [
       "<IPython.core.display.HTML object>"
      ]
     },
     "execution_count": 1,
     "metadata": {},
     "output_type": "execute_result"
    }
   ],
   "source": [
    "from __code.group_images_by_cycle_for_panoramic_stitching.group_images import GroupImages\n",
    "from __code import system\n",
    "system.System.select_working_dir()\n",
    "from __code.__all import custom_style\n",
    "custom_style.style()"
   ]
  },
  {
   "cell_type": "markdown",
   "metadata": {
    "run_control": {
     "frozen": false,
     "read_only": false
    }
   },
   "source": [
    "# Select Input Folder"
   ]
  },
  {
   "cell_type": "code",
   "execution_count": 2,
   "metadata": {
    "run_control": {
     "frozen": false,
     "read_only": false
    },
    "scrolled": false
   },
   "outputs": [
    {
     "data": {
      "application/vnd.jupyter.widget-view+json": {
       "model_id": "",
       "version_major": 2,
       "version_minor": 0
      },
      "text/plain": [
       "VBox(children=(Label(value='select folder of images to sort', layout=Layout(width='250px')), VBox(children=(HB…"
      ]
     },
     "metadata": {},
     "output_type": "display_data"
    },
    {
     "data": {
      "text/html": [
       "<span style=\"font-size: 15px; color:blue\">Input folder/Users/j35/IPTS/IPTS-20267-Jonathan/Jan07_2020</span><span style=\"font-size: 15px; color:green\"></span>"
      ],
      "text/plain": [
       "<IPython.core.display.HTML object>"
      ]
     },
     "metadata": {},
     "output_type": "display_data"
    },
    {
     "data": {
      "text/html": [
       "<span style=\"font-size: 15px; color:blue\">Nbr files291</span><span style=\"font-size: 15px; color:green\"></span>"
      ],
      "text/plain": [
       "<IPython.core.display.HTML object>"
      ]
     },
     "metadata": {},
     "output_type": "display_data"
    },
    {
     "data": {
      "application/vnd.jupyter.widget-view+json": {
       "model_id": "92585dc0a77d4ac4b7f070917f556a66",
       "version_major": 2,
       "version_minor": 0
      },
      "text/plain": [
       "HBox(children=(VBox(children=(Label(value='Select Group:'), Select(layout=Layout(height='300px', width='100px'…"
      ]
     },
     "metadata": {},
     "output_type": "display_data"
    },
    {
     "data": {
      "application/vnd.jupyter.widget-view+json": {
       "model_id": "4037d6e03e6841de859f431a5c59fd45",
       "version_major": 2,
       "version_minor": 0
      },
      "text/plain": [
       "HBox(children=(Label(value='Images are in:'), Label(value='/Users/j35/IPTS/IPTS-20267-Jonathan/Jan07_2020', la…"
      ]
     },
     "metadata": {},
     "output_type": "display_data"
    }
   ],
   "source": [
    "o_group = GroupImages(working_dir=system.System.get_working_dir())\n",
    "o_group.select_input_folder()"
   ]
  },
  {
   "cell_type": "markdown",
   "metadata": {},
   "source": [
    "# Sort files "
   ]
  },
  {
   "cell_type": "code",
   "execution_count": 3,
   "metadata": {},
   "outputs": [
    {
     "data": {
      "application/vnd.jupyter.widget-view+json": {
       "model_id": "435e56d8632e4206a3b69cc2f893088e",
       "version_major": 2,
       "version_minor": 0
      },
      "text/plain": [
       "Tab(children=(VBox(children=(Label(value='Metadata name:', layout=Layout(width='150px')), Select(layout=Layout…"
      ]
     },
     "metadata": {},
     "output_type": "display_data"
    },
    {
     "data": {
      "application/vnd.jupyter.widget-view+json": {
       "model_id": "c424a26d50954c6580a46b4201e47c11",
       "version_major": 2,
       "version_minor": 0
      },
      "text/plain": [
       "VBox(children=(HBox(children=(Label(value='Select Group', layout=Layout(width='100px')), Dropdown(layout=Layou…"
      ]
     },
     "metadata": {},
     "output_type": "display_data"
    },
    {
     "name": "stdout",
     "output_type": "stream",
     "text": [
      "{'1st_variable': {'name': 'MotLiftTable', 'is_ascending': True}, '2nd_variable': {'name': 'MotLongAxis', 'is_ascending': True}}\n",
      "{'1st_variable': {'name': 'MotLiftTable', 'is_ascending': True}, '2nd_variable': {'name': 'MotLongAxis', 'is_ascending': True}}\n"
     ]
    }
   ],
   "source": [
    "o_group.how_to_sort_files()"
   ]
  },
  {
   "cell_type": "code",
   "execution_count": 5,
   "metadata": {
    "scrolled": false
   },
   "outputs": [
    {
     "data": {
      "text/plain": [
       "OrderedDict([(0,\n",
       "              ['/Users/j35/IPTS/IPTS-20267-Jonathan/Jan07_2020/normalized_20200107_sam1_D2O_LightOn_0030_0021.tif',\n",
       "               '/Users/j35/IPTS/IPTS-20267-Jonathan/Jan07_2020/normalized_20200107_sam1_D2O_LightOn_0030_0022.tif',\n",
       "               '/Users/j35/IPTS/IPTS-20267-Jonathan/Jan07_2020/normalized_20200107_sam1_D2O_LightOn_0030_0023.tif',\n",
       "               '/Users/j35/IPTS/IPTS-20267-Jonathan/Jan07_2020/normalized_20200107_sam1_D2O_LightOn_0030_0024.tif',\n",
       "               '/Users/j35/IPTS/IPTS-20267-Jonathan/Jan07_2020/normalized_20200107_sam1_D2O_LightOn_0030_0025.tif',\n",
       "               '/Users/j35/IPTS/IPTS-20267-Jonathan/Jan07_2020/normalized_20200107_sam1_D2O_LightOn_0030_0026.tif',\n",
       "               '/Users/j35/IPTS/IPTS-20267-Jonathan/Jan07_2020/normalized_20200107_sam1_D2O_LightOn_0030_0027.tif',\n",
       "               '/Users/j35/IPTS/IPTS-20267-Jonathan/Jan07_2020/normalized_20200107_sam1_D2O_LightOn_0030_0028.tif',\n",
       "               '/Users/j35/IPTS/IPTS-20267-Jonathan/Jan07_2020/normalized_20200107_sam1_D2O_LightOn_0030_0029.tif']),\n",
       "             (1,\n",
       "              ['/Users/j35/IPTS/IPTS-20267-Jonathan/Jan07_2020/normalized_20200107_sam1_D2O_LightOn_0030_0030.tif',\n",
       "               '/Users/j35/IPTS/IPTS-20267-Jonathan/Jan07_2020/normalized_20200107_sam1_D2O_LightOn_0030_0031.tif',\n",
       "               '/Users/j35/IPTS/IPTS-20267-Jonathan/Jan07_2020/normalized_20200107_sam1_D2O_LightOn_0030_0032.tif',\n",
       "               '/Users/j35/IPTS/IPTS-20267-Jonathan/Jan07_2020/normalized_20200107_sam1_D2O_LightOn_0030_0033.tif',\n",
       "               '/Users/j35/IPTS/IPTS-20267-Jonathan/Jan07_2020/normalized_20200107_sam1_D2O_LightOn_0030_0034.tif',\n",
       "               '/Users/j35/IPTS/IPTS-20267-Jonathan/Jan07_2020/normalized_20200107_sam1_D2O_LightOn_0030_0035.tif',\n",
       "               '/Users/j35/IPTS/IPTS-20267-Jonathan/Jan07_2020/normalized_20200107_sam1_D2O_LightOn_0030_0036.tif',\n",
       "               '/Users/j35/IPTS/IPTS-20267-Jonathan/Jan07_2020/normalized_20200107_sam1_D2O_LightOn_0030_0037.tif',\n",
       "               '/Users/j35/IPTS/IPTS-20267-Jonathan/Jan07_2020/normalized_20200107_sam1_D2O_LightOn_0030_0038.tif']),\n",
       "             (2,\n",
       "              ['/Users/j35/IPTS/IPTS-20267-Jonathan/Jan07_2020/normalized_20200107_sam1_D2O_LightOn_0030_0039.tif',\n",
       "               '/Users/j35/IPTS/IPTS-20267-Jonathan/Jan07_2020/normalized_20200107_sam1_D2O_LightOn_0030_0040.tif',\n",
       "               '/Users/j35/IPTS/IPTS-20267-Jonathan/Jan07_2020/normalized_20200107_sam1_D2O_LightOn_0030_0041.tif',\n",
       "               '/Users/j35/IPTS/IPTS-20267-Jonathan/Jan07_2020/normalized_20200107_sam1_D2O_LightOn_0030_0042.tif',\n",
       "               '/Users/j35/IPTS/IPTS-20267-Jonathan/Jan07_2020/normalized_20200107_sam1_D2O_LightOn_0030_0043.tif',\n",
       "               '/Users/j35/IPTS/IPTS-20267-Jonathan/Jan07_2020/normalized_20200107_sam1_D2O_LightOn_0030_0044.tif',\n",
       "               '/Users/j35/IPTS/IPTS-20267-Jonathan/Jan07_2020/normalized_20200107_sam1_D2O_LightOn_0030_0045.tif',\n",
       "               '/Users/j35/IPTS/IPTS-20267-Jonathan/Jan07_2020/normalized_20200107_sam1_D2O_LightOn_0030_0046.tif',\n",
       "               '/Users/j35/IPTS/IPTS-20267-Jonathan/Jan07_2020/normalized_20200107_sam1_D2O_LightOn_0030_0047.tif']),\n",
       "             (3,\n",
       "              ['/Users/j35/IPTS/IPTS-20267-Jonathan/Jan07_2020/normalized_20200107_sam1_D2O_LightOn_0030_0048.tif',\n",
       "               '/Users/j35/IPTS/IPTS-20267-Jonathan/Jan07_2020/normalized_20200107_sam1_D2O_LightOn_0030_0049.tif',\n",
       "               '/Users/j35/IPTS/IPTS-20267-Jonathan/Jan07_2020/normalized_20200107_sam1_D2O_LightOn_0030_0050.tif',\n",
       "               '/Users/j35/IPTS/IPTS-20267-Jonathan/Jan07_2020/normalized_20200107_sam1_D2O_LightOn_0030_0051.tif',\n",
       "               '/Users/j35/IPTS/IPTS-20267-Jonathan/Jan07_2020/normalized_20200107_sam1_D2O_LightOn_0030_0052.tif',\n",
       "               '/Users/j35/IPTS/IPTS-20267-Jonathan/Jan07_2020/normalized_20200107_sam1_D2O_LightOn_0030_0053.tif',\n",
       "               '/Users/j35/IPTS/IPTS-20267-Jonathan/Jan07_2020/normalized_20200107_sam1_D2O_LightOn_0030_0054.tif',\n",
       "               '/Users/j35/IPTS/IPTS-20267-Jonathan/Jan07_2020/normalized_20200107_sam1_D2O_LightOn_0030_0055.tif',\n",
       "               '/Users/j35/IPTS/IPTS-20267-Jonathan/Jan07_2020/normalized_20200107_sam1_D2O_LightOn_0030_0056.tif']),\n",
       "             (4,\n",
       "              ['/Users/j35/IPTS/IPTS-20267-Jonathan/Jan07_2020/normalized_20200107_sam1_D2O_LightOn_0030_0057.tif',\n",
       "               '/Users/j35/IPTS/IPTS-20267-Jonathan/Jan07_2020/normalized_20200107_sam1_D2O_LightOn_0030_0058.tif',\n",
       "               '/Users/j35/IPTS/IPTS-20267-Jonathan/Jan07_2020/normalized_20200107_sam1_D2O_LightOn_0030_0059.tif',\n",
       "               '/Users/j35/IPTS/IPTS-20267-Jonathan/Jan07_2020/normalized_20200107_sam1_D2O_LightOn_0030_0060.tif',\n",
       "               '/Users/j35/IPTS/IPTS-20267-Jonathan/Jan07_2020/normalized_20200107_sam1_D2O_LightOn_0030_0061.tif',\n",
       "               '/Users/j35/IPTS/IPTS-20267-Jonathan/Jan07_2020/normalized_20200107_sam1_D2O_LightOn_0030_0062.tif',\n",
       "               '/Users/j35/IPTS/IPTS-20267-Jonathan/Jan07_2020/normalized_20200107_sam1_D2O_LightOn_0030_0063.tif',\n",
       "               '/Users/j35/IPTS/IPTS-20267-Jonathan/Jan07_2020/normalized_20200107_sam1_D2O_LightOn_0030_0064.tif',\n",
       "               '/Users/j35/IPTS/IPTS-20267-Jonathan/Jan07_2020/normalized_20200107_sam1_D2O_LightOn_0030_0065.tif']),\n",
       "             (5,\n",
       "              ['/Users/j35/IPTS/IPTS-20267-Jonathan/Jan07_2020/normalized_20200107_sam1_D2O_LightOn_0030_0066.tif',\n",
       "               '/Users/j35/IPTS/IPTS-20267-Jonathan/Jan07_2020/normalized_20200107_sam1_D2O_LightOn_0030_0067.tif',\n",
       "               '/Users/j35/IPTS/IPTS-20267-Jonathan/Jan07_2020/normalized_20200107_sam1_D2O_LightOn_0030_0068.tif',\n",
       "               '/Users/j35/IPTS/IPTS-20267-Jonathan/Jan07_2020/normalized_20200107_sam1_D2O_LightOn_0030_0069.tif',\n",
       "               '/Users/j35/IPTS/IPTS-20267-Jonathan/Jan07_2020/normalized_20200107_sam1_D2O_LightOn_0030_0070.tif',\n",
       "               '/Users/j35/IPTS/IPTS-20267-Jonathan/Jan07_2020/normalized_20200107_sam1_D2O_LightOn_0030_0071.tif',\n",
       "               '/Users/j35/IPTS/IPTS-20267-Jonathan/Jan07_2020/normalized_20200107_sam1_D2O_LightOn_0030_0072.tif',\n",
       "               '/Users/j35/IPTS/IPTS-20267-Jonathan/Jan07_2020/normalized_20200107_sam1_D2O_LightOn_0030_0073.tif',\n",
       "               '/Users/j35/IPTS/IPTS-20267-Jonathan/Jan07_2020/normalized_20200107_sam1_D2O_LightOn_0030_0074.tif']),\n",
       "             (6,\n",
       "              ['/Users/j35/IPTS/IPTS-20267-Jonathan/Jan07_2020/normalized_20200107_sam1_D2O_LightOn_0030_0075.tif',\n",
       "               '/Users/j35/IPTS/IPTS-20267-Jonathan/Jan07_2020/normalized_20200107_sam1_D2O_LightOn_0030_0076.tif',\n",
       "               '/Users/j35/IPTS/IPTS-20267-Jonathan/Jan07_2020/normalized_20200107_sam1_D2O_LightOn_0030_0077.tif',\n",
       "               '/Users/j35/IPTS/IPTS-20267-Jonathan/Jan07_2020/normalized_20200107_sam1_D2O_LightOn_0030_0078.tif',\n",
       "               '/Users/j35/IPTS/IPTS-20267-Jonathan/Jan07_2020/normalized_20200107_sam1_D2O_LightOn_0030_0079.tif',\n",
       "               '/Users/j35/IPTS/IPTS-20267-Jonathan/Jan07_2020/normalized_20200107_sam1_D2O_LightOn_0030_0080.tif',\n",
       "               '/Users/j35/IPTS/IPTS-20267-Jonathan/Jan07_2020/normalized_20200107_sam1_D2O_LightOn_0030_0081.tif',\n",
       "               '/Users/j35/IPTS/IPTS-20267-Jonathan/Jan07_2020/normalized_20200107_sam1_D2O_LightOn_0030_0082.tif',\n",
       "               '/Users/j35/IPTS/IPTS-20267-Jonathan/Jan07_2020/normalized_20200107_sam1_D2O_LightOn_0030_0083.tif']),\n",
       "             (7,\n",
       "              ['/Users/j35/IPTS/IPTS-20267-Jonathan/Jan07_2020/normalized_20200107_sam1_D2O_LightOn_0030_0084.tif',\n",
       "               '/Users/j35/IPTS/IPTS-20267-Jonathan/Jan07_2020/normalized_20200107_sam1_D2O_LightOn_0030_0085.tif',\n",
       "               '/Users/j35/IPTS/IPTS-20267-Jonathan/Jan07_2020/normalized_20200107_sam1_D2O_LightOn_0030_0086.tif',\n",
       "               '/Users/j35/IPTS/IPTS-20267-Jonathan/Jan07_2020/normalized_20200107_sam1_D2O_LightOn_0030_0087.tif',\n",
       "               '/Users/j35/IPTS/IPTS-20267-Jonathan/Jan07_2020/normalized_20200107_sam1_D2O_LightOn_0030_0088.tif',\n",
       "               '/Users/j35/IPTS/IPTS-20267-Jonathan/Jan07_2020/normalized_20200107_sam1_D2O_LightOn_0030_0089.tif',\n",
       "               '/Users/j35/IPTS/IPTS-20267-Jonathan/Jan07_2020/normalized_20200107_sam1_D2O_LightOn_0030_0090.tif',\n",
       "               '/Users/j35/IPTS/IPTS-20267-Jonathan/Jan07_2020/normalized_20200107_sam1_D2O_LightOn_0030_0091.tif',\n",
       "               '/Users/j35/IPTS/IPTS-20267-Jonathan/Jan07_2020/normalized_20200107_sam1_D2O_LightOn_0030_0092.tif']),\n",
       "             (8,\n",
       "              ['/Users/j35/IPTS/IPTS-20267-Jonathan/Jan07_2020/normalized_20200107_sam1_D2O_LightOn_0030_0093.tif',\n",
       "               '/Users/j35/IPTS/IPTS-20267-Jonathan/Jan07_2020/normalized_20200107_sam1_D2O_LightOn_0030_0094.tif',\n",
       "               '/Users/j35/IPTS/IPTS-20267-Jonathan/Jan07_2020/normalized_20200107_sam1_D2O_LightOn_0030_0095.tif',\n",
       "               '/Users/j35/IPTS/IPTS-20267-Jonathan/Jan07_2020/normalized_20200107_sam1_D2O_LightOn_0030_0096.tif',\n",
       "               '/Users/j35/IPTS/IPTS-20267-Jonathan/Jan07_2020/normalized_20200107_sam1_D2O_LightOn_0030_0097.tif',\n",
       "               '/Users/j35/IPTS/IPTS-20267-Jonathan/Jan07_2020/normalized_20200107_sam1_D2O_LightOn_0030_0098.tif',\n",
       "               '/Users/j35/IPTS/IPTS-20267-Jonathan/Jan07_2020/normalized_20200107_sam1_D2O_LightOn_0030_0099.tif',\n",
       "               '/Users/j35/IPTS/IPTS-20267-Jonathan/Jan07_2020/normalized_20200107_sam1_D2O_LightOn_0030_0100.tif',\n",
       "               '/Users/j35/IPTS/IPTS-20267-Jonathan/Jan07_2020/normalized_20200107_sam1_D2O_LightOn_0030_0101.tif']),\n",
       "             (9,\n",
       "              ['/Users/j35/IPTS/IPTS-20267-Jonathan/Jan07_2020/normalized_20200107_sam1_D2O_LightOn_0030_0102.tif',\n",
       "               '/Users/j35/IPTS/IPTS-20267-Jonathan/Jan07_2020/normalized_20200107_sam1_D2O_LightOn_0030_0103.tif',\n",
       "               '/Users/j35/IPTS/IPTS-20267-Jonathan/Jan07_2020/normalized_20200107_sam1_D2O_LightOn_0030_0104.tif',\n",
       "               '/Users/j35/IPTS/IPTS-20267-Jonathan/Jan07_2020/normalized_20200107_sam1_D2O_LightOn_0030_0105.tif',\n",
       "               '/Users/j35/IPTS/IPTS-20267-Jonathan/Jan07_2020/normalized_20200107_sam1_D2O_LightOn_0030_0106.tif',\n",
       "               '/Users/j35/IPTS/IPTS-20267-Jonathan/Jan07_2020/normalized_20200107_sam1_D2O_LightOn_0030_0107.tif',\n",
       "               '/Users/j35/IPTS/IPTS-20267-Jonathan/Jan07_2020/normalized_20200107_sam1_D2O_LightOn_0030_0108.tif',\n",
       "               '/Users/j35/IPTS/IPTS-20267-Jonathan/Jan07_2020/normalized_20200107_sam1_D2O_LightOn_0030_0109.tif',\n",
       "               '/Users/j35/IPTS/IPTS-20267-Jonathan/Jan07_2020/normalized_20200107_sam1_D2O_LightOn_0030_0110.tif']),\n",
       "             (10,\n",
       "              ['/Users/j35/IPTS/IPTS-20267-Jonathan/Jan07_2020/normalized_20200107_sam1_D2O_LightOn_0030_0111.tif',\n",
       "               '/Users/j35/IPTS/IPTS-20267-Jonathan/Jan07_2020/normalized_20200107_sam1_D2O_LightOn_0030_0112.tif',\n",
       "               '/Users/j35/IPTS/IPTS-20267-Jonathan/Jan07_2020/normalized_20200107_sam1_D2O_LightOn_0030_0113.tif',\n",
       "               '/Users/j35/IPTS/IPTS-20267-Jonathan/Jan07_2020/normalized_20200107_sam1_D2O_LightOn_0030_0114.tif',\n",
       "               '/Users/j35/IPTS/IPTS-20267-Jonathan/Jan07_2020/normalized_20200107_sam1_D2O_LightOn_0030_0115.tif',\n",
       "               '/Users/j35/IPTS/IPTS-20267-Jonathan/Jan07_2020/normalized_20200107_sam1_D2O_LightOn_0030_0116.tif',\n",
       "               '/Users/j35/IPTS/IPTS-20267-Jonathan/Jan07_2020/normalized_20200107_sam1_D2O_LightOn_0030_0117.tif',\n",
       "               '/Users/j35/IPTS/IPTS-20267-Jonathan/Jan07_2020/normalized_20200107_sam1_D2O_LightOn_0030_0118.tif',\n",
       "               '/Users/j35/IPTS/IPTS-20267-Jonathan/Jan07_2020/normalized_20200107_sam1_D2O_LightOn_0030_0119.tif']),\n",
       "             (11,\n",
       "              ['/Users/j35/IPTS/IPTS-20267-Jonathan/Jan07_2020/normalized_20200107_sam1_D2O_LightOn_0030_0120.tif',\n",
       "               '/Users/j35/IPTS/IPTS-20267-Jonathan/Jan07_2020/normalized_20200107_sam1_D2O_LightOn_0030_0121.tif',\n",
       "               '/Users/j35/IPTS/IPTS-20267-Jonathan/Jan07_2020/normalized_20200107_sam1_D2O_LightOn_0030_0122.tif',\n",
       "               '/Users/j35/IPTS/IPTS-20267-Jonathan/Jan07_2020/normalized_20200107_sam1_D2O_LightOn_0030_0123.tif',\n",
       "               '/Users/j35/IPTS/IPTS-20267-Jonathan/Jan07_2020/normalized_20200107_sam1_D2O_LightOn_0030_0124.tif',\n",
       "               '/Users/j35/IPTS/IPTS-20267-Jonathan/Jan07_2020/normalized_20200107_sam1_D2O_LightOn_0030_0125.tif',\n",
       "               '/Users/j35/IPTS/IPTS-20267-Jonathan/Jan07_2020/normalized_20200107_sam1_D2O_LightOn_0030_0126.tif',\n",
       "               '/Users/j35/IPTS/IPTS-20267-Jonathan/Jan07_2020/normalized_20200107_sam1_D2O_LightOn_0030_0127.tif',\n",
       "               '/Users/j35/IPTS/IPTS-20267-Jonathan/Jan07_2020/normalized_20200107_sam1_D2O_LightOn_0030_0128.tif']),\n",
       "             (12,\n",
       "              ['/Users/j35/IPTS/IPTS-20267-Jonathan/Jan07_2020/normalized_20200107_sam1_D2O_LightOn_0030_0129.tif',\n",
       "               '/Users/j35/IPTS/IPTS-20267-Jonathan/Jan07_2020/normalized_20200107_sam1_D2O_LightOn_0030_0130.tif',\n",
       "               '/Users/j35/IPTS/IPTS-20267-Jonathan/Jan07_2020/normalized_20200107_sam1_D2O_LightOn_0030_0131.tif',\n",
       "               '/Users/j35/IPTS/IPTS-20267-Jonathan/Jan07_2020/normalized_20200107_sam1_D2O_LightOn_0030_0132.tif',\n",
       "               '/Users/j35/IPTS/IPTS-20267-Jonathan/Jan07_2020/normalized_20200107_sam1_D2O_LightOn_0030_0133.tif',\n",
       "               '/Users/j35/IPTS/IPTS-20267-Jonathan/Jan07_2020/normalized_20200107_sam1_D2O_LightOn_0030_0134.tif',\n",
       "               '/Users/j35/IPTS/IPTS-20267-Jonathan/Jan07_2020/normalized_20200107_sam1_D2O_LightOn_0030_0135.tif',\n",
       "               '/Users/j35/IPTS/IPTS-20267-Jonathan/Jan07_2020/normalized_20200107_sam1_D2O_LightOn_0030_0136.tif',\n",
       "               '/Users/j35/IPTS/IPTS-20267-Jonathan/Jan07_2020/normalized_20200107_sam1_D2O_LightOn_0030_0137.tif']),\n",
       "             (13,\n",
       "              ['/Users/j35/IPTS/IPTS-20267-Jonathan/Jan07_2020/normalized_20200107_sam1_D2O_LightOn_0030_0138.tif',\n",
       "               '/Users/j35/IPTS/IPTS-20267-Jonathan/Jan07_2020/normalized_20200107_sam1_D2O_LightOn_0030_0139.tif',\n",
       "               '/Users/j35/IPTS/IPTS-20267-Jonathan/Jan07_2020/normalized_20200107_sam1_D2O_LightOn_0030_0140.tif',\n",
       "               '/Users/j35/IPTS/IPTS-20267-Jonathan/Jan07_2020/normalized_20200107_sam1_D2O_LightOn_0030_0141.tif',\n",
       "               '/Users/j35/IPTS/IPTS-20267-Jonathan/Jan07_2020/normalized_20200107_sam1_D2O_LightOn_0030_0142.tif',\n",
       "               '/Users/j35/IPTS/IPTS-20267-Jonathan/Jan07_2020/normalized_20200107_sam1_D2O_LightOn_0030_0143.tif',\n",
       "               '/Users/j35/IPTS/IPTS-20267-Jonathan/Jan07_2020/normalized_20200107_sam1_D2O_LightOn_0030_0144.tif',\n",
       "               '/Users/j35/IPTS/IPTS-20267-Jonathan/Jan07_2020/normalized_20200107_sam1_D2O_LightOn_0030_0145.tif',\n",
       "               '/Users/j35/IPTS/IPTS-20267-Jonathan/Jan07_2020/normalized_20200107_sam1_D2O_LightOn_0030_0146.tif']),\n",
       "             (14,\n",
       "              ['/Users/j35/IPTS/IPTS-20267-Jonathan/Jan07_2020/normalized_20200107_sam1_D2O_LightOn_0030_0147.tif',\n",
       "               '/Users/j35/IPTS/IPTS-20267-Jonathan/Jan07_2020/normalized_20200107_sam1_D2O_LightOn_0030_0148.tif',\n",
       "               '/Users/j35/IPTS/IPTS-20267-Jonathan/Jan07_2020/normalized_20200107_sam1_D2O_LightOn_0030_0149.tif',\n",
       "               '/Users/j35/IPTS/IPTS-20267-Jonathan/Jan07_2020/normalized_20200107_sam1_D2O_LightOn_0030_0150.tif',\n",
       "               '/Users/j35/IPTS/IPTS-20267-Jonathan/Jan07_2020/normalized_20200107_sam1_D2O_LightOn_0030_0151.tif',\n",
       "               '/Users/j35/IPTS/IPTS-20267-Jonathan/Jan07_2020/normalized_20200107_sam1_D2O_LightOn_0030_0152.tif',\n",
       "               '/Users/j35/IPTS/IPTS-20267-Jonathan/Jan07_2020/normalized_20200107_sam1_D2O_LightOn_0030_0153.tif',\n",
       "               '/Users/j35/IPTS/IPTS-20267-Jonathan/Jan07_2020/normalized_20200107_sam1_D2O_LightOn_0030_0154.tif',\n",
       "               '/Users/j35/IPTS/IPTS-20267-Jonathan/Jan07_2020/normalized_20200107_sam1_D2O_LightOn_0030_0155.tif']),\n",
       "             (15,\n",
       "              ['/Users/j35/IPTS/IPTS-20267-Jonathan/Jan07_2020/normalized_20200107_sam1_D2O_LightOn_0030_0156.tif',\n",
       "               '/Users/j35/IPTS/IPTS-20267-Jonathan/Jan07_2020/normalized_20200107_sam1_D2O_LightOn_0030_0157.tif',\n",
       "               '/Users/j35/IPTS/IPTS-20267-Jonathan/Jan07_2020/normalized_20200107_sam1_D2O_LightOn_0030_0158.tif',\n",
       "               '/Users/j35/IPTS/IPTS-20267-Jonathan/Jan07_2020/normalized_20200107_sam1_D2O_LightOn_0030_0159.tif',\n",
       "               '/Users/j35/IPTS/IPTS-20267-Jonathan/Jan07_2020/normalized_20200107_sam1_D2O_LightOn_0030_0160.tif',\n",
       "               '/Users/j35/IPTS/IPTS-20267-Jonathan/Jan07_2020/normalized_20200107_sam1_D2O_LightOn_0030_0161.tif',\n",
       "               '/Users/j35/IPTS/IPTS-20267-Jonathan/Jan07_2020/normalized_20200107_sam1_D2O_LightOn_0030_0162.tif',\n",
       "               '/Users/j35/IPTS/IPTS-20267-Jonathan/Jan07_2020/normalized_20200107_sam1_D2O_LightOn_0030_0163.tif',\n",
       "               '/Users/j35/IPTS/IPTS-20267-Jonathan/Jan07_2020/normalized_20200107_sam1_D2O_LightOn_0030_0164.tif']),\n",
       "             (16,\n",
       "              ['/Users/j35/IPTS/IPTS-20267-Jonathan/Jan07_2020/normalized_20200107_sam1_D2O_LightOn_0030_0165.tif',\n",
       "               '/Users/j35/IPTS/IPTS-20267-Jonathan/Jan07_2020/normalized_20200107_sam1_D2O_LightOn_0030_0166.tif',\n",
       "               '/Users/j35/IPTS/IPTS-20267-Jonathan/Jan07_2020/normalized_20200107_sam1_D2O_LightOn_0030_0167.tif',\n",
       "               '/Users/j35/IPTS/IPTS-20267-Jonathan/Jan07_2020/normalized_20200107_sam1_D2O_LightOn_0030_0168.tif',\n",
       "               '/Users/j35/IPTS/IPTS-20267-Jonathan/Jan07_2020/normalized_20200107_sam1_D2O_LightOn_0030_0169.tif',\n",
       "               '/Users/j35/IPTS/IPTS-20267-Jonathan/Jan07_2020/normalized_20200107_sam1_D2O_LightOn_0030_0170.tif',\n",
       "               '/Users/j35/IPTS/IPTS-20267-Jonathan/Jan07_2020/normalized_20200107_sam1_D2O_LightOn_0030_0171.tif',\n",
       "               '/Users/j35/IPTS/IPTS-20267-Jonathan/Jan07_2020/normalized_20200107_sam1_D2O_LightOn_0030_0172.tif',\n",
       "               '/Users/j35/IPTS/IPTS-20267-Jonathan/Jan07_2020/normalized_20200107_sam1_D2O_LightOn_0030_0173.tif']),\n",
       "             (17,\n",
       "              ['/Users/j35/IPTS/IPTS-20267-Jonathan/Jan07_2020/normalized_20200107_sam1_D2O_LightOn_0030_0174.tif',\n",
       "               '/Users/j35/IPTS/IPTS-20267-Jonathan/Jan07_2020/normalized_20200107_sam1_D2O_LightOn_0030_0175.tif',\n",
       "               '/Users/j35/IPTS/IPTS-20267-Jonathan/Jan07_2020/normalized_20200107_sam1_D2O_LightOn_0030_0176.tif',\n",
       "               '/Users/j35/IPTS/IPTS-20267-Jonathan/Jan07_2020/normalized_20200107_sam1_D2O_LightOn_0030_0177.tif',\n",
       "               '/Users/j35/IPTS/IPTS-20267-Jonathan/Jan07_2020/normalized_20200107_sam1_D2O_LightOn_0030_0178.tif',\n",
       "               '/Users/j35/IPTS/IPTS-20267-Jonathan/Jan07_2020/normalized_20200107_sam1_D2O_LightOn_0030_0179.tif',\n",
       "               '/Users/j35/IPTS/IPTS-20267-Jonathan/Jan07_2020/normalized_20200107_sam1_D2O_LightOn_0030_0180.tif',\n",
       "               '/Users/j35/IPTS/IPTS-20267-Jonathan/Jan07_2020/normalized_20200107_sam1_D2O_LightOn_0030_0181.tif',\n",
       "               '/Users/j35/IPTS/IPTS-20267-Jonathan/Jan07_2020/normalized_20200107_sam1_D2O_LightOn_0030_0182.tif']),\n",
       "             (18,\n",
       "              ['/Users/j35/IPTS/IPTS-20267-Jonathan/Jan07_2020/normalized_20200107_sam1_D2O_LightOn_0030_0183.tif',\n",
       "               '/Users/j35/IPTS/IPTS-20267-Jonathan/Jan07_2020/normalized_20200107_sam1_D2O_LightOn_0030_0184.tif',\n",
       "               '/Users/j35/IPTS/IPTS-20267-Jonathan/Jan07_2020/normalized_20200107_sam1_D2O_LightOn_0030_0185.tif',\n",
       "               '/Users/j35/IPTS/IPTS-20267-Jonathan/Jan07_2020/normalized_20200107_sam1_D2O_LightOn_0030_0186.tif',\n",
       "               '/Users/j35/IPTS/IPTS-20267-Jonathan/Jan07_2020/normalized_20200107_sam1_D2O_LightOn_0030_0187.tif',\n",
       "               '/Users/j35/IPTS/IPTS-20267-Jonathan/Jan07_2020/normalized_20200107_sam1_D2O_LightOn_0030_0188.tif',\n",
       "               '/Users/j35/IPTS/IPTS-20267-Jonathan/Jan07_2020/normalized_20200107_sam1_D2O_LightOn_0030_0189.tif',\n",
       "               '/Users/j35/IPTS/IPTS-20267-Jonathan/Jan07_2020/normalized_20200107_sam1_D2O_LightOn_0030_0190.tif',\n",
       "               '/Users/j35/IPTS/IPTS-20267-Jonathan/Jan07_2020/normalized_20200107_sam1_D2O_LightOn_0030_0191.tif']),\n",
       "             (19,\n",
       "              ['/Users/j35/IPTS/IPTS-20267-Jonathan/Jan07_2020/normalized_20200107_sam1_D2O_LightOn_0030_0192.tif',\n",
       "               '/Users/j35/IPTS/IPTS-20267-Jonathan/Jan07_2020/normalized_20200107_sam1_D2O_LightOn_0030_0193.tif',\n",
       "               '/Users/j35/IPTS/IPTS-20267-Jonathan/Jan07_2020/normalized_20200107_sam1_D2O_LightOn_0030_0194.tif',\n",
       "               '/Users/j35/IPTS/IPTS-20267-Jonathan/Jan07_2020/normalized_20200107_sam1_D2O_LightOn_0030_0195.tif',\n",
       "               '/Users/j35/IPTS/IPTS-20267-Jonathan/Jan07_2020/normalized_20200107_sam1_D2O_LightOn_0030_0196.tif',\n",
       "               '/Users/j35/IPTS/IPTS-20267-Jonathan/Jan07_2020/normalized_20200107_sam1_D2O_LightOn_0030_0197.tif',\n",
       "               '/Users/j35/IPTS/IPTS-20267-Jonathan/Jan07_2020/normalized_20200107_sam1_D2O_LightOn_0030_0198.tif',\n",
       "               '/Users/j35/IPTS/IPTS-20267-Jonathan/Jan07_2020/normalized_20200107_sam1_D2O_LightOn_0030_0199.tif',\n",
       "               '/Users/j35/IPTS/IPTS-20267-Jonathan/Jan07_2020/normalized_20200107_sam1_D2O_LightOn_0030_0200.tif']),\n",
       "             (20,\n",
       "              ['/Users/j35/IPTS/IPTS-20267-Jonathan/Jan07_2020/normalized_20200107_sam1_D2O_LightOn_0030_0201.tif',\n",
       "               '/Users/j35/IPTS/IPTS-20267-Jonathan/Jan07_2020/normalized_20200107_sam1_D2O_LightOn_0030_0202.tif',\n",
       "               '/Users/j35/IPTS/IPTS-20267-Jonathan/Jan07_2020/normalized_20200107_sam1_D2O_LightOn_0030_0203.tif',\n",
       "               '/Users/j35/IPTS/IPTS-20267-Jonathan/Jan07_2020/normalized_20200107_sam1_D2O_LightOn_0030_0204.tif',\n",
       "               '/Users/j35/IPTS/IPTS-20267-Jonathan/Jan07_2020/normalized_20200107_sam1_D2O_LightOn_0030_0205.tif',\n",
       "               '/Users/j35/IPTS/IPTS-20267-Jonathan/Jan07_2020/normalized_20200107_sam1_D2O_LightOn_0030_0206.tif',\n",
       "               '/Users/j35/IPTS/IPTS-20267-Jonathan/Jan07_2020/normalized_20200107_sam1_D2O_LightOn_0030_0207.tif',\n",
       "               '/Users/j35/IPTS/IPTS-20267-Jonathan/Jan07_2020/normalized_20200107_sam1_D2O_LightOn_0030_0208.tif',\n",
       "               '/Users/j35/IPTS/IPTS-20267-Jonathan/Jan07_2020/normalized_20200107_sam1_D2O_LightOn_0030_0209.tif']),\n",
       "             (21,\n",
       "              ['/Users/j35/IPTS/IPTS-20267-Jonathan/Jan07_2020/normalized_20200107_sam1_D2O_LightOn_0030_0210.tif',\n",
       "               '/Users/j35/IPTS/IPTS-20267-Jonathan/Jan07_2020/normalized_20200107_sam1_D2O_LightOn_0030_0211.tif',\n",
       "               '/Users/j35/IPTS/IPTS-20267-Jonathan/Jan07_2020/normalized_20200107_sam1_D2O_LightOn_0030_0212.tif',\n",
       "               '/Users/j35/IPTS/IPTS-20267-Jonathan/Jan07_2020/normalized_20200107_sam1_D2O_LightOn_0030_0213.tif',\n",
       "               '/Users/j35/IPTS/IPTS-20267-Jonathan/Jan07_2020/normalized_20200107_sam1_D2O_LightOn_0030_0214.tif',\n",
       "               '/Users/j35/IPTS/IPTS-20267-Jonathan/Jan07_2020/normalized_20200107_sam1_D2O_LightOn_0030_0215.tif',\n",
       "               '/Users/j35/IPTS/IPTS-20267-Jonathan/Jan07_2020/normalized_20200107_sam1_D2O_LightOn_0030_0216.tif',\n",
       "               '/Users/j35/IPTS/IPTS-20267-Jonathan/Jan07_2020/normalized_20200107_sam1_D2O_LightOn_0030_0217.tif',\n",
       "               '/Users/j35/IPTS/IPTS-20267-Jonathan/Jan07_2020/normalized_20200107_sam1_D2O_LightOn_0030_0218.tif']),\n",
       "             (22,\n",
       "              ['/Users/j35/IPTS/IPTS-20267-Jonathan/Jan07_2020/normalized_20200107_sam1_D2O_LightOn_0030_0219.tif',\n",
       "               '/Users/j35/IPTS/IPTS-20267-Jonathan/Jan07_2020/normalized_20200107_sam1_D2O_LightOn_0030_0220.tif',\n",
       "               '/Users/j35/IPTS/IPTS-20267-Jonathan/Jan07_2020/normalized_20200107_sam1_D2O_LightOn_0030_0221.tif',\n",
       "               '/Users/j35/IPTS/IPTS-20267-Jonathan/Jan07_2020/normalized_20200107_sam1_D2O_LightOn_0030_0222.tif',\n",
       "               '/Users/j35/IPTS/IPTS-20267-Jonathan/Jan07_2020/normalized_20200107_sam1_D2O_LightOn_0030_0223.tif',\n",
       "               '/Users/j35/IPTS/IPTS-20267-Jonathan/Jan07_2020/normalized_20200107_sam1_D2O_LightOn_0030_0224.tif',\n",
       "               '/Users/j35/IPTS/IPTS-20267-Jonathan/Jan07_2020/normalized_20200107_sam1_D2O_LightOn_0030_0225.tif',\n",
       "               '/Users/j35/IPTS/IPTS-20267-Jonathan/Jan07_2020/normalized_20200107_sam1_D2O_LightOn_0030_0226.tif',\n",
       "               '/Users/j35/IPTS/IPTS-20267-Jonathan/Jan07_2020/normalized_20200107_sam1_D2O_LightOn_0030_0227.tif']),\n",
       "             (23,\n",
       "              ['/Users/j35/IPTS/IPTS-20267-Jonathan/Jan07_2020/normalized_20200107_sam1_D2O_LightOn_0030_0228.tif',\n",
       "               '/Users/j35/IPTS/IPTS-20267-Jonathan/Jan07_2020/normalized_20200107_sam1_D2O_LightOn_0030_0229.tif',\n",
       "               '/Users/j35/IPTS/IPTS-20267-Jonathan/Jan07_2020/normalized_20200107_sam1_D2O_LightOn_0030_0230.tif',\n",
       "               '/Users/j35/IPTS/IPTS-20267-Jonathan/Jan07_2020/normalized_20200107_sam1_D2O_LightOn_0030_0231.tif',\n",
       "               '/Users/j35/IPTS/IPTS-20267-Jonathan/Jan07_2020/normalized_20200107_sam1_D2O_LightOn_0030_0232.tif',\n",
       "               '/Users/j35/IPTS/IPTS-20267-Jonathan/Jan07_2020/normalized_20200107_sam1_D2O_LightOn_0030_0233.tif',\n",
       "               '/Users/j35/IPTS/IPTS-20267-Jonathan/Jan07_2020/normalized_20200107_sam1_D2O_LightOn_0030_0234.tif',\n",
       "               '/Users/j35/IPTS/IPTS-20267-Jonathan/Jan07_2020/normalized_20200107_sam1_D2O_LightOn_0030_0235.tif',\n",
       "               '/Users/j35/IPTS/IPTS-20267-Jonathan/Jan07_2020/normalized_20200107_sam1_D2O_LightOn_0030_0236.tif']),\n",
       "             (24,\n",
       "              ['/Users/j35/IPTS/IPTS-20267-Jonathan/Jan07_2020/normalized_20200107_sam1_D2O_LightOn_0030_0237.tif',\n",
       "               '/Users/j35/IPTS/IPTS-20267-Jonathan/Jan07_2020/normalized_20200107_sam1_D2O_LightOn_0030_0238.tif',\n",
       "               '/Users/j35/IPTS/IPTS-20267-Jonathan/Jan07_2020/normalized_20200107_sam1_D2O_LightOn_0030_0239.tif',\n",
       "               '/Users/j35/IPTS/IPTS-20267-Jonathan/Jan07_2020/normalized_20200107_sam1_D2O_LightOn_0030_0240.tif',\n",
       "               '/Users/j35/IPTS/IPTS-20267-Jonathan/Jan07_2020/normalized_20200107_sam1_D2O_LightOn_0030_0241.tif',\n",
       "               '/Users/j35/IPTS/IPTS-20267-Jonathan/Jan07_2020/normalized_20200107_sam1_D2O_LightOn_0030_0242.tif',\n",
       "               '/Users/j35/IPTS/IPTS-20267-Jonathan/Jan07_2020/normalized_20200107_sam1_D2O_LightOn_0030_0243.tif',\n",
       "               '/Users/j35/IPTS/IPTS-20267-Jonathan/Jan07_2020/normalized_20200107_sam1_D2O_LightOn_0030_0244.tif',\n",
       "               '/Users/j35/IPTS/IPTS-20267-Jonathan/Jan07_2020/normalized_20200107_sam1_D2O_LightOn_0030_0245.tif']),\n",
       "             (25,\n",
       "              ['/Users/j35/IPTS/IPTS-20267-Jonathan/Jan07_2020/normalized_20200107_sam1_D2O_LightOn_0030_0246.tif',\n",
       "               '/Users/j35/IPTS/IPTS-20267-Jonathan/Jan07_2020/normalized_20200107_sam1_D2O_LightOn_0030_0247.tif',\n",
       "               '/Users/j35/IPTS/IPTS-20267-Jonathan/Jan07_2020/normalized_20200107_sam1_D2O_LightOn_0030_0248.tif',\n",
       "               '/Users/j35/IPTS/IPTS-20267-Jonathan/Jan07_2020/normalized_20200107_sam1_D2O_LightOn_0030_0249.tif',\n",
       "               '/Users/j35/IPTS/IPTS-20267-Jonathan/Jan07_2020/normalized_20200107_sam1_D2O_LightOn_0030_0250.tif',\n",
       "               '/Users/j35/IPTS/IPTS-20267-Jonathan/Jan07_2020/normalized_20200107_sam1_D2O_LightOn_0030_0251.tif',\n",
       "               '/Users/j35/IPTS/IPTS-20267-Jonathan/Jan07_2020/normalized_20200107_sam1_D2O_LightOn_0030_0252.tif',\n",
       "               '/Users/j35/IPTS/IPTS-20267-Jonathan/Jan07_2020/normalized_20200107_sam1_D2O_LightOn_0030_0253.tif',\n",
       "               '/Users/j35/IPTS/IPTS-20267-Jonathan/Jan07_2020/normalized_20200107_sam1_D2O_LightOn_0030_0254.tif']),\n",
       "             (26,\n",
       "              ['/Users/j35/IPTS/IPTS-20267-Jonathan/Jan07_2020/normalized_20200107_sam1_D2O_LightOn_0030_0255.tif',\n",
       "               '/Users/j35/IPTS/IPTS-20267-Jonathan/Jan07_2020/normalized_20200107_sam1_D2O_LightOn_0030_0256.tif',\n",
       "               '/Users/j35/IPTS/IPTS-20267-Jonathan/Jan07_2020/normalized_20200107_sam1_D2O_LightOn_0030_0257.tif',\n",
       "               '/Users/j35/IPTS/IPTS-20267-Jonathan/Jan07_2020/normalized_20200107_sam1_D2O_LightOn_0030_0258.tif',\n",
       "               '/Users/j35/IPTS/IPTS-20267-Jonathan/Jan07_2020/normalized_20200107_sam1_D2O_LightOn_0030_0259.tif',\n",
       "               '/Users/j35/IPTS/IPTS-20267-Jonathan/Jan07_2020/normalized_20200107_sam1_D2O_LightOn_0030_0260.tif',\n",
       "               '/Users/j35/IPTS/IPTS-20267-Jonathan/Jan07_2020/normalized_20200107_sam1_D2O_LightOn_0030_0261.tif',\n",
       "               '/Users/j35/IPTS/IPTS-20267-Jonathan/Jan07_2020/normalized_20200107_sam1_D2O_LightOn_0030_0262.tif',\n",
       "               '/Users/j35/IPTS/IPTS-20267-Jonathan/Jan07_2020/normalized_20200107_sam1_D2O_LightOn_0030_0263.tif']),\n",
       "             (27,\n",
       "              ['/Users/j35/IPTS/IPTS-20267-Jonathan/Jan07_2020/normalized_20200107_sam1_D2O_LightOn_0030_0264.tif',\n",
       "               '/Users/j35/IPTS/IPTS-20267-Jonathan/Jan07_2020/normalized_20200107_sam1_D2O_LightOn_0030_0265.tif',\n",
       "               '/Users/j35/IPTS/IPTS-20267-Jonathan/Jan07_2020/normalized_20200107_sam1_D2O_LightOn_0030_0266.tif',\n",
       "               '/Users/j35/IPTS/IPTS-20267-Jonathan/Jan07_2020/normalized_20200107_sam1_D2O_LightOn_0030_0267.tif',\n",
       "               '/Users/j35/IPTS/IPTS-20267-Jonathan/Jan07_2020/normalized_20200107_sam1_D2O_LightOn_0030_0268.tif',\n",
       "               '/Users/j35/IPTS/IPTS-20267-Jonathan/Jan07_2020/normalized_20200107_sam1_D2O_LightOn_0030_0269.tif',\n",
       "               '/Users/j35/IPTS/IPTS-20267-Jonathan/Jan07_2020/normalized_20200107_sam1_D2O_LightOn_0030_0270.tif',\n",
       "               '/Users/j35/IPTS/IPTS-20267-Jonathan/Jan07_2020/normalized_20200107_sam1_D2O_LightOn_0030_0271.tif',\n",
       "               '/Users/j35/IPTS/IPTS-20267-Jonathan/Jan07_2020/normalized_20200107_sam1_D2O_LightOn_0030_0272.tif']),\n",
       "             (28,\n",
       "              ['/Users/j35/IPTS/IPTS-20267-Jonathan/Jan07_2020/normalized_20200107_sam1_D2O_LightOn_0030_0273.tif',\n",
       "               '/Users/j35/IPTS/IPTS-20267-Jonathan/Jan07_2020/normalized_20200107_sam1_D2O_LightOn_0030_0274.tif',\n",
       "               '/Users/j35/IPTS/IPTS-20267-Jonathan/Jan07_2020/normalized_20200107_sam1_D2O_LightOn_0030_0275.tif',\n",
       "               '/Users/j35/IPTS/IPTS-20267-Jonathan/Jan07_2020/normalized_20200107_sam1_D2O_LightOn_0030_0276.tif',\n",
       "               '/Users/j35/IPTS/IPTS-20267-Jonathan/Jan07_2020/normalized_20200107_sam1_D2O_LightOn_0030_0277.tif',\n",
       "               '/Users/j35/IPTS/IPTS-20267-Jonathan/Jan07_2020/normalized_20200107_sam1_D2O_LightOn_0030_0278.tif',\n",
       "               '/Users/j35/IPTS/IPTS-20267-Jonathan/Jan07_2020/normalized_20200107_sam1_D2O_LightOn_0030_0279.tif',\n",
       "               '/Users/j35/IPTS/IPTS-20267-Jonathan/Jan07_2020/normalized_20200107_sam1_D2O_LightOn_0030_0280.tif',\n",
       "               '/Users/j35/IPTS/IPTS-20267-Jonathan/Jan07_2020/normalized_20200107_sam1_D2O_LightOn_0030_0281.tif']),\n",
       "             (29,\n",
       "              ['/Users/j35/IPTS/IPTS-20267-Jonathan/Jan07_2020/normalized_20200107_sam1_D2O_LightOn_0030_0282.tif',\n",
       "               '/Users/j35/IPTS/IPTS-20267-Jonathan/Jan07_2020/normalized_20200107_sam1_D2O_LightOn_0030_0283.tif',\n",
       "               '/Users/j35/IPTS/IPTS-20267-Jonathan/Jan07_2020/normalized_20200107_sam1_D2O_LightOn_0030_0284.tif',\n",
       "               '/Users/j35/IPTS/IPTS-20267-Jonathan/Jan07_2020/normalized_20200107_sam1_D2O_LightOn_0030_0285.tif',\n",
       "               '/Users/j35/IPTS/IPTS-20267-Jonathan/Jan07_2020/normalized_20200107_sam1_D2O_LightOn_0030_0286.tif',\n",
       "               '/Users/j35/IPTS/IPTS-20267-Jonathan/Jan07_2020/normalized_20200107_sam1_D2O_LightOn_0030_0287.tif',\n",
       "               '/Users/j35/IPTS/IPTS-20267-Jonathan/Jan07_2020/normalized_20200107_sam1_D2O_LightOn_0030_0288.tif',\n",
       "               '/Users/j35/IPTS/IPTS-20267-Jonathan/Jan07_2020/normalized_20200107_sam1_D2O_LightOn_0030_0289.tif',\n",
       "               '/Users/j35/IPTS/IPTS-20267-Jonathan/Jan07_2020/normalized_20200107_sam1_D2O_LightOn_0030_0290.tif']),\n",
       "             (30,\n",
       "              ['/Users/j35/IPTS/IPTS-20267-Jonathan/Jan07_2020/normalized_20200107_sam1_D2O_LightOn_0030_0291.tif',\n",
       "               '/Users/j35/IPTS/IPTS-20267-Jonathan/Jan07_2020/normalized_20200107_sam1_D2O_LightOn_0030_0292.tif',\n",
       "               '/Users/j35/IPTS/IPTS-20267-Jonathan/Jan07_2020/normalized_20200107_sam1_D2O_LightOn_0030_0293.tif',\n",
       "               '/Users/j35/IPTS/IPTS-20267-Jonathan/Jan07_2020/normalized_20200107_sam1_D2O_LightOn_0030_0294.tif',\n",
       "               '/Users/j35/IPTS/IPTS-20267-Jonathan/Jan07_2020/normalized_20200107_sam1_D2O_LightOn_0030_0295.tif',\n",
       "               '/Users/j35/IPTS/IPTS-20267-Jonathan/Jan07_2020/normalized_20200107_sam1_D2O_LightOn_0030_0296.tif',\n",
       "               '/Users/j35/IPTS/IPTS-20267-Jonathan/Jan07_2020/normalized_20200107_sam1_D2O_LightOn_0030_0297.tif',\n",
       "               '/Users/j35/IPTS/IPTS-20267-Jonathan/Jan07_2020/normalized_20200107_sam1_D2O_LightOn_0030_0298.tif',\n",
       "               '/Users/j35/IPTS/IPTS-20267-Jonathan/Jan07_2020/normalized_20200107_sam1_D2O_LightOn_0030_0299.tif']),\n",
       "             (31,\n",
       "              ['/Users/j35/IPTS/IPTS-20267-Jonathan/Jan07_2020/normalized_20200107_sam1_D2O_LightOn_0030_0300.tif',\n",
       "               '/Users/j35/IPTS/IPTS-20267-Jonathan/Jan07_2020/normalized_20200107_sam1_D2O_LightOn_0030_0301.tif',\n",
       "               '/Users/j35/IPTS/IPTS-20267-Jonathan/Jan07_2020/normalized_20200107_sam1_D2O_LightOn_0030_0302.tif',\n",
       "               '/Users/j35/IPTS/IPTS-20267-Jonathan/Jan07_2020/normalized_20200107_sam1_D2O_LightOn_0030_0303.tif',\n",
       "               '/Users/j35/IPTS/IPTS-20267-Jonathan/Jan07_2020/normalized_20200107_sam1_D2O_LightOn_0030_0304.tif',\n",
       "               '/Users/j35/IPTS/IPTS-20267-Jonathan/Jan07_2020/normalized_20200107_sam1_D2O_LightOn_0030_0305.tif',\n",
       "               '/Users/j35/IPTS/IPTS-20267-Jonathan/Jan07_2020/normalized_20200107_sam1_D2O_LightOn_0030_0306.tif',\n",
       "               '/Users/j35/IPTS/IPTS-20267-Jonathan/Jan07_2020/normalized_20200107_sam1_D2O_LightOn_0030_0307.tif',\n",
       "               '/Users/j35/IPTS/IPTS-20267-Jonathan/Jan07_2020/normalized_20200107_sam1_D2O_LightOn_0030_0308.tif']),\n",
       "             (32,\n",
       "              ['/Users/j35/IPTS/IPTS-20267-Jonathan/Jan07_2020/normalized_20200107_sam1_D2O_LightOn_0030_0309.tif',\n",
       "               '/Users/j35/IPTS/IPTS-20267-Jonathan/Jan07_2020/normalized_20200107_sam1_D2O_LightOn_0030_0310.tif',\n",
       "               '/Users/j35/IPTS/IPTS-20267-Jonathan/Jan07_2020/normalized_20200107_sam1_D2O_LightOn_0030_0311.tif'])])"
      ]
     },
     "execution_count": 5,
     "metadata": {},
     "output_type": "execute_result"
    }
   ],
   "source": [
    "o_group.dictionary_of_groups"
   ]
  },
  {
   "cell_type": "markdown",
   "metadata": {
    "run_control": {
     "frozen": false,
     "read_only": false
    }
   },
   "source": [
    "# Select Output Folder where group folder will be created"
   ]
  },
  {
   "cell_type": "code",
   "execution_count": 3,
   "metadata": {
    "run_control": {
     "frozen": false,
     "read_only": false
    }
   },
   "outputs": [
    {
     "data": {
      "application/vnd.jupyter.widget-view+json": {
       "model_id": "",
       "version_major": 2,
       "version_minor": 0
      },
      "text/plain": [
       "VBox(children=(Label(value='select output folder', layout=Layout(width='250px')), VBox(children=(HBox(children…"
      ]
     },
     "metadata": {},
     "output_type": "display_data"
    },
    {
     "data": {
      "application/vnd.jupyter.widget-view+json": {
       "model_id": "",
       "version_major": 2,
       "version_minor": 0
      },
      "text/plain": [
       "HBox(children=(IntProgress(value=0, max=33), Label(value='0/33')))"
      ]
     },
     "metadata": {},
     "output_type": "display_data"
    },
    {
     "data": {
      "text/html": [
       "<span style=\"font-size: 15px; color:blue\">33 folders have been created</span><span style=\"font-size: 15px; color:green\"></span>"
      ],
      "text/plain": [
       "<IPython.core.display.HTML object>"
      ]
     },
     "metadata": {},
     "output_type": "display_data"
    }
   ],
   "source": [
    "o_group.select_output_folder()"
   ]
  },
  {
   "cell_type": "code",
   "execution_count": null,
   "metadata": {},
   "outputs": [],
   "source": []
  }
 ],
 "metadata": {
  "anaconda-cloud": {},
  "kernelspec": {
   "display_name": "Python 3",
   "language": "python",
   "name": "python3"
  },
  "language_info": {
   "codemirror_mode": {
    "name": "ipython",
    "version": 3
   },
   "file_extension": ".py",
   "mimetype": "text/x-python",
   "name": "python",
   "nbconvert_exporter": "python",
   "pygments_lexer": "ipython3",
   "version": "3.6.10"
  },
  "toc": {
   "colors": {
    "hover_highlight": "#DAA520",
    "running_highlight": "#FF0000",
    "selected_highlight": "#FFD700"
   },
   "moveMenuLeft": true,
   "nav_menu": {
    "height": "210px",
    "width": "252px"
   },
   "navigate_menu": true,
   "number_sections": true,
   "sideBar": true,
   "threshold": 4,
   "toc_cell": false,
   "toc_section_display": "block",
   "toc_window_display": false
  }
 },
 "nbformat": 4,
 "nbformat_minor": 1
}
